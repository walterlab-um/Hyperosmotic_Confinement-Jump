{
 "cells": [
  {
   "cell_type": "code",
   "execution_count": 33,
   "metadata": {},
   "outputs": [],
   "source": [
    "import scipy.stats as stats\n",
    "import numpy as np\n",
    "import pandas as pd\n",
    "from tkinter import filedialog\n",
    "import matplotlib.pyplot as plt\n",
    "import seaborn as sns\n",
    "import os\n",
    "from math import ceil\n",
    "from copy import deepcopy\n",
    "from rich.progress import track\n",
    "from statannot import add_stat_annotation"
   ]
  },
  {
   "cell_type": "code",
   "execution_count": 34,
   "metadata": {},
   "outputs": [],
   "source": [
    "# parameters\n",
    "consecutive_window = 3\n",
    "threshold_alpha = 1\n",
    "# threshold_D = 0.15 # um2/s\n",
    "threshold_R2 = 0.5"
   ]
  },
  {
   "cell_type": "code",
   "execution_count": 35,
   "metadata": {},
   "outputs": [],
   "source": [
    "def flag_tracks(df):\n",
    "    track_flags = {}\n",
    "    step_flags = []\n",
    "    trackIDs = df[\"trackID\"].unique()\n",
    "\n",
    "    for track_id in trackIDs:\n",
    "        track_data = df[df[\"trackID\"] == track_id]\n",
    "        high_alpha = track_data[\"alpha\"] > threshold_alpha\n",
    "        step_flags_pertrack = np.repeat(False, track_data.shape[0])\n",
    "\n",
    "        for i in range(len(high_alpha) - (consecutive_window - 1)):\n",
    "            if all(high_alpha[i : i + consecutive_window]):\n",
    "                if (\n",
    "                    np.mean(track_data[\"D\"][i : i + consecutive_window]) > threshold_D\n",
    "                    and np.mean(track_data[\"R2\"][i : i + consecutive_window])\n",
    "                    > threshold_R2\n",
    "                ):\n",
    "                    track_flags[track_id] = True\n",
    "                    step_flags_pertrack[i : i + consecutive_window] = True\n",
    "        step_flags.extend(step_flags_pertrack)\n",
    "\n",
    "    df_out = deepcopy(df)\n",
    "    df_out[\"step_flag\"] = step_flags\n",
    "\n",
    "    return df_out, track_flags"
   ]
  },
  {
   "cell_type": "code",
   "execution_count": 292,
   "metadata": {},
   "outputs": [],
   "source": [
    "csv_file_path = filedialog.askopenfilename(\n",
    "    title=\"Select CSV File\",\n",
    "    filetypes=((\"CSV files\", \"*.csv\"), (\"All files\", \"*.*\")),\n",
    ")"
   ]
  },
  {
   "cell_type": "code",
   "execution_count": 293,
   "metadata": {},
   "outputs": [],
   "source": [
    "df = pd.read_csv(csv_file_path)\n",
    "df_out, track_flags = flag_tracks(df)"
   ]
  },
  {
   "cell_type": "code",
   "execution_count": 294,
   "metadata": {},
   "outputs": [
    {
     "name": "stdout",
     "output_type": "stream",
     "text": [
      "66\n"
     ]
    }
   ],
   "source": [
    "print(len(track_flags))"
   ]
  },
  {
   "cell_type": "code",
   "execution_count": 295,
   "metadata": {},
   "outputs": [
    {
     "name": "stdout",
     "output_type": "stream",
     "text": [
      "66\n",
      "1\n",
      "11\n",
      "17\n",
      "24\n",
      "25\n",
      "36\n",
      "39\n",
      "42\n",
      "46\n",
      "49\n",
      "51\n",
      "52\n",
      "53\n",
      "54\n",
      "60\n",
      "68\n",
      "72\n",
      "73\n",
      "75\n",
      "76\n",
      "77\n",
      "79\n",
      "82\n",
      "84\n",
      "85\n",
      "87\n",
      "91\n",
      "94\n",
      "97\n",
      "98\n",
      "105\n",
      "110\n",
      "117\n",
      "119\n",
      "120\n",
      "122\n",
      "124\n",
      "125\n",
      "130\n",
      "134\n",
      "146\n",
      "150\n",
      "153\n",
      "158\n",
      "161\n",
      "163\n",
      "165\n",
      "168\n",
      "171\n",
      "173\n",
      "183\n",
      "184\n",
      "189\n",
      "193\n",
      "203\n",
      "220\n",
      "248\n",
      "268\n",
      "286\n",
      "290\n",
      "291\n",
      "356\n",
      "358\n",
      "388\n",
      "391\n",
      "425\n"
     ]
    }
   ],
   "source": [
    "df_out.to_csv(csv_file_path[:-4] + \"-wstepflags.csv\", index=False)\n",
    "print(len(track_flags))\n",
    "for track_id, flagged in track_flags.items():\n",
    "    if flagged:\n",
    "        print(track_id)"
   ]
  },
  {
   "cell_type": "code",
   "execution_count": null,
   "metadata": {},
   "outputs": [],
   "source": []
  },
  {
   "cell_type": "code",
   "execution_count": null,
   "metadata": {},
   "outputs": [],
   "source": []
  }
 ],
 "metadata": {
  "kernelspec": {
   "display_name": "spt",
   "language": "python",
   "name": "python3"
  },
  "language_info": {
   "codemirror_mode": {
    "name": "ipython",
    "version": 3
   },
   "file_extension": ".py",
   "mimetype": "text/x-python",
   "name": "python",
   "nbconvert_exporter": "python",
   "pygments_lexer": "ipython3",
   "version": "3.9.18"
  }
 },
 "nbformat": 4,
 "nbformat_minor": 2
}

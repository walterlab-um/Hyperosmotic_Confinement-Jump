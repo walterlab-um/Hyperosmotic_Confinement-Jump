{
 "cells": [
  {
   "cell_type": "code",
   "execution_count": 2,
   "metadata": {},
   "outputs": [],
   "source": [
    "import scipy.stats as stats\n",
    "import numpy as np\n",
    "import pandas as pd\n",
    "from tkinter import filedialog\n",
    "import matplotlib.pyplot as plt\n",
    "import seaborn as sns\n",
    "import os\n",
    "from math import ceil\n",
    "from copy import deepcopy\n",
    "from rich.progress import track\n",
    "from statannot import add_stat_annotation"
   ]
  },
  {
   "cell_type": "code",
   "execution_count": 16,
   "metadata": {},
   "outputs": [],
   "source": [
    "# parameters\n",
    "consecutive_window = 3\n",
    "threshold_alpha = 1\n",
    "threshold_D = 0.15 # um2/s\n",
    "threshold_R2 = 0.5\n",
    "threshold_step_size = 5 # pixels\n",
    "disp_threshold = 10"
   ]
  },
  {
   "cell_type": "code",
   "execution_count": 3,
   "metadata": {},
   "outputs": [],
   "source": [
    "def find_consecutive_true_ranges(bool_array):\n",
    "    ranges = []\n",
    "    n = len(bool_array)\n",
    "    i = 0\n",
    "\n",
    "    while i < n:\n",
    "        if bool_array[i]:\n",
    "            start = i\n",
    "            while i < n and bool_array[i]:\n",
    "                i += 1\n",
    "            end = i - 1\n",
    "            ranges.append((start, end))\n",
    "        i += 1\n",
    "\n",
    "    return ranges\n",
    "\n",
    "\n",
    "def flag_tracks(df):\n",
    "    track_flags = {}\n",
    "    step_flags = []\n",
    "    trackIDs = df[\"trackID\"].unique()\n",
    "\n",
    "    for track_id in trackIDs:\n",
    "        track_data = df[df[\"trackID\"] == track_id]\n",
    "        step_flags_pertrack = np.repeat(False, track_data.shape[0])\n",
    "        high_alpha = track_data[\"alpha\"] > threshold_alpha\n",
    "        ranges = find_consecutive_true_ranges(high_alpha)\n",
    "        for start, end in ranges:\n",
    "            if end - start + 1 >= consecutive_window:\n",
    "                mean_D = np.mean(track_data[\"D\"][start : end + 1])\n",
    "                mean_R2 = np.mean(track_data[\"R2\"][start : end + 1])\n",
    "                mean_stepsize = np.mean(track_data[\"step_sizes\"][start : end + 1])\n",
    "                x_start = track_data[\"x\"][start]\n",
    "                x_end = track_data[\"x\"][end]\n",
    "                y_start = track_data[\"y\"][start]\n",
    "                y_end = track_data[\"y\"][end]\n",
    "                disp = np.sqrt((x_start - x_end) ** 2 + (y_start - y_end) ** 2)\n",
    "                if (\n",
    "                    mean_D > threshold_D\n",
    "                    and mean_R2 > threshold_R2\n",
    "                    and mean_stepsize > threshold_step_size\n",
    "                    and disp > disp_threshold\n",
    "                ):\n",
    "                    track_flags[track_id] = True\n",
    "                    step_flags_pertrack[start : end + 1] = True\n",
    "\n",
    "        step_flags.extend(step_flags_pertrack)\n",
    "\n",
    "    df_out = deepcopy(df)\n",
    "    df_out[\"step_flag\"] = step_flags\n",
    "\n",
    "    return df_out, track_flags"
   ]
  },
  {
   "cell_type": "code",
   "execution_count": 8,
   "metadata": {},
   "outputs": [
    {
     "name": "stdout",
     "output_type": "stream",
     "text": [
      "4 7\n",
      "True\n",
      "10 11\n",
      "False\n"
     ]
    }
   ],
   "source": [
    "test = [\n",
    "    False,\n",
    "    False,\n",
    "    False,\n",
    "    False,\n",
    "    True,\n",
    "    True,\n",
    "    True,\n",
    "    True,\n",
    "    False,\n",
    "    False,\n",
    "    True,\n",
    "    True,\n",
    "    False,\n",
    "    False,\n",
    "]\n",
    "consecutive_window = 3\n",
    "ranges = find_consecutive_true_ranges(test)\n",
    "for start, end in ranges:\n",
    "    print(start, end)\n",
    "    print(end - start + 1 >= consecutive_window)"
   ]
  },
  {
   "cell_type": "code",
   "execution_count": null,
   "metadata": {},
   "outputs": [],
   "source": [
    "        # for i in range(len(high_alpha) - (consecutive_window - 1)):\n",
    "        #     if all(high_alpha[i : i + consecutive_window]):\n",
    "        #         if (\n",
    "        #             np.mean(track_data[\"D\"][i : i + consecutive_window]) > threshold_D\n",
    "        #             and np.mean(track_data[\"R2\"][i : i + consecutive_window])\n",
    "        #             > threshold_R2\n",
    "        #             and np.mean(track_data[\"step_sizes\"][i : i + consecutive_window])\n",
    "        #             > threshold_step_size\n",
    "        #         ):\n",
    "        #             track_flags[track_id] = True\n",
    "        #             step_flags_pertrack[i : i + consecutive_window] = True"
   ]
  },
  {
   "cell_type": "code",
   "execution_count": 18,
   "metadata": {},
   "outputs": [],
   "source": [
    "csv_file_path = filedialog.askopenfilename(\n",
    "    title=\"Select CSV File\",\n",
    "    filetypes=((\"CSV files\", \"*.csv\"), (\"All files\", \"*.*\")),\n",
    ")"
   ]
  },
  {
   "cell_type": "code",
   "execution_count": 19,
   "metadata": {},
   "outputs": [],
   "source": [
    "df = pd.read_csv(csv_file_path)\n",
    "df_out, track_flags = flag_tracks(df)"
   ]
  },
  {
   "cell_type": "code",
   "execution_count": 21,
   "metadata": {},
   "outputs": [
    {
     "name": "stdout",
     "output_type": "stream",
     "text": [
      "1\n",
      "6\n"
     ]
    }
   ],
   "source": [
    "df_out.to_csv(csv_file_path[:-4] + \"-wstepflags.csv\", index=False)\n",
    "print(len(track_flags))\n",
    "for track_id, flagged in track_flags.items():\n",
    "    if flagged:\n",
    "        print(track_id)"
   ]
  },
  {
   "cell_type": "code",
   "execution_count": null,
   "metadata": {},
   "outputs": [],
   "source": []
  },
  {
   "cell_type": "code",
   "execution_count": null,
   "metadata": {},
   "outputs": [],
   "source": []
  }
 ],
 "metadata": {
  "kernelspec": {
   "display_name": "spt",
   "language": "python",
   "name": "python3"
  },
  "language_info": {
   "codemirror_mode": {
    "name": "ipython",
    "version": 3
   },
   "file_extension": ".py",
   "mimetype": "text/x-python",
   "name": "python",
   "nbconvert_exporter": "python",
   "pygments_lexer": "ipython3",
   "version": "3.9.16"
  }
 },
 "nbformat": 4,
 "nbformat_minor": 2
}

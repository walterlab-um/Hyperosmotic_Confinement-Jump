{
 "cells": [
  {
   "cell_type": "code",
   "execution_count": 15,
   "metadata": {},
   "outputs": [],
   "source": [
    "import scipy.stats as stats\n",
    "import numpy as np\n",
    "import pandas as pd\n",
    "from tkinter import filedialog\n",
    "import matplotlib.pyplot as plt\n",
    "import seaborn as sns\n",
    "import os\n",
    "from math import ceil\n",
    "from copy import deepcopy\n",
    "from rich.progress import track\n",
    "from statannot import add_stat_annotation"
   ]
  },
  {
   "cell_type": "code",
   "execution_count": 16,
   "metadata": {},
   "outputs": [],
   "source": [
    "# parameters\n",
    "consecutive_window = 3\n",
    "threshold_alpha = 1\n",
    "threshold_D = 0.15 # um2/s\n",
    "threshold_R2 = 0.5\n",
    "threshold_step_size = 5 # pixels"
   ]
  },
  {
   "cell_type": "code",
   "execution_count": 17,
   "metadata": {},
   "outputs": [],
   "source": [
    "def flag_tracks(df):\n",
    "    track_flags = {}\n",
    "    step_flags = []\n",
    "    trackIDs = df[\"trackID\"].unique()\n",
    "\n",
    "    for track_id in trackIDs:\n",
    "        track_data = df[df[\"trackID\"] == track_id]\n",
    "        high_alpha = track_data[\"alpha\"] > threshold_alpha\n",
    "        step_flags_pertrack = np.repeat(False, track_data.shape[0])\n",
    "\n",
    "        for i in range(len(high_alpha) - (consecutive_window - 1)):\n",
    "            if all(high_alpha[i : i + consecutive_window]):\n",
    "                if (\n",
    "                    np.mean(track_data[\"D\"][i : i + consecutive_window]) > threshold_D\n",
    "                    and np.mean(track_data[\"R2\"][i : i + consecutive_window])\n",
    "                    > threshold_R2\n",
    "                    and np.mean(track_data[\"step_sizes\"][i : i + consecutive_window])\n",
    "                    > threshold_step_size\n",
    "                ):\n",
    "                    track_flags[track_id] = True\n",
    "                    step_flags_pertrack[i : i + consecutive_window] = True\n",
    "        step_flags.extend(step_flags_pertrack)\n",
    "\n",
    "    df_out = deepcopy(df)\n",
    "    df_out[\"step_flag\"] = step_flags\n",
    "\n",
    "    return df_out, track_flags"
   ]
  },
  {
   "cell_type": "code",
   "execution_count": 18,
   "metadata": {},
   "outputs": [],
   "source": [
    "csv_file_path = filedialog.askopenfilename(\n",
    "    title=\"Select CSV File\",\n",
    "    filetypes=((\"CSV files\", \"*.csv\"), (\"All files\", \"*.*\")),\n",
    ")"
   ]
  },
  {
   "cell_type": "code",
   "execution_count": 19,
   "metadata": {},
   "outputs": [],
   "source": [
    "df = pd.read_csv(csv_file_path)\n",
    "df_out, track_flags = flag_tracks(df)"
   ]
  },
  {
   "cell_type": "code",
   "execution_count": 20,
   "metadata": {},
   "outputs": [
    {
     "name": "stdout",
     "output_type": "stream",
     "text": [
      "1\n"
     ]
    }
   ],
   "source": [
    "print(len(track_flags))"
   ]
  },
  {
   "cell_type": "code",
   "execution_count": 21,
   "metadata": {},
   "outputs": [
    {
     "name": "stdout",
     "output_type": "stream",
     "text": [
      "1\n",
      "6\n"
     ]
    }
   ],
   "source": [
    "df_out.to_csv(csv_file_path[:-4] + \"-wstepflags.csv\", index=False)\n",
    "print(len(track_flags))\n",
    "for track_id, flagged in track_flags.items():\n",
    "    if flagged:\n",
    "        print(track_id)"
   ]
  },
  {
   "cell_type": "code",
   "execution_count": null,
   "metadata": {},
   "outputs": [],
   "source": []
  },
  {
   "cell_type": "code",
   "execution_count": null,
   "metadata": {},
   "outputs": [],
   "source": []
  }
 ],
 "metadata": {
  "kernelspec": {
   "display_name": "spt",
   "language": "python",
   "name": "python3"
  },
  "language_info": {
   "codemirror_mode": {
    "name": "ipython",
    "version": 3
   },
   "file_extension": ".py",
   "mimetype": "text/x-python",
   "name": "python",
   "nbconvert_exporter": "python",
   "pygments_lexer": "ipython3",
   "version": "3.9.18"
  }
 },
 "nbformat": 4,
 "nbformat_minor": 2
}

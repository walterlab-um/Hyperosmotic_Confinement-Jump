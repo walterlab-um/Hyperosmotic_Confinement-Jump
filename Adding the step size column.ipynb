{
 "cells": [
  {
   "cell_type": "code",
   "execution_count": 7,
   "metadata": {},
   "outputs": [],
   "source": [
    "import pandas as pd\n",
    "import numpy as np\n",
    "from rich.progress import track\n",
    "from tkinter import filedialog\n",
    "import os\n",
    "\n",
    "pd.options.mode.chained_assignment = None  "
   ]
  },
  {
   "cell_type": "code",
   "execution_count": 8,
   "metadata": {},
   "outputs": [],
   "source": [
    "um_per_pixel = 0.117\n",
    "s_per_frame = 2"
   ]
  },
  {
   "cell_type": "code",
   "execution_count": 9,
   "metadata": {},
   "outputs": [],
   "source": [
    "def calculate_step_sizes_and_add_column (csv_file_path):\n",
    "    dtype_dict = {\"t\": \"float64\", \"x\": \"float64\", \"y\": \"float64\", \"trackID\": \"object\"}\n",
    "\n",
    "    df = pd.read_csv(csv_file_path, dtype=dtype_dict)\n",
    "\n",
    "    df = df.dropna(subset=[\"t\", \"x\", \"y\"])\n",
    "    df[\"trackID\"] = pd.to_numeric(df[\"trackID\"], errors=\"coerce\").astype(\"Int64\")\n",
    "    df = df.dropna(subset=[\"trackID\"])\n",
    "\n",
    "    # df[\"t\"] *= s_per_frame\n",
    "    # df[\"x\"] *= um_per_pixel\n",
    "    # df[\"y\"] *= um_per_pixel\n",
    "\n",
    "    df[\"step_sizes\"] = np.nan\n",
    "\n",
    "    track_ids = df[\"trackID\"].unique()\n",
    "\n",
    "    for track_id in track_ids:\n",
    "        track_data = df[df[\"trackID\"] == track_id]\n",
    "        sorted_track_data = track_data.sort_values(by=\"t\")\n",
    "\n",
    "        x_diffs = np.diff(sorted_track_data[\"x\"])\n",
    "        y_diffs = np.diff(sorted_track_data[\"y\"])\n",
    "        step_sizes = np.sqrt(x_diffs ** 2 + y_diffs ** 2)\n",
    "\n",
    "        step_sizes = np.insert(step_sizes, 0, np.nan)\n",
    "        sorted_track_data[\"step_sizes\"] = step_sizes\n",
    "\n",
    "        df.loc[sorted_track_data.index, 'step_sizes'] = step_sizes\n",
    "\n",
    "    return df\n"
   ]
  },
  {
   "cell_type": "code",
   "execution_count": 52,
   "metadata": {},
   "outputs": [],
   "source": [
    "csv_file_path = filedialog.askopenfilename(\n",
    "    title=\"Select CSV Files for No drug_2x\",\n",
    "    filetypes=((\"CSV files\", \"*.csv\"), (\"All files\", \"*.*\")),\n",
    ")"
   ]
  },
  {
   "cell_type": "code",
   "execution_count": 53,
   "metadata": {},
   "outputs": [],
   "source": [
    "modified_df = calculate_step_sizes_and_add_column(csv_file_path)"
   ]
  },
  {
   "cell_type": "code",
   "execution_count": 54,
   "metadata": {},
   "outputs": [],
   "source": [
    "directory = os.path.dirname(csv_file_path)\n",
    "base_file_name = os.path.splitext(os.path.basename(csv_file_path))[0]\n",
    "new_file_name = f\"{base_file_name}_with_step_sizes.csv\"\n",
    "new_csv_path = os.path.join(directory, new_file_name)\n",
    "\n",
    "modified_df.to_csv(new_csv_path, index=False)"
   ]
  },
  {
   "cell_type": "code",
   "execution_count": null,
   "metadata": {},
   "outputs": [],
   "source": []
  }
 ],
 "metadata": {
  "kernelspec": {
   "display_name": "spt",
   "language": "python",
   "name": "python3"
  },
  "language_info": {
   "codemirror_mode": {
    "name": "ipython",
    "version": 3
   },
   "file_extension": ".py",
   "mimetype": "text/x-python",
   "name": "python",
   "nbconvert_exporter": "python",
   "pygments_lexer": "ipython3",
   "version": "3.9.18"
  }
 },
 "nbformat": 4,
 "nbformat_minor": 2
}

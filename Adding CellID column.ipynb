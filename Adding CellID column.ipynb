{
 "cells": [
  {
   "cell_type": "code",
   "execution_count": null,
   "metadata": {},
   "outputs": [],
   "source": [
    "import pandas as pd\n",
    "from shapely.geometry import Point, Polygon\n",
    "import os\n",
    "import tkinter as tk\n",
    "from tkinter import filedialog"
   ]
  },
  {
   "cell_type": "code",
   "execution_count": null,
   "metadata": {},
   "outputs": [],
   "source": [
    "def load_cell_polygons(cell_boundary_folder):\n",
    "    cell_polygons = {}\n",
    "    for cell_file in os.listdir(cell_boundary_folder):\n",
    "        if cell_file.endswith(\".txt\"):\n",
    "            fov_name_and_cell = cell_file.replace(\".txt\", \"\")\n",
    "            fov_name,_,cell_num = fov_name_and_cell.repartition('_cell')\n",
    "            if fov_name not in cell_polygons:\n",
    "                cell_polygons[fov_name] = []\n",
    "            cell_outline_coordinates = pd.read_csv (os.path.join(cell_boundary_folder, cell_file), sep=\"\\t\", header=None)\n",
    "\n",
    "            coords_roi = [tuple(row) for _, row in cell_outline_coordinates.iterrows()]\n",
    "            cell_polygon = Polygon(coords_roi)\n",
    "            cell_polygons[fov_name].append((cell_polygon, cell_num))\n",
    "    return cell_polygons            "
   ]
  },
  {
   "cell_type": "code",
   "execution_count": null,
   "metadata": {},
   "outputs": [],
   "source": [
    "def assign_cellID_to_tracks(track_df, cell_polygons_dict):\n",
    "    track_df['cellID'] = 'cell1'\n",
    "    for fov_name, polygons_info in cell_polygons_dict.items():\n",
    "        tracks_in_fov = track_df[track_df['fov_name'] == fov_name]\n",
    "        for index, track in tracks_in_fov.iterrows():\n",
    "            point = Point(track['x_mean'], track['y_mean'])\n",
    "            for polygon, cell_id in polygons_info:\n",
    "                if point.within(polygon):\n",
    "                    track_df.at[index,'cellID'] = f\"cell{cell_id}\"\n",
    "                    break\n",
    "    \n",
    "    return track_df"
   ]
  },
  {
   "cell_type": "code",
   "execution_count": null,
   "metadata": {},
   "outputs": [],
   "source": [
    "if __name__==\"__main__\":\n",
    "    root = tk.Tk()\n",
    "    root.withdraw"
   ]
  },
  {
   "cell_type": "code",
   "execution_count": null,
   "metadata": {},
   "outputs": [],
   "source": [
    "cell_boundary_folder = filedialog.askdirectory(title=\"Select folder containing cell boundary files\")"
   ]
  },
  {
   "cell_type": "code",
   "execution_count": null,
   "metadata": {},
   "outputs": [],
   "source": [
    "cell_polygons_dict = load_cell_polygons (cell_boundary_folder)"
   ]
  },
  {
   "cell_type": "code",
   "execution_count": null,
   "metadata": {},
   "outputs": [],
   "source": [
    "csv_file_path = filedialog.askdirectory(\n",
    "    title=\"Select the track CSV File\"\n",
    "    filetypes=((\"CSV files\", \"*.csv\")),\n",
    ")"
   ]
  },
  {
   "cell_type": "code",
   "execution_count": null,
   "metadata": {},
   "outputs": [],
   "source": [
    "track_df = pd.read_csv(csv_file_path)"
   ]
  },
  {
   "cell_type": "code",
   "execution_count": null,
   "metadata": {},
   "outputs": [],
   "source": [
    "track_df['x_mean'] = track_df.groupby('fov_name')['x'].transform('mean')\n",
    "track_df['y_mean'] = track_df.groupby('fov_name')['y'].transform('mean')"
   ]
  },
  {
   "cell_type": "code",
   "execution_count": null,
   "metadata": {},
   "outputs": [],
   "source": [
    "track_df_with_cellID = assign_cellID_to_tracks(track_df, cell_polygons_dict)"
   ]
  },
  {
   "cell_type": "code",
   "execution_count": null,
   "metadata": {},
   "outputs": [],
   "source": [
    "output_file_path = csv_file_path.replace(\".csv\", \"_with_CellIDs.csv\")\n",
    "track_df_with_cellID.to_csv(output_file_path,index=False)\n",
    "print(f\"Updated track data with cell IDs has been saved to: {output_file_path}\")"
   ]
  },
  {
   "cell_type": "code",
   "execution_count": null,
   "metadata": {},
   "outputs": [],
   "source": []
  }
 ],
 "metadata": {
  "kernelspec": {
   "display_name": "spt",
   "language": "python",
   "name": "python3"
  },
  "language_info": {
   "name": "python",
   "version": "3.9.18"
  }
 },
 "nbformat": 4,
 "nbformat_minor": 2
}

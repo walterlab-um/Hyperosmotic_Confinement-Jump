{
 "cells": [
  {
   "cell_type": "code",
   "execution_count": 1,
   "metadata": {},
   "outputs": [],
   "source": [
    "import pandas as pd\n",
    "import numpy as np\n",
    "from shapely.geometry import Point, Polygon\n",
    "import os\n",
    "import tkinter as tk\n",
    "from tkinter import filedialog"
   ]
  },
  {
   "cell_type": "code",
   "execution_count": 2,
   "metadata": {},
   "outputs": [],
   "source": [
    "# defining cell_polygon function\n",
    "\n",
    "def load_cell_polygons(cell_boundary_folder, fov_name):\n",
    "    cell_polygons = []\n",
    "    for cell_file in os.listdir(cell_boundary_folder):\n",
    "        if cell_file.startswith(f\"{fov_name}_cell\"):\n",
    "            cell_num = cell_file.split('_cell')[1].replace('.txt', '')\n",
    "            cell_outline_coordinates = pd.read_csv(os.path.join(cell_boundary_folder, cell_file), sep=\"\\t\", header=None)\n",
    "            coords_roi = [tuple(row) for _, row in cell_outline_coordinates.iterrows()]\n",
    "            cell_polygon = Polygon(coords_roi)\n",
    "            cell_polygons.append((cell_polygon, cell_num))\n",
    "\n",
    "    return cell_polygons          "
   ]
  },
  {
   "cell_type": "code",
   "execution_count": 3,
   "metadata": {},
   "outputs": [],
   "source": [
    "def assign_cellID_to_tracks(df, cell_polygons, trackID):\n",
    "    df['x_mean'] = df.groupby(trackID)['x'].transform(np.mean)\n",
    "    df['y_mean'] = df.groupby(trackID)['y'].transform(np.mean)\n",
    "\n",
    "    track_to_cellID = {}\n",
    "\n",
    "    for name, group in df.groupby(trackID):\n",
    "        point = Point(group.iloc[0]['x_mean'], group.iloc[0]['y_mean'])\n",
    "        cellID = 'cell1'\n",
    "                               \n",
    "        for polygon, cell_num in cell_polygons:\n",
    "            if point.within(polygon):\n",
    "                cellID = f\"cell{cell_num}\"\n",
    "                break\n",
    "\n",
    "        track_to_cellID[name] = cellID\n",
    "\n",
    "    df['cellID'] = df[trackID].map(track_to_cellID)\n",
    "    return df"
   ]
  },
  {
   "cell_type": "code",
   "execution_count": 201,
   "metadata": {},
   "outputs": [],
   "source": [
    "csv_file_path = filedialog.askopenfilename(\n",
    "    title=\"Select the track CSV File\",\n",
    "    filetypes=[(\"CSV files\", \"*.csv\")]  \n",
    ")"
   ]
  },
  {
   "cell_type": "code",
   "execution_count": 202,
   "metadata": {},
   "outputs": [],
   "source": [
    "cell_boundary_folder = filedialog.askdirectory(title=\"Select folder containing cell boundary files\")"
   ]
  },
  {
   "cell_type": "code",
   "execution_count": 203,
   "metadata": {},
   "outputs": [
    {
     "name": "stdout",
     "output_type": "stream",
     "text": [
      "Updated track data with cell IDs has been saved to: Z:/Bisal_Halder_turbo/PROCESSED_DATA/Impact_of_cytoskeleton_on_HOPS_condensates/LatrunculinA/5uM/2x/Analysed Data/60min/Alpha, D and stepsizes calculated/20240321_UGD-2x-2s-5uM-LatrunculinA-60min-replicate2-FOV-3_with_cellIDs.csv\n"
     ]
    }
   ],
   "source": [
    "if csv_file_path and cell_boundary_folder:\n",
    "    fov_name = os.path.splitext(os.path.basename(csv_file_path))[0]\n",
    "    cell_polygons = load_cell_polygons(cell_boundary_folder, fov_name)\n",
    "\n",
    "    track_df = pd.read_csv(csv_file_path)\n",
    "\n",
    "    track_df_with_cellID = assign_cellID_to_tracks(track_df, cell_polygons, \"trackID\")\n",
    "\n",
    "    output_file_path = csv_file_path.replace(\".csv\", \"_with_cellIDs.csv\")\n",
    "    track_df_with_cellID.to_csv(output_file_path, index=False)\n",
    "    print(f\"Updated track data with cell IDs has been saved to: {output_file_path}\")"
   ]
  },
  {
   "cell_type": "code",
   "execution_count": null,
   "metadata": {},
   "outputs": [],
   "source": []
  }
 ],
 "metadata": {
  "kernelspec": {
   "display_name": "spt",
   "language": "python",
   "name": "python3"
  },
  "language_info": {
   "codemirror_mode": {
    "name": "ipython",
    "version": 3
   },
   "file_extension": ".py",
   "mimetype": "text/x-python",
   "name": "python",
   "nbconvert_exporter": "python",
   "pygments_lexer": "ipython3",
   "version": "3.9.18"
  }
 },
 "nbformat": 4,
 "nbformat_minor": 2
}

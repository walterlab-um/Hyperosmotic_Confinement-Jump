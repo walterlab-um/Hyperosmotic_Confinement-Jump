{
 "cells": [
  {
   "cell_type": "markdown",
   "metadata": {},
   "source": [
    "## Regular PCC of HOPS and ER"
   ]
  },
  {
   "cell_type": "code",
   "execution_count": 1,
   "metadata": {},
   "outputs": [],
   "source": [
    "from tifffile import imread\n",
    "import os\n",
    "import matplotlib.pyplot as plt\n",
    "import numpy as np\n",
    "from scipy.stats import pearsonr, sem\n",
    "import pandas as pd\n",
    "import seaborn as sns\n",
    "from rich.progress import track\n",
    "\n",
    "sns.set(color_codes=True, style=\"white\")\n",
    "pd.options.mode.chained_assignment = None  # default='warn'"
   ]
  },
  {
   "cell_type": "code",
   "execution_count": 9,
   "metadata": {},
   "outputs": [],
   "source": [
    "folder = r\"Z:\\Bisal_Halder_turbo\\PROCESSED_DATA\\Impact_of_cytoskeleton_on_HOPS_condensates\\HOPS_ER_dual imaging\\no_drug\\Analysed data\\After bandpass filtering\\All together\"\n",
    "os.chdir(folder)\n",
    "\n",
    "lst_fname_ER = [f for f in os.listdir(\".\") if f.endswith(\"-even-bandpass.tif\")]\n",
    "lst_fname_condensate = [f for f in os.listdir(\".\") if f.endswith(\"-odd-bandpass.tif\")]\n",
    "fontsize = 18"
   ]
  },
  {
   "cell_type": "code",
   "execution_count": 10,
   "metadata": {},
   "outputs": [
    {
     "data": {
      "application/vnd.jupyter.widget-view+json": {
       "model_id": "ec9c2194addf4cbfb941508e9b09f188",
       "version_major": 2,
       "version_minor": 0
      },
      "text/plain": [
       "Output()"
      ]
     },
     "metadata": {},
     "output_type": "display_data"
    },
    {
     "data": {
      "text/html": [
       "<pre style=\"white-space:pre;overflow-x:auto;line-height:normal;font-family:Menlo,'DejaVu Sans Mono',consolas,'Courier New',monospace\"></pre>\n"
      ],
      "text/plain": []
     },
     "metadata": {},
     "output_type": "display_data"
    },
    {
     "data": {
      "text/html": [
       "<pre style=\"white-space:pre;overflow-x:auto;line-height:normal;font-family:Menlo,'DejaVu Sans Mono',consolas,'Courier New',monospace\">\n",
       "</pre>\n"
      ],
      "text/plain": [
       "\n"
      ]
     },
     "metadata": {},
     "output_type": "display_data"
    }
   ],
   "source": [
    "# List to store Pearson correlation coefficients\n",
    "lst_corr = []\n",
    "\n",
    "for fname_ER in track(lst_fname_ER):\n",
    "    fname_condensate = fname_ER.replace(\"-even-bandpass.tif\", \"-odd-bandpass.tif\")\n",
    "    video1 = imread(fname_condensate)\n",
    "    video2 = imread(fname_ER)\n",
    "    video1_flatten = video1.flatten()\n",
    "    video2_flatten = video2.flatten()\n",
    "\n",
    "    # Calculate regular Pearson correlation\n",
    "    corr, _ = pearsonr(video1_flatten, video2_flatten)\n",
    "    lst_corr.append(corr)"
   ]
  },
  {
   "cell_type": "code",
   "execution_count": 11,
   "metadata": {},
   "outputs": [
    {
     "name": "stdout",
     "output_type": "stream",
     "text": [
      "0.13300029135604877 0.015226137647432216\n"
     ]
    },
    {
     "data": {
      "image/png": "[encoded data removed]",
      "text/plain": [
       "<Figure size 300x300 with 1 Axes>"
      ]
     },
     "metadata": {},
     "output_type": "display_data"
    }
   ],
   "source": [
    "# Plot the histogram of Pearson correlation coefficients\n",
    "pcc_abs_max = 0.2\n",
    "plt.figure(figsize=(3, 3))\n",
    "df = pd.DataFrame({\"value\": lst_corr}, dtype=float)\n",
    "sns.histplot(\n",
    "    data=df,\n",
    "    x=\"value\",\n",
    "    bins=14,\n",
    "    binrange=(-pcc_abs_max, pcc_abs_max),\n",
    "    stat=\"probability\",\n",
    "    lw=2,\n",
    "    element=\"step\",\n",
    "    color=\"gray\",\n",
    ")\n",
    "plt.axvline(0, c=\"k\", lw=2, ls=\"--\")\n",
    "plt.xlim(-pcc_abs_max, pcc_abs_max)\n",
    "plt.xlabel(\"PCC\", fontsize=fontsize)\n",
    "plt.ylabel(\"Probability\", fontsize=fontsize)\n",
    "plt.gca().tick_params(\n",
    "    axis=\"both\",\n",
    "    which=\"major\",\n",
    "    labelsize=fontsize,\n",
    "    direction=\"in\",\n",
    "    bottom=True,\n",
    "    left=True,\n",
    "    length=5,\n",
    "    width=1,\n",
    ")\n",
    "plt.tight_layout()\n",
    "plt.savefig(\"pearson_FlocRloc.png\", format=\"png\", dpi=300, bbox_inches=\"tight\")\n",
    "\n",
    "# Print the mean and standard error of the mean (SEM) of the Pearson correlation coefficients\n",
    "print(np.mean(lst_corr), sem(lst_corr))"
   ]
  },
  {
   "cell_type": "markdown",
   "metadata": {},
   "source": [
    "## Regular PCC of HOPS and Lys"
   ]
  },
  {
   "cell_type": "code",
   "execution_count": 46,
   "metadata": {},
   "outputs": [],
   "source": [
    "from tifffile import imread\n",
    "import os\n",
    "import matplotlib.pyplot as plt\n",
    "import numpy as np\n",
    "from scipy.stats import pearsonr, sem\n",
    "import pandas as pd\n",
    "import seaborn as sns\n",
    "from rich.progress import track\n",
    "\n",
    "sns.set(color_codes=True, style=\"white\")\n",
    "pd.options.mode.chained_assignment = None  # default='warn'"
   ]
  },
  {
   "cell_type": "code",
   "execution_count": 47,
   "metadata": {},
   "outputs": [],
   "source": [
    "folder = r\"Z:\\Bisal_Halder_turbo\\PROCESSED_DATA\\Impact_of_cytoskeleton_on_HOPS_condensates\\HOPS_Lys_dual imaging\\splitted frames\"\n",
    "os.chdir(folder)\n",
    "\n",
    "lst_fname_Lys = [f for f in os.listdir(\".\") if f.endswith(\"-even-bandpass.tif\")]\n",
    "lst_fname_condensate = [f for f in os.listdir(\".\") if f.endswith(\"-odd-bandpass.tif\")]\n",
    "fontsize = 18"
   ]
  },
  {
   "cell_type": "code",
   "execution_count": 48,
   "metadata": {},
   "outputs": [
    {
     "data": {
      "application/vnd.jupyter.widget-view+json": {
       "model_id": "c8fb013cb3a348faab6bd8b9848a897c",
       "version_major": 2,
       "version_minor": 0
      },
      "text/plain": [
       "Output()"
      ]
     },
     "metadata": {},
     "output_type": "display_data"
    },
    {
     "data": {
      "text/html": [
       "<pre style=\"white-space:pre;overflow-x:auto;line-height:normal;font-family:Menlo,'DejaVu Sans Mono',consolas,'Courier New',monospace\"></pre>\n"
      ],
      "text/plain": []
     },
     "metadata": {},
     "output_type": "display_data"
    },
    {
     "data": {
      "text/html": [
       "<pre style=\"white-space:pre;overflow-x:auto;line-height:normal;font-family:Menlo,'DejaVu Sans Mono',consolas,'Courier New',monospace\">\n",
       "</pre>\n"
      ],
      "text/plain": [
       "\n"
      ]
     },
     "metadata": {},
     "output_type": "display_data"
    }
   ],
   "source": [
    "# List to store Pearson correlation coefficients\n",
    "lst_corr = []\n",
    "\n",
    "for fname_Lys in track(lst_fname_Lys):\n",
    "    fname_condensate = fname_Lys.replace(\"-even-bandpass.tif\", \"-odd-bandpass.tif\")\n",
    "    video1 = imread(fname_condensate)\n",
    "    video2 = imread(fname_Lys)\n",
    "    video1_flatten = video1.flatten()\n",
    "    video2_flatten = video2.flatten()\n",
    "\n",
    "    # Calculate regular Pearson correlation\n",
    "    corr, _ = pearsonr(video1_flatten, video2_flatten)\n",
    "    lst_corr.append(corr)"
   ]
  },
  {
   "cell_type": "code",
   "execution_count": 49,
   "metadata": {},
   "outputs": [
    {
     "name": "stdout",
     "output_type": "stream",
     "text": [
      "0.2093442816392803 0.03321632743270203\n"
     ]
    },
    {
     "data": {
      "image/png": "[encoded data removed]",
      "text/plain": [
       "<Figure size 300x300 with 1 Axes>"
      ]
     },
     "metadata": {},
     "output_type": "display_data"
    }
   ],
   "source": [
    "# Plot the histogram of Pearson correlation coefficients\n",
    "pcc_abs_max = 0.2\n",
    "plt.figure(figsize=(3, 3))\n",
    "df = pd.DataFrame({\"value\": lst_corr}, dtype=float)\n",
    "sns.histplot(\n",
    "    data=df,\n",
    "    x=\"value\",\n",
    "    bins=14,\n",
    "    binrange=(-pcc_abs_max, pcc_abs_max),\n",
    "    stat=\"probability\",\n",
    "    lw=2,\n",
    "    element=\"step\",\n",
    "    color=\"gray\",\n",
    ")\n",
    "plt.axvline(0, c=\"k\", lw=2, ls=\"--\")\n",
    "plt.xlim(-pcc_abs_max, pcc_abs_max)\n",
    "plt.xlabel(\"PCC\", fontsize=fontsize)\n",
    "plt.ylabel(\"Probability\", fontsize=fontsize)\n",
    "plt.gca().tick_params(\n",
    "    axis=\"both\",\n",
    "    which=\"major\",\n",
    "    labelsize=fontsize,\n",
    "    direction=\"in\",\n",
    "    bottom=True,\n",
    "    left=True,\n",
    "    length=5,\n",
    "    width=1,\n",
    ")\n",
    "plt.tight_layout()\n",
    "plt.savefig(\"pearson_FlocRloc.png\", format=\"png\", dpi=300, bbox_inches=\"tight\")\n",
    "\n",
    "# Print the mean and standard error of the mean (SEM) of the Pearson correlation coefficients\n",
    "print(np.mean(lst_corr), sem(lst_corr))"
   ]
  },
  {
   "cell_type": "markdown",
   "metadata": {},
   "source": [
    "## Percentage colocalization between HOPS and ER"
   ]
  },
  {
   "cell_type": "code",
   "execution_count": 1,
   "metadata": {},
   "outputs": [],
   "source": [
    "from tifffile import imread\n",
    "import os\n",
    "import matplotlib.pyplot as plt\n",
    "import numpy as np\n",
    "from scipy.stats import sem\n",
    "import pandas as pd\n",
    "import seaborn as sns\n",
    "from rich.progress import track\n",
    "\n",
    "sns.set(color_codes=True, style=\"white\")\n",
    "pd.options.mode.chained_assignment = None  # default='warn'"
   ]
  },
  {
   "cell_type": "code",
   "execution_count": 2,
   "metadata": {},
   "outputs": [],
   "source": [
    "folder = r\"Z:\\Bisal_Halder_turbo\\PROCESSED_DATA\\Impact_of_cytoskeleton_on_HOPS_condensates\\HOPS_ER_dual imaging\\no_drug\\Analysed data\\After bandpass filtering\\All together\"\n",
    "os.chdir(folder)\n",
    "\n",
    "lst_fname_ER = [f for f in os.listdir(\".\") if f.endswith(\"-even-bandpass.tif\")]\n",
    "lst_fname_condensate = [f for f in os.listdir(\".\") if f.endswith(\"-odd-bandpass.tif\")]\n",
    "fontsize = 18"
   ]
  },
  {
   "cell_type": "code",
   "execution_count": 12,
   "metadata": {},
   "outputs": [],
   "source": [
    "def calculate_simple_colocalization(video1, video2):\n",
    "    num_frames = video1.shape[0]  # Get the number of frames (assuming the first dimension is the frame count)\n",
    "    colocalization_percentages = []  # Initialize a list to store colocalization percentages for each frame\n",
    "    \n",
    "    for frame in range(num_frames):  # Loop through each frame\n",
    "        frame1 = video1[frame]  # Get the current frame from video1\n",
    "        frame2 = video2[frame]  # Get the current frame from video2\n",
    "        \n",
    "        # Normalize the frames to their maximum pixel value\n",
    "        frame1_norm = frame1 / np.max(frame1)\n",
    "        frame2_norm = frame2 / np.max(frame2)\n",
    "        \n",
    "        # Apply the specified threshold for signal presence\n",
    "        binary1 = frame1_norm > 0\n",
    "        binary2 = frame2_norm > 0\n",
    "        \n",
    "        # Calculate colocalization for the current frame\n",
    "        colocalization = np.sum(binary1 & binary2)\n",
    "        total_signal = np.sum(binary1)\n",
    "        percentage_colocalization = (colocalization / total_signal) * 100 if total_signal > 0 else 0\n",
    "        \n",
    "        colocalization_percentages.append(percentage_colocalization)  # Store the percentage colocalization for the current frame\n",
    "    \n",
    "    # Return the average colocalization percentage across all frames\n",
    "    return np.mean(colocalization_percentages)"
   ]
  },
  {
   "cell_type": "code",
   "execution_count": 13,
   "metadata": {},
   "outputs": [
    {
     "data": {
      "application/vnd.jupyter.widget-view+json": {
       "model_id": "4674e4c83ac74b5aaca4b77e19f6b2ab",
       "version_major": 2,
       "version_minor": 0
      },
      "text/plain": [
       "Output()"
      ]
     },
     "metadata": {},
     "output_type": "display_data"
    },
    {
     "data": {
      "text/html": [
       "<pre style=\"white-space:pre;overflow-x:auto;line-height:normal;font-family:Menlo,'DejaVu Sans Mono',consolas,'Courier New',monospace\"></pre>\n"
      ],
      "text/plain": []
     },
     "metadata": {},
     "output_type": "display_data"
    },
    {
     "data": {
      "text/html": [
       "<pre style=\"white-space:pre;overflow-x:auto;line-height:normal;font-family:Menlo,'DejaVu Sans Mono',consolas,'Courier New',monospace\">\n",
       "</pre>\n"
      ],
      "text/plain": [
       "\n"
      ]
     },
     "metadata": {},
     "output_type": "display_data"
    }
   ],
   "source": [
    "# List to store colocalization percentages\n",
    "lst_colocalization = []\n",
    "\n",
    "# Specify the threshold value (adjust based on your dataset)\n",
    "# threshold_value = 0.02  # For high SNR, you can start around 0.05 (5%)\n",
    "\n",
    "# Process each pair of images\n",
    "for fname_ER in track(lst_fname_ER):\n",
    "    fname_condensate = fname_ER.replace(\"-even-bandpass.tif\", \"-odd-bandpass.tif\")\n",
    "    video1 = imread(fname_condensate)\n",
    "    video2 = imread(fname_ER)\n",
    "    \n",
    "    # Calculate colocalization percentage for each image pair\n",
    "    average_percentage_colocalization = calculate_simple_colocalization(video1, video2)\n",
    "    lst_colocalization.append(average_percentage_colocalization)"
   ]
  },
  {
   "cell_type": "code",
   "execution_count": 11,
   "metadata": {},
   "outputs": [
    {
     "data": {
      "image/png": "[encoded data removed]",
      "text/plain": [
       "<Figure size 600x400 with 1 Axes>"
      ]
     },
     "metadata": {},
     "output_type": "display_data"
    },
    {
     "name": "stdout",
     "output_type": "stream",
     "text": [
      "43.97870643106664 1.5931356559167222\n"
     ]
    }
   ],
   "source": [
    "# Plot the histogram of colocalization percentages\n",
    "plt.figure(figsize=(6, 4))\n",
    "df = pd.DataFrame({\"percentage_colocalization\": lst_colocalization}, dtype=float)\n",
    "sns.histplot(\n",
    "    data=df,\n",
    "    x=\"percentage_colocalization\",\n",
    "    bins = 10,\n",
    "    stat=\"probability\",\n",
    "    lw=2,\n",
    "    element=\"step\",\n",
    "    color=\"gray\",\n",
    ")\n",
    "# plt.axvline(0, c=\"k\", lw=2, ls=\"--\")\n",
    "plt.xlabel(\"Percentage Colocalization\", fontsize=fontsize)\n",
    "plt.ylabel(\"Probability\", fontsize=fontsize)\n",
    "plt.gca().tick_params(\n",
    "    axis=\"both\",\n",
    "    which=\"major\",\n",
    "    labelsize=fontsize,\n",
    "    direction=\"in\",\n",
    "    bottom=True,\n",
    "    left=True,\n",
    "    length=5,\n",
    "    width=1,\n",
    ")\n",
    "plt.tight_layout()\n",
    "plt.show()\n",
    "print(np.mean(lst_colocalization), sem(lst_colocalization))"
   ]
  },
  {
   "cell_type": "markdown",
   "metadata": {},
   "source": [
    "## Percentage colocalization between HOPS and Lysosome"
   ]
  },
  {
   "cell_type": "code",
   "execution_count": 41,
   "metadata": {},
   "outputs": [],
   "source": [
    "from tifffile import imread\n",
    "import os\n",
    "import matplotlib.pyplot as plt\n",
    "import numpy as np\n",
    "from scipy.stats import sem\n",
    "import pandas as pd\n",
    "import seaborn as sns\n",
    "from rich.progress import track\n",
    "\n",
    "sns.set(color_codes=True, style=\"white\")\n",
    "pd.options.mode.chained_assignment = None  # default='warn'"
   ]
  },
  {
   "cell_type": "code",
   "execution_count": 42,
   "metadata": {},
   "outputs": [],
   "source": [
    "folder = r\"Z:\\Bisal_Halder_turbo\\PROCESSED_DATA\\Impact_of_cytoskeleton_on_HOPS_condensates\\HOPS_Lys_dual imaging\\splitted frames\"\n",
    "os.chdir(folder)\n",
    "\n",
    "lst_fname_Lys = [f for f in os.listdir(\".\") if f.endswith(\"-even-bandpass.tif\")]\n",
    "lst_fname_condensate = [f for f in os.listdir(\".\") if f.endswith(\"-odd-bandpass.tif\")]\n",
    "fontsize = 18"
   ]
  },
  {
   "cell_type": "code",
   "execution_count": 43,
   "metadata": {},
   "outputs": [],
   "source": [
    "def calculate_simple_colocalization(video1, video2, threshold):\n",
    "    num_frames = video1.shape[0]  # Get the number of frames (assuming the first dimension is the frame count)\n",
    "    colocalization_percentages = []  # Initialize a list to store colocalization percentages for each frame\n",
    "    \n",
    "    for frame in range(num_frames):  # Loop through each frame\n",
    "        frame1 = video1[frame]  # Get the current frame from video1\n",
    "        frame2 = video2[frame]  # Get the current frame from video2\n",
    "        \n",
    "        # Normalize the frames to their maximum pixel value\n",
    "        frame1_norm = frame1 / np.max(frame1)\n",
    "        frame2_norm = frame2 / np.max(frame2)\n",
    "        \n",
    "        # Apply the specified threshold for signal presence\n",
    "        binary1 = frame1_norm > threshold\n",
    "        binary2 = frame2_norm > threshold\n",
    "        \n",
    "        # Calculate colocalization for the current frame\n",
    "        colocalization = np.sum(binary1 & binary2)\n",
    "        total_signal = np.sum(binary1)\n",
    "        percentage_colocalization = (colocalization / total_signal) * 100 if total_signal > 0 else 0\n",
    "        \n",
    "        colocalization_percentages.append(percentage_colocalization)  # Store the percentage colocalization for the current frame\n",
    "    \n",
    "    # Return the average colocalization percentage across all frames\n",
    "    return np.mean(colocalization_percentages)"
   ]
  },
  {
   "cell_type": "code",
   "execution_count": 44,
   "metadata": {},
   "outputs": [
    {
     "data": {
      "application/vnd.jupyter.widget-view+json": {
       "model_id": "11392fa120424e98a42d28d13de9b6d2",
       "version_major": 2,
       "version_minor": 0
      },
      "text/plain": [
       "Output()"
      ]
     },
     "metadata": {},
     "output_type": "display_data"
    },
    {
     "data": {
      "text/html": [
       "<pre style=\"white-space:pre;overflow-x:auto;line-height:normal;font-family:Menlo,'DejaVu Sans Mono',consolas,'Courier New',monospace\"></pre>\n"
      ],
      "text/plain": []
     },
     "metadata": {},
     "output_type": "display_data"
    },
    {
     "data": {
      "text/html": [
       "<pre style=\"white-space:pre;overflow-x:auto;line-height:normal;font-family:Menlo,'DejaVu Sans Mono',consolas,'Courier New',monospace\">\n",
       "</pre>\n"
      ],
      "text/plain": [
       "\n"
      ]
     },
     "metadata": {},
     "output_type": "display_data"
    }
   ],
   "source": [
    "# List to store colocalization percentages\n",
    "lst_colocalization = []\n",
    "\n",
    "# Specify the threshold value (adjust based on your dataset)\n",
    "threshold_value = 0.02  # For high SNR, you can start around 0.05 (5%)\n",
    "\n",
    "# Process each pair of images\n",
    "for fname_Lys in track(lst_fname_Lys):\n",
    "    fname_condensate = fname_Lys.replace(\"-even-bandpass.tif\", \"-odd-bandpass.tif\")\n",
    "    video1 = imread(fname_condensate)\n",
    "    video2 = imread(fname_Lys)\n",
    "    \n",
    "    # Calculate colocalization percentage for each image pair\n",
    "    average_percentage_colocalization = calculate_simple_colocalization(video1, video2, threshold_value)\n",
    "    lst_colocalization.append(average_percentage_colocalization)"
   ]
  },
  {
   "cell_type": "code",
   "execution_count": 45,
   "metadata": {},
   "outputs": [
    {
     "data": {
      "image/png": "[encoded data removed]",
      "text/plain": [
       "<Figure size 600x400 with 1 Axes>"
      ]
     },
     "metadata": {},
     "output_type": "display_data"
    },
    {
     "name": "stdout",
     "output_type": "stream",
     "text": [
      "34.20974285310196 4.344492388681275\n"
     ]
    }
   ],
   "source": [
    "# Plot the histogram of colocalization percentages\n",
    "plt.figure(figsize=(6, 4))\n",
    "df = pd.DataFrame({\"percentage_colocalization\": lst_colocalization}, dtype=float)\n",
    "sns.histplot(\n",
    "    data=df,\n",
    "    x=\"percentage_colocalization\",\n",
    "    bins = 10,\n",
    "    stat=\"probability\",\n",
    "    lw=2,\n",
    "    element=\"step\",\n",
    "    color=\"gray\",\n",
    ")\n",
    "# plt.axvline(0, c=\"k\", lw=2, ls=\"--\")\n",
    "plt.xlabel(\"Percentage Colocalization\", fontsize=fontsize)\n",
    "plt.ylabel(\"Probability\", fontsize=fontsize)\n",
    "plt.gca().tick_params(\n",
    "    axis=\"both\",\n",
    "    which=\"major\",\n",
    "    labelsize=fontsize,\n",
    "    direction=\"in\",\n",
    "    bottom=True,\n",
    "    left=True,\n",
    "    length=5,\n",
    "    width=1,\n",
    ")\n",
    "plt.tight_layout()\n",
    "plt.show()\n",
    "print(np.mean(lst_colocalization), sem(lst_colocalization))"
   ]
  },
  {
   "cell_type": "code",
   "execution_count": null,
   "metadata": {},
   "outputs": [],
   "source": []
  }
 ],
 "metadata": {
  "kernelspec": {
   "display_name": "spt-simplified-20240126",
   "language": "python",
   "name": "python3"
  },
  "language_info": {
   "codemirror_mode": {
    "name": "ipython",
    "version": 3
   },
   "file_extension": ".py",
   "mimetype": "text/x-python",
   "name": "python",
   "nbconvert_exporter": "python",
   "pygments_lexer": "ipython3",
   "version": "3.9.18"
  }
 },
 "nbformat": 4,
 "nbformat_minor": 2
}

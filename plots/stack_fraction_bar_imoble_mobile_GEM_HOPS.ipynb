{
 "cells": [
  {
   "cell_type": "markdown",
   "metadata": {},
   "source": [
    "## Mobile vs Immobile fraction calculation for GEM and HOPS"
   ]
  },
  {
   "cell_type": "code",
   "execution_count": 1,
   "metadata": {},
   "outputs": [],
   "source": [
    "import pandas as pd\n",
    "import numpy as np\n",
    "import matplotlib.pyplot as plt\n",
    "from tkinter import filedialog\n",
    "from scipy.stats import ttest_ind_from_stats"
   ]
  },
  {
   "cell_type": "code",
   "execution_count": 2,
   "metadata": {},
   "outputs": [],
   "source": [
    "# Set threshold for immobile stepsize\n",
    "immobile_stepsize_threshold_nm = 0.25 # in pixels\n",
    "\n",
    "# Define the two labels for your conditions\n",
    "labels = ['GEM', 'HOPS']\n"
   ]
  },
  {
   "cell_type": "code",
   "execution_count": 3,
   "metadata": {},
   "outputs": [],
   "source": [
    "# CSV file paths for the two conditions\n",
    "csv_files_1 = filedialog.askopenfilenames(\n",
    "    title=\"Select CSV Files for GEM\",\n",
    "    filetypes=((\"CSV files\", \"*.csv\"), (\"All files\", \"*.*\")),\n",
    ")\n",
    "csv_files_2 = filedialog.askopenfilenames(\n",
    "    title=\"Select CSV Files for HOPS\",\n",
    "    filetypes=((\"CSV files\", \"*.csv\"), (\"All files\", \"*.*\")),\n",
    ")\n",
    "csv_files = [csv_files_1, csv_files_2]"
   ]
  },
  {
   "cell_type": "code",
   "execution_count": 4,
   "metadata": {},
   "outputs": [],
   "source": [
    "columns = [\n",
    "    \"label\",\n",
    "    \"replicate_prefix\",\n",
    "    \"N, Total\",\n",
    "    \"N, Mobile\",\n",
    "    \"Static Fraction\",\n",
    "]\n",
    "lst_rows_of_df = []"
   ]
  },
  {
   "cell_type": "code",
   "execution_count": 5,
   "metadata": {},
   "outputs": [],
   "source": [
    "for i in range(2):\n",
    "    for fname in csv_files[i]:\n",
    "        df_current = pd.read_csv(fname)\n",
    "        df_current = df_current.astype({\"mean_step_sizes\": float})\n",
    "        N_total = df_current.shape[0]\n",
    "        \n",
    "        # Judge if immobile by mean step size\n",
    "        df_mobile = df_current[df_current[\"mean_step_sizes\"] >= immobile_stepsize_threshold_nm]\n",
    "        N_mobile = df_mobile.shape[0]\n",
    "        F_immobile = (N_total - N_mobile) / N_total\n",
    "\n",
    "        # Save\n",
    "        lst_rows_of_df.append([labels[i], fname, N_total, N_mobile, F_immobile])\n",
    "\n",
    "data = pd.DataFrame.from_records(lst_rows_of_df, columns=columns)\n",
    "\n",
    "N_total = data[\"N, Total\"].to_numpy(int)\n",
    "N_mobile = data[\"N, Mobile\"].to_numpy(int)\n",
    "N_immobile = N_total - N_mobile\n",
    "\n",
    "frac_immobile = N_immobile / N_total\n",
    "frac_mobile = N_mobile / N_total\n",
    "\n",
    "data[\"Immobile\"] = frac_immobile\n",
    "data[\"Mobile\"] = frac_mobile"
   ]
  },
  {
   "cell_type": "code",
   "execution_count": 6,
   "metadata": {},
   "outputs": [
    {
     "name": "stdout",
     "output_type": "stream",
     "text": [
      "(GEM) vs (HOPS):\n",
      "p value of mobile fraction: 1.799623718108779e-38 ****\n",
      "p value of immobile fraction: 1.799623718108779e-38 ****\n"
     ]
    },
    {
     "data": {
      "image/png": "[encoded data removed]",
      "text/plain": [
       "<Figure size 500x500 with 1 Axes>"
      ]
     },
     "metadata": {},
     "output_type": "display_data"
    }
   ],
   "source": [
    "df_mean_error = pd.DataFrame({\n",
    "    \"label\": data[\"label\"].unique(),\n",
    "    \"F_immobile_mean\": [data[data[\"label\"] == label][\"Immobile\"].mean() for label in data[\"label\"].unique()],\n",
    "    \"F_immobile_sem\": [data[data[\"label\"] == label][\"Immobile\"].sem() for label in data[\"label\"].unique()],\n",
    "    \"F_immobile_std\": [data[data[\"label\"] == label][\"Immobile\"].std() for label in data[\"label\"].unique()],\n",
    "    \"F_mobile_mean\": [data[data[\"label\"] == label][\"Mobile\"].mean() for label in data[\"label\"].unique()],\n",
    "    \"F_mobile_sem\": [data[data[\"label\"] == label][\"Mobile\"].sem() for label in data[\"label\"].unique()],\n",
    "    \"F_mobile_std\": [data[data[\"label\"] == label][\"Mobile\"].std() for label in data[\"label\"].unique()],\n",
    "    \"nobs\": [data[data[\"label\"] == label].shape[0] for label in data[\"label\"].unique()],\n",
    "}, dtype=object)\n",
    "\n",
    "def p_annot(p):\n",
    "    if p > 0.05:\n",
    "        return \"ns\"\n",
    "    elif p > 0.01:\n",
    "        return \"*\"\n",
    "    elif p > 0.001:\n",
    "        return \"**\"\n",
    "    elif p > 0.0001:\n",
    "        return \"***\"\n",
    "    else:\n",
    "        return \"****\"\n",
    "\n",
    "def compare2labels(label1, label2):\n",
    "    print(f\"({label1}) vs ({label2}):\")\n",
    "    _, pval = ttest_ind_from_stats(\n",
    "        mean1=df_mean_error[df_mean_error[\"label\"] == label1][\"F_mobile_mean\"].squeeze(),\n",
    "        std1=df_mean_error[df_mean_error[\"label\"] == label1][\"F_mobile_std\"].squeeze(),\n",
    "        nobs1=df_mean_error[df_mean_error[\"label\"] == label1][\"nobs\"].squeeze(),\n",
    "        mean2=df_mean_error[df_mean_error[\"label\"] == label2][\"F_mobile_mean\"].squeeze(),\n",
    "        std2=df_mean_error[df_mean_error[\"label\"] == label2][\"F_mobile_std\"].squeeze(),\n",
    "        nobs2=df_mean_error[df_mean_error[\"label\"] == label2][\"nobs\"].squeeze(),\n",
    "        equal_var=False,\n",
    "        alternative=\"two-sided\",\n",
    "    )\n",
    "    print(\"p value of mobile fraction:\", pval, p_annot(pval))\n",
    "    \n",
    "    _, pval = ttest_ind_from_stats(\n",
    "        mean1=df_mean_error[df_mean_error[\"label\"] == label1][\"F_immobile_mean\"].squeeze(),\n",
    "        std1=df_mean_error[df_mean_error[\"label\"] == label1][\"F_immobile_std\"].squeeze(),\n",
    "        nobs1=df_mean_error[df_mean_error[\"label\"] == label1][\"nobs\"].squeeze(),\n",
    "        mean2=df_mean_error[df_mean_error[\"label\"] == label2][\"F_immobile_mean\"].squeeze(),\n",
    "        std2=df_mean_error[df_mean_error[\"label\"] == label2][\"F_immobile_std\"].squeeze(),\n",
    "        nobs2=df_mean_error[df_mean_error[\"label\"] == label2][\"nobs\"].squeeze(),\n",
    "        equal_var=False,\n",
    "        alternative=\"two-sided\",\n",
    "    )\n",
    "    print(\"p value of immobile fraction:\", pval, p_annot(pval))\n",
    "\n",
    "compare2labels(labels[0], labels[1])\n",
    "\n",
    "# Plotting\n",
    "fig = plt.figure(figsize=(5, 5))\n",
    "x = [1, 2]\n",
    "colors = [\"#333232\", \"#f7b801\"]  # \"#333232\" for Immobile, \"#f7b801\" for Mobile\n",
    "\n",
    "df_fractions = df_mean_error[df_mean_error[\"label\"].isin(labels)]\n",
    "bottom = np.zeros(len(x))\n",
    "categories = [\"F_immobile_mean\", \"F_mobile_mean\"]\n",
    "\n",
    "for i in range(len(categories)):\n",
    "    plt.bar(\n",
    "        x=x,\n",
    "        height=df_fractions[categories[i]],\n",
    "        yerr=df_fractions[categories[i][:-4] + \"sem\"],\n",
    "        error_kw={\"elinewidth\": 1},\n",
    "        capsize=3,\n",
    "        label=\"Immobile\" if i == 0 else \"Mobile\",  # Ensure correct labeling\n",
    "        bottom=bottom,\n",
    "        color=colors[i],\n",
    "    )\n",
    "    bottom += df_fractions[categories[i]]"
   ]
  },
  {
   "cell_type": "code",
   "execution_count": 8,
   "metadata": {},
   "outputs": [
    {
     "data": {
      "image/png": "[encoded data removed]",
      "text/plain": [
       "<Figure size 700x400 with 1 Axes>"
      ]
     },
     "metadata": {},
     "output_type": "display_data"
    }
   ],
   "source": [
    "fig, ax = plt.subplots(figsize=(7, 4))\n",
    "x = np.arange(len(labels))\n",
    "colors = [\"#333232\", \"#f7b801\"]  # \"#333232\" for Immobile, \"#f7b801\" for Mobile\n",
    "\n",
    "df_fractions = df_mean_error[df_mean_error[\"label\"].isin(labels)]\n",
    "bottom = np.zeros(len(x))\n",
    "categories = [\"F_immobile_mean\", \"F_mobile_mean\"]\n",
    "\n",
    "for i in range(len(categories)):\n",
    "    ax.bar(\n",
    "        x=x,\n",
    "        height=df_fractions[categories[i]],\n",
    "        yerr=df_fractions[categories[i][:-4] + \"sem\"],\n",
    "        error_kw={\"elinewidth\": 1},\n",
    "        capsize=3,\n",
    "        label=\"Immobile\" if i == 0 else \"Mobile\",  # Ensure correct labeling\n",
    "        bottom=bottom,\n",
    "        color=colors[i],\n",
    "    )\n",
    "    bottom += df_fractions[categories[i]]\n",
    "\n",
    "ax.set_ylim(0, 1.08)\n",
    "ax.set_ylabel(\"Fraction\", size=18)\n",
    "ax.set_xticks(x)\n",
    "ax.set_xticklabels(labels, size=14)\n",
    "ax.set_yticks([0, 0.5, 1])\n",
    "ax.set_yticklabels([0, 0.5, 1], size=14)\n",
    "ax.spines['left'].set_linewidth(2)\n",
    "ax.spines['bottom'].set_linewidth(2)\n",
    "ax.spines[['right', 'top']].set_visible(False)\n",
    "ax.tick_params(\n",
    "    axis=\"y\",\n",
    "    which=\"major\",\n",
    "    direction=\"in\",\n",
    "    left=True,\n",
    "    length=5,\n",
    "    width=2,\n",
    ")\n",
    "legend = ax.legend([\"Immobile\", \"Mobile\"], fontsize=12, loc=\"upper right\", bbox_to_anchor=(1.7, 1))\n",
    "legend.get_frame().set_linewidth(0)\n",
    "fig.tight_layout()\n",
    "fig.savefig(\n",
    "    \"Fracs_compare_GEM_vs_HOPS.png\",\n",
    "    format=\"png\",\n",
    "    bbox_inches=\"tight\",\n",
    "    dpi=300,\n",
    ")\n",
    "plt.show()"
   ]
  },
  {
   "cell_type": "code",
   "execution_count": null,
   "metadata": {},
   "outputs": [],
   "source": []
  },
  {
   "cell_type": "code",
   "execution_count": null,
   "metadata": {},
   "outputs": [],
   "source": []
  }
 ],
 "metadata": {
  "kernelspec": {
   "display_name": "spt-simplified-20240126",
   "language": "python",
   "name": "python3"
  },
  "language_info": {
   "codemirror_mode": {
    "name": "ipython",
    "version": 3
   },
   "file_extension": ".py",
   "mimetype": "text/x-python",
   "name": "python",
   "nbconvert_exporter": "python",
   "pygments_lexer": "ipython3",
   "version": "3.9.18"
  }
 },
 "nbformat": 4,
 "nbformat_minor": 2
}

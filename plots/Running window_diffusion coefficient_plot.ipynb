{
 "cells": [
  {
   "cell_type": "markdown",
   "metadata": {},
   "source": [
    "# Running Window diffusion coefficient"
   ]
  },
  {
   "cell_type": "markdown",
   "metadata": {},
   "source": [
    "## Diffusion Coefficient of PB and HOPS"
   ]
  },
  {
   "cell_type": "code",
   "execution_count": 40,
   "metadata": {},
   "outputs": [],
   "source": [
    "import os\n",
    "from os.path import join, basename\n",
    "from tkinter import filedialog\n",
    "import matplotlib.pyplot as plt\n",
    "import numpy as np\n",
    "import pandas as pd\n",
    "import seaborn as sns\n",
    "from IPython.display import display\n",
    "\n",
    "sns.set(color_codes=True, style=\"white\")"
   ]
  },
  {
   "cell_type": "code",
   "execution_count": null,
   "metadata": {},
   "outputs": [],
   "source": [
    "mean_step_size_threshold_nm = 30 \n",
    "R2_threshold = 0.6\n",
    "conversion_factor = 117 "
   ]
  },
  {
   "cell_type": "code",
   "execution_count": 42,
   "metadata": {},
   "outputs": [],
   "source": [
    "# Use file dialog to select CSV files for each condition\n",
    "csv_files_1 = filedialog.askopenfilenames(\n",
    "    title=\"Select CSV Files for 1x\",\n",
    "    filetypes=((\"CSV files\", \"*.csv\"), (\"All files\", \"*.*\")),\n",
    ")\n",
    "csv_files_2 = filedialog.askopenfilenames(\n",
    "    title=\"Select CSV Files for 2x\",\n",
    "    filetypes=((\"CSV files\", \"*.csv\"), (\"All files\", \"*.*\")),\n",
    ")"
   ]
  },
  {
   "cell_type": "code",
   "execution_count": 43,
   "metadata": {},
   "outputs": [],
   "source": [
    "# Function to load CSV files and add a 'Condition' column\n",
    "def load_and_label_files(file_paths, label):\n",
    "    combined_df_list = []\n",
    "    for file in file_paths:\n",
    "        df = pd.read_csv(file)\n",
    "        df['Condition'] = label\n",
    "        df['title'] = basename(file)\n",
    "        df = df.dropna(subset=['D_linear'])\n",
    "        df['logD'] = np.log10(df['D_linear'])\n",
    "        combined_df_list.append(df)\n",
    "    combined_df = pd.concat(combined_df_list, ignore_index=True)\n",
    "    return combined_df"
   ]
  },
  {
   "cell_type": "code",
   "execution_count": 44,
   "metadata": {},
   "outputs": [
    {
     "name": "stderr",
     "output_type": "stream",
     "text": [
      "c:\\Users\\bisal\\AppData\\Local\\miniconda3\\envs\\spt\\lib\\site-packages\\pandas\\core\\arraylike.py:402: RuntimeWarning: invalid value encountered in log10\n",
      "  result = getattr(ufunc, method)(*inputs, **kwargs)\n",
      "c:\\Users\\bisal\\AppData\\Local\\miniconda3\\envs\\spt\\lib\\site-packages\\pandas\\core\\arraylike.py:402: RuntimeWarning: invalid value encountered in log10\n",
      "  result = getattr(ufunc, method)(*inputs, **kwargs)\n",
      "c:\\Users\\bisal\\AppData\\Local\\miniconda3\\envs\\spt\\lib\\site-packages\\pandas\\core\\arraylike.py:402: RuntimeWarning: invalid value encountered in log10\n",
      "  result = getattr(ufunc, method)(*inputs, **kwargs)\n",
      "c:\\Users\\bisal\\AppData\\Local\\miniconda3\\envs\\spt\\lib\\site-packages\\pandas\\core\\arraylike.py:402: RuntimeWarning: invalid value encountered in log10\n",
      "  result = getattr(ufunc, method)(*inputs, **kwargs)\n",
      "c:\\Users\\bisal\\AppData\\Local\\miniconda3\\envs\\spt\\lib\\site-packages\\pandas\\core\\arraylike.py:402: RuntimeWarning: invalid value encountered in log10\n",
      "  result = getattr(ufunc, method)(*inputs, **kwargs)\n",
      "c:\\Users\\bisal\\AppData\\Local\\miniconda3\\envs\\spt\\lib\\site-packages\\pandas\\core\\arraylike.py:402: RuntimeWarning: invalid value encountered in log10\n",
      "  result = getattr(ufunc, method)(*inputs, **kwargs)\n",
      "c:\\Users\\bisal\\AppData\\Local\\miniconda3\\envs\\spt\\lib\\site-packages\\pandas\\core\\arraylike.py:402: RuntimeWarning: invalid value encountered in log10\n",
      "  result = getattr(ufunc, method)(*inputs, **kwargs)\n",
      "c:\\Users\\bisal\\AppData\\Local\\miniconda3\\envs\\spt\\lib\\site-packages\\pandas\\core\\arraylike.py:402: RuntimeWarning: invalid value encountered in log10\n",
      "  result = getattr(ufunc, method)(*inputs, **kwargs)\n",
      "c:\\Users\\bisal\\AppData\\Local\\miniconda3\\envs\\spt\\lib\\site-packages\\pandas\\core\\arraylike.py:402: RuntimeWarning: invalid value encountered in log10\n",
      "  result = getattr(ufunc, method)(*inputs, **kwargs)\n",
      "c:\\Users\\bisal\\AppData\\Local\\miniconda3\\envs\\spt\\lib\\site-packages\\pandas\\core\\arraylike.py:402: RuntimeWarning: invalid value encountered in log10\n",
      "  result = getattr(ufunc, method)(*inputs, **kwargs)\n",
      "c:\\Users\\bisal\\AppData\\Local\\miniconda3\\envs\\spt\\lib\\site-packages\\pandas\\core\\arraylike.py:402: RuntimeWarning: invalid value encountered in log10\n",
      "  result = getattr(ufunc, method)(*inputs, **kwargs)\n",
      "c:\\Users\\bisal\\AppData\\Local\\miniconda3\\envs\\spt\\lib\\site-packages\\pandas\\core\\arraylike.py:402: RuntimeWarning: invalid value encountered in log10\n",
      "  result = getattr(ufunc, method)(*inputs, **kwargs)\n",
      "c:\\Users\\bisal\\AppData\\Local\\miniconda3\\envs\\spt\\lib\\site-packages\\pandas\\core\\arraylike.py:402: RuntimeWarning: invalid value encountered in log10\n",
      "  result = getattr(ufunc, method)(*inputs, **kwargs)\n",
      "c:\\Users\\bisal\\AppData\\Local\\miniconda3\\envs\\spt\\lib\\site-packages\\pandas\\core\\arraylike.py:402: RuntimeWarning: invalid value encountered in log10\n",
      "  result = getattr(ufunc, method)(*inputs, **kwargs)\n",
      "c:\\Users\\bisal\\AppData\\Local\\miniconda3\\envs\\spt\\lib\\site-packages\\pandas\\core\\arraylike.py:402: RuntimeWarning: invalid value encountered in log10\n",
      "  result = getattr(ufunc, method)(*inputs, **kwargs)\n",
      "c:\\Users\\bisal\\AppData\\Local\\miniconda3\\envs\\spt\\lib\\site-packages\\pandas\\core\\arraylike.py:402: RuntimeWarning: invalid value encountered in log10\n",
      "  result = getattr(ufunc, method)(*inputs, **kwargs)\n",
      "c:\\Users\\bisal\\AppData\\Local\\miniconda3\\envs\\spt\\lib\\site-packages\\pandas\\core\\arraylike.py:402: RuntimeWarning: invalid value encountered in log10\n",
      "  result = getattr(ufunc, method)(*inputs, **kwargs)\n",
      "c:\\Users\\bisal\\AppData\\Local\\miniconda3\\envs\\spt\\lib\\site-packages\\pandas\\core\\arraylike.py:402: RuntimeWarning: invalid value encountered in log10\n",
      "  result = getattr(ufunc, method)(*inputs, **kwargs)\n",
      "c:\\Users\\bisal\\AppData\\Local\\miniconda3\\envs\\spt\\lib\\site-packages\\pandas\\core\\arraylike.py:402: RuntimeWarning: invalid value encountered in log10\n",
      "  result = getattr(ufunc, method)(*inputs, **kwargs)\n",
      "c:\\Users\\bisal\\AppData\\Local\\miniconda3\\envs\\spt\\lib\\site-packages\\pandas\\core\\arraylike.py:402: RuntimeWarning: invalid value encountered in log10\n",
      "  result = getattr(ufunc, method)(*inputs, **kwargs)\n",
      "c:\\Users\\bisal\\AppData\\Local\\miniconda3\\envs\\spt\\lib\\site-packages\\pandas\\core\\arraylike.py:402: RuntimeWarning: invalid value encountered in log10\n",
      "  result = getattr(ufunc, method)(*inputs, **kwargs)\n",
      "c:\\Users\\bisal\\AppData\\Local\\miniconda3\\envs\\spt\\lib\\site-packages\\pandas\\core\\arraylike.py:402: RuntimeWarning: invalid value encountered in log10\n",
      "  result = getattr(ufunc, method)(*inputs, **kwargs)\n",
      "c:\\Users\\bisal\\AppData\\Local\\miniconda3\\envs\\spt\\lib\\site-packages\\pandas\\core\\arraylike.py:402: RuntimeWarning: invalid value encountered in log10\n",
      "  result = getattr(ufunc, method)(*inputs, **kwargs)\n",
      "c:\\Users\\bisal\\AppData\\Local\\miniconda3\\envs\\spt\\lib\\site-packages\\pandas\\core\\arraylike.py:402: RuntimeWarning: invalid value encountered in log10\n",
      "  result = getattr(ufunc, method)(*inputs, **kwargs)\n",
      "c:\\Users\\bisal\\AppData\\Local\\miniconda3\\envs\\spt\\lib\\site-packages\\pandas\\core\\arraylike.py:402: RuntimeWarning: invalid value encountered in log10\n",
      "  result = getattr(ufunc, method)(*inputs, **kwargs)\n",
      "c:\\Users\\bisal\\AppData\\Local\\miniconda3\\envs\\spt\\lib\\site-packages\\pandas\\core\\arraylike.py:402: RuntimeWarning: invalid value encountered in log10\n",
      "  result = getattr(ufunc, method)(*inputs, **kwargs)\n",
      "c:\\Users\\bisal\\AppData\\Local\\miniconda3\\envs\\spt\\lib\\site-packages\\pandas\\core\\arraylike.py:402: RuntimeWarning: invalid value encountered in log10\n",
      "  result = getattr(ufunc, method)(*inputs, **kwargs)\n"
     ]
    }
   ],
   "source": [
    "# Load and label CSV files for each condition\n",
    "df_condition1 = load_and_label_files(csv_files_1, 'PB, Iso')\n",
    "df_condition2 = load_and_label_files(csv_files_2, 'HOPS')"
   ]
  },
  {
   "cell_type": "code",
   "execution_count": 45,
   "metadata": {},
   "outputs": [],
   "source": [
    "# Combine the data from all conditions\n",
    "df_combined = pd.concat([df_condition1, df_condition2], ignore_index=True)\n",
    "df_combined['mean_step_sizes_nm'] = df_combined['mean_step_sizes'] * conversion_factor"
   ]
  },
  {
   "cell_type": "code",
   "execution_count": null,
   "metadata": {},
   "outputs": [],
   "source": [
    "filtered_by_step_size = df_combined[df_combined['mean_step_sizes_nm'] > mean_step_size_threshold_nm]"
   ]
  },
  {
   "cell_type": "code",
   "execution_count": 47,
   "metadata": {},
   "outputs": [],
   "source": [
    "final_filtered_df = filtered_by_step_size[filtered_by_step_size['R2_linear'] > 0.6]"
   ]
  },
  {
   "cell_type": "code",
   "execution_count": 48,
   "metadata": {},
   "outputs": [],
   "source": [
    "def calculate_unique_trackID_count(filtered_df, condition):\n",
    "    condition_df = filtered_df[filtered_df['Condition'] == condition]\n",
    "    unique_titles = condition_df['title'].unique()\n",
    "    unique_trackID_count = 0\n",
    "    for title in unique_titles:\n",
    "        unique_trackID_count += condition_df[condition_df['title'] == title]['trackID'].nunique()\n",
    "    return unique_trackID_count"
   ]
  },
  {
   "cell_type": "code",
   "execution_count": 49,
   "metadata": {},
   "outputs": [],
   "source": [
    "n_PB = calculate_unique_trackID_count(final_filtered_df, 'PB, Iso')\n",
    "n_HOPS = calculate_unique_trackID_count(final_filtered_df, 'HOPS')"
   ]
  },
  {
   "cell_type": "code",
   "execution_count": 51,
   "metadata": {},
   "outputs": [
    {
     "name": "stderr",
     "output_type": "stream",
     "text": [
      "C:\\Users\\bisal\\AppData\\Local\\Temp\\1\\ipykernel_15856\\3153466160.py:21: MatplotlibDeprecationWarning: The legendHandles attribute was deprecated in Matplotlib 3.7 and will be removed two minor releases later. Use legend_handles instead.\n",
      "  handles = ax.legend_.legendHandles[::-1]\n"
     ]
    },
    {
     "data": {
      "image/png": "[encoded data removed]",
      "text/plain": [
       "<Figure size 600x400 with 1 Axes>"
      ]
     },
     "metadata": {},
     "output_type": "display_data"
    }
   ],
   "source": [
    "# Plot the probability distribution for each condition without KDE\n",
    "color_dict = {\"PB, Iso\": \"#DD8452\", \"HOPS\": \"#4C72B0\"}\n",
    "plt.figure(figsize=(6, 4))\n",
    "bins = 30\n",
    "ax = sns.histplot(\n",
    "    data=final_filtered_df,\n",
    "    x='logD',\n",
    "    hue=\"Condition\",\n",
    "    bins=bins,\n",
    "    stat=\"probability\",\n",
    "    common_norm=False,\n",
    "    binrange=(-3, 1),\n",
    "    lw=2,\n",
    "    element=\"step\",\n",
    "    fill=True,\n",
    "    alpha=0.4,\n",
    "    palette=color_dict,\n",
    "    hue_order=[\"HOPS\", \"PB, Iso\"]\n",
    ")\n",
    "# plt.axvline(1, ls=\"--\", c=\"gray\", lw=2)\n",
    "handles = ax.legend_.legendHandles[::-1]  \n",
    "ax.legend(handles, ['PB, Iso', 'HOPS'], fontsize=16) \n",
    "\n",
    "legend = ax.get_legend()\n",
    "legend.set_title(None)\n",
    "legend_frame = legend.get_frame()\n",
    "legend_frame.set_visible(False)\n",
    "\n",
    "plt.text(\n",
    "    -0.26, 0.0765,\n",
    "    r\"N$_{PB, Iso}$=\" + f\"{n_PB:,}\",\n",
    "    fontdict={\"fontsize\": 16}\n",
    ")\n",
    "\n",
    "plt.text(\n",
    "     -0.26, 0.068,\n",
    "    r\"N$_{HOPS}$=\" + f\"{n_HOPS:,}\",\n",
    "    fontdict={\"fontsize\": 16}\n",
    ")\n",
    "\n",
    "plt.xlim(-3, 1) \n",
    "plt.ylim(0, None)\n",
    "plt.xlabel('log(D [$\\mu m^2/s$])', fontsize = 18)\n",
    "plt.ylabel(\"Probability\", fontsize=18)\n",
    "plt.gca().spines[:].set_linewidth(1)\n",
    "plt.gca().tick_params(\n",
    "    axis=\"both\",\n",
    "    which=\"major\",\n",
    "    labelsize=18,\n",
    "    direction=\"in\",\n",
    "    bottom=True,\n",
    "    left=True,\n",
    "    length=5,\n",
    "    width=1,\n",
    ")\n",
    "plt.gca().set_axisbelow(False)\n",
    "plt.gca().tick_params(axis=\"both\", which=\"major\", labelsize=18)\n",
    "plt.savefig(\"D_histo.png\", format=\"png\", bbox_inches=\"tight\", dpi=600)"
   ]
  },
  {
   "cell_type": "code",
   "execution_count": null,
   "metadata": {},
   "outputs": [
    {
     "name": "stdout",
     "output_type": "stream",
     "text": [
      "\n",
      "Diffusion Coefficient Distribution Summary:\n"
     ]
    },
    {
     "data": {
      "text/html": [
       "<div>\n",
       "<style scoped>\n",
       "    .dataframe tbody tr th:only-of-type {\n",
       "        vertical-align: middle;\n",
       "    }\n",
       "\n",
       "    .dataframe tbody tr th {\n",
       "        vertical-align: top;\n",
       "    }\n",
       "\n",
       "    .dataframe thead th {\n",
       "        text-align: right;\n",
       "    }\n",
       "</style>\n",
       "<table border=\"1\" class=\"dataframe\">\n",
       "  <thead>\n",
       "    <tr style=\"text-align: right;\">\n",
       "      <th></th>\n",
       "      <th>Condition</th>\n",
       "      <th>D &gt; 0.01 µm²/s (%)</th>\n",
       "      <th>D &lt; 0.001 µm²/s (%)</th>\n",
       "    </tr>\n",
       "  </thead>\n",
       "  <tbody>\n",
       "    <tr>\n",
       "      <th>0</th>\n",
       "      <td>PB, Iso</td>\n",
       "      <td>93.37</td>\n",
       "      <td>0.00</td>\n",
       "    </tr>\n",
       "    <tr>\n",
       "      <th>1</th>\n",
       "      <td>HOPS</td>\n",
       "      <td>67.05</td>\n",
       "      <td>0.23</td>\n",
       "    </tr>\n",
       "  </tbody>\n",
       "</table>\n",
       "</div>"
      ],
      "text/plain": [
       "  Condition  D > 0.01 µm²/s (%)  D < 0.001 µm²/s (%)\n",
       "0   PB, Iso               93.37                 0.00\n",
       "1      HOPS               67.05                 0.23"
      ]
     },
     "metadata": {},
     "output_type": "display_data"
    }
   ],
   "source": [
    "# New percentage calculations\n",
    "# Calculate percentages for D thresholds\n",
    "pb_mask = final_filtered_df['Condition'] == 'PB, Iso'\n",
    "hops_mask = final_filtered_df['Condition'] == 'HOPS'\n",
    "\n",
    "# Calculate percentages\n",
    "pb_high = (final_filtered_df[pb_mask]['D_linear'] > 0.01).mean() * 100\n",
    "pb_low = (final_filtered_df[pb_mask]['D_linear'] < 0.001).mean() * 100\n",
    "hops_high = (final_filtered_df[hops_mask]['D_linear'] > 0.01).mean() * 100\n",
    "hops_low = (final_filtered_df[hops_mask]['D_linear'] < 0.001).mean() * 100\n",
    "\n",
    "# Create summary table\n",
    "summary_df = pd.DataFrame({\n",
    "    'Condition': ['PB, Iso', 'HOPS'],\n",
    "    'D > 0.01 µm²/s (%)': [pb_high, hops_high],\n",
    "    'D < 0.001 µm²/s (%)': [pb_low, hops_low]\n",
    "}).round(2)\n",
    "\n",
    "# Display and save results\n",
    "print(\"\\nDiffusion Coefficient Distribution Summary:\")\n",
    "display(summary_df)\n",
    "summary_df.to_csv('D_threshold_percentages.csv', index=False)"
   ]
  },
  {
   "cell_type": "markdown",
   "metadata": {},
   "source": [
    "## Diffusion coefficient GEM, 1x vs GEM, 2x"
   ]
  },
  {
   "cell_type": "code",
   "execution_count": 1,
   "metadata": {},
   "outputs": [],
   "source": [
    "import os\n",
    "from os.path import join, basename\n",
    "from tkinter import filedialog\n",
    "import matplotlib.pyplot as plt\n",
    "import numpy as np\n",
    "import pandas as pd\n",
    "import seaborn as sns\n",
    "\n",
    "sns.set(color_codes=True, style=\"white\")"
   ]
  },
  {
   "cell_type": "code",
   "execution_count": 2,
   "metadata": {},
   "outputs": [],
   "source": [
    "mean_step_size_threshold_nm = 30  \n",
    "R2_threshold = 0.6\n",
    "conversion_factor = 117 "
   ]
  },
  {
   "cell_type": "code",
   "execution_count": 3,
   "metadata": {},
   "outputs": [],
   "source": [
    "# Use file dialog to select CSV files for each condition\n",
    "csv_files_1 = filedialog.askopenfilenames(\n",
    "    title=\"Select CSV Files for 1x\",\n",
    "    filetypes=((\"CSV files\", \"*.csv\"), (\"All files\", \"*.*\")),\n",
    ")\n",
    "csv_files_2 = filedialog.askopenfilenames(\n",
    "    title=\"Select CSV Files for 2x\",\n",
    "    filetypes=((\"CSV files\", \"*.csv\"), (\"All files\", \"*.*\")),\n",
    ")"
   ]
  },
  {
   "cell_type": "code",
   "execution_count": 4,
   "metadata": {},
   "outputs": [],
   "source": [
    "# Function to load CSV files and add a 'Condition' column\n",
    "def load_and_label_files(file_paths, label):\n",
    "    combined_df_list = []\n",
    "    for file in file_paths:\n",
    "        df = pd.read_csv(file)\n",
    "        df['Condition'] = label\n",
    "        df['title'] = basename(file)\n",
    "        df = df.dropna(subset=['D_linear'])\n",
    "        df['logD'] = np.log10(df['D_linear'])\n",
    "        combined_df_list.append(df)\n",
    "    combined_df = pd.concat(combined_df_list, ignore_index=True)\n",
    "    return combined_df"
   ]
  },
  {
   "cell_type": "code",
   "execution_count": 5,
   "metadata": {},
   "outputs": [
    {
     "name": "stderr",
     "output_type": "stream",
     "text": [
      "c:\\Users\\bisal\\AppData\\Local\\miniconda3\\envs\\spt\\lib\\site-packages\\pandas\\core\\arraylike.py:402: RuntimeWarning: invalid value encountered in log10\n",
      "  result = getattr(ufunc, method)(*inputs, **kwargs)\n",
      "c:\\Users\\bisal\\AppData\\Local\\miniconda3\\envs\\spt\\lib\\site-packages\\pandas\\core\\arraylike.py:402: RuntimeWarning: invalid value encountered in log10\n",
      "  result = getattr(ufunc, method)(*inputs, **kwargs)\n",
      "c:\\Users\\bisal\\AppData\\Local\\miniconda3\\envs\\spt\\lib\\site-packages\\pandas\\core\\arraylike.py:402: RuntimeWarning: invalid value encountered in log10\n",
      "  result = getattr(ufunc, method)(*inputs, **kwargs)\n",
      "c:\\Users\\bisal\\AppData\\Local\\miniconda3\\envs\\spt\\lib\\site-packages\\pandas\\core\\arraylike.py:402: RuntimeWarning: invalid value encountered in log10\n",
      "  result = getattr(ufunc, method)(*inputs, **kwargs)\n",
      "c:\\Users\\bisal\\AppData\\Local\\miniconda3\\envs\\spt\\lib\\site-packages\\pandas\\core\\arraylike.py:402: RuntimeWarning: invalid value encountered in log10\n",
      "  result = getattr(ufunc, method)(*inputs, **kwargs)\n",
      "c:\\Users\\bisal\\AppData\\Local\\miniconda3\\envs\\spt\\lib\\site-packages\\pandas\\core\\arraylike.py:402: RuntimeWarning: invalid value encountered in log10\n",
      "  result = getattr(ufunc, method)(*inputs, **kwargs)\n",
      "c:\\Users\\bisal\\AppData\\Local\\miniconda3\\envs\\spt\\lib\\site-packages\\pandas\\core\\arraylike.py:402: RuntimeWarning: invalid value encountered in log10\n",
      "  result = getattr(ufunc, method)(*inputs, **kwargs)\n",
      "c:\\Users\\bisal\\AppData\\Local\\miniconda3\\envs\\spt\\lib\\site-packages\\pandas\\core\\arraylike.py:402: RuntimeWarning: invalid value encountered in log10\n",
      "  result = getattr(ufunc, method)(*inputs, **kwargs)\n",
      "c:\\Users\\bisal\\AppData\\Local\\miniconda3\\envs\\spt\\lib\\site-packages\\pandas\\core\\arraylike.py:402: RuntimeWarning: invalid value encountered in log10\n",
      "  result = getattr(ufunc, method)(*inputs, **kwargs)\n",
      "c:\\Users\\bisal\\AppData\\Local\\miniconda3\\envs\\spt\\lib\\site-packages\\pandas\\core\\arraylike.py:402: RuntimeWarning: invalid value encountered in log10\n",
      "  result = getattr(ufunc, method)(*inputs, **kwargs)\n",
      "c:\\Users\\bisal\\AppData\\Local\\miniconda3\\envs\\spt\\lib\\site-packages\\pandas\\core\\arraylike.py:402: RuntimeWarning: invalid value encountered in log10\n",
      "  result = getattr(ufunc, method)(*inputs, **kwargs)\n",
      "c:\\Users\\bisal\\AppData\\Local\\miniconda3\\envs\\spt\\lib\\site-packages\\pandas\\core\\arraylike.py:402: RuntimeWarning: invalid value encountered in log10\n",
      "  result = getattr(ufunc, method)(*inputs, **kwargs)\n",
      "c:\\Users\\bisal\\AppData\\Local\\miniconda3\\envs\\spt\\lib\\site-packages\\pandas\\core\\arraylike.py:402: RuntimeWarning: invalid value encountered in log10\n",
      "  result = getattr(ufunc, method)(*inputs, **kwargs)\n",
      "c:\\Users\\bisal\\AppData\\Local\\miniconda3\\envs\\spt\\lib\\site-packages\\pandas\\core\\arraylike.py:402: RuntimeWarning: invalid value encountered in log10\n",
      "  result = getattr(ufunc, method)(*inputs, **kwargs)\n",
      "c:\\Users\\bisal\\AppData\\Local\\miniconda3\\envs\\spt\\lib\\site-packages\\pandas\\core\\arraylike.py:402: RuntimeWarning: invalid value encountered in log10\n",
      "  result = getattr(ufunc, method)(*inputs, **kwargs)\n",
      "c:\\Users\\bisal\\AppData\\Local\\miniconda3\\envs\\spt\\lib\\site-packages\\pandas\\core\\arraylike.py:402: RuntimeWarning: invalid value encountered in log10\n",
      "  result = getattr(ufunc, method)(*inputs, **kwargs)\n",
      "c:\\Users\\bisal\\AppData\\Local\\miniconda3\\envs\\spt\\lib\\site-packages\\pandas\\core\\arraylike.py:402: RuntimeWarning: invalid value encountered in log10\n",
      "  result = getattr(ufunc, method)(*inputs, **kwargs)\n",
      "c:\\Users\\bisal\\AppData\\Local\\miniconda3\\envs\\spt\\lib\\site-packages\\pandas\\core\\arraylike.py:402: RuntimeWarning: invalid value encountered in log10\n",
      "  result = getattr(ufunc, method)(*inputs, **kwargs)\n",
      "c:\\Users\\bisal\\AppData\\Local\\miniconda3\\envs\\spt\\lib\\site-packages\\pandas\\core\\arraylike.py:402: RuntimeWarning: invalid value encountered in log10\n",
      "  result = getattr(ufunc, method)(*inputs, **kwargs)\n",
      "c:\\Users\\bisal\\AppData\\Local\\miniconda3\\envs\\spt\\lib\\site-packages\\pandas\\core\\arraylike.py:402: RuntimeWarning: invalid value encountered in log10\n",
      "  result = getattr(ufunc, method)(*inputs, **kwargs)\n",
      "c:\\Users\\bisal\\AppData\\Local\\miniconda3\\envs\\spt\\lib\\site-packages\\pandas\\core\\arraylike.py:402: RuntimeWarning: invalid value encountered in log10\n",
      "  result = getattr(ufunc, method)(*inputs, **kwargs)\n",
      "c:\\Users\\bisal\\AppData\\Local\\miniconda3\\envs\\spt\\lib\\site-packages\\pandas\\core\\arraylike.py:402: RuntimeWarning: invalid value encountered in log10\n",
      "  result = getattr(ufunc, method)(*inputs, **kwargs)\n",
      "c:\\Users\\bisal\\AppData\\Local\\miniconda3\\envs\\spt\\lib\\site-packages\\pandas\\core\\arraylike.py:402: RuntimeWarning: invalid value encountered in log10\n",
      "  result = getattr(ufunc, method)(*inputs, **kwargs)\n",
      "c:\\Users\\bisal\\AppData\\Local\\miniconda3\\envs\\spt\\lib\\site-packages\\pandas\\core\\arraylike.py:402: RuntimeWarning: invalid value encountered in log10\n",
      "  result = getattr(ufunc, method)(*inputs, **kwargs)\n",
      "c:\\Users\\bisal\\AppData\\Local\\miniconda3\\envs\\spt\\lib\\site-packages\\pandas\\core\\arraylike.py:402: RuntimeWarning: invalid value encountered in log10\n",
      "  result = getattr(ufunc, method)(*inputs, **kwargs)\n",
      "c:\\Users\\bisal\\AppData\\Local\\miniconda3\\envs\\spt\\lib\\site-packages\\pandas\\core\\arraylike.py:402: RuntimeWarning: invalid value encountered in log10\n",
      "  result = getattr(ufunc, method)(*inputs, **kwargs)\n",
      "c:\\Users\\bisal\\AppData\\Local\\miniconda3\\envs\\spt\\lib\\site-packages\\pandas\\core\\arraylike.py:402: RuntimeWarning: invalid value encountered in log10\n",
      "  result = getattr(ufunc, method)(*inputs, **kwargs)\n",
      "c:\\Users\\bisal\\AppData\\Local\\miniconda3\\envs\\spt\\lib\\site-packages\\pandas\\core\\arraylike.py:402: RuntimeWarning: invalid value encountered in log10\n",
      "  result = getattr(ufunc, method)(*inputs, **kwargs)\n",
      "c:\\Users\\bisal\\AppData\\Local\\miniconda3\\envs\\spt\\lib\\site-packages\\pandas\\core\\arraylike.py:402: RuntimeWarning: invalid value encountered in log10\n",
      "  result = getattr(ufunc, method)(*inputs, **kwargs)\n",
      "c:\\Users\\bisal\\AppData\\Local\\miniconda3\\envs\\spt\\lib\\site-packages\\pandas\\core\\arraylike.py:402: RuntimeWarning: invalid value encountered in log10\n",
      "  result = getattr(ufunc, method)(*inputs, **kwargs)\n",
      "c:\\Users\\bisal\\AppData\\Local\\miniconda3\\envs\\spt\\lib\\site-packages\\pandas\\core\\arraylike.py:402: RuntimeWarning: invalid value encountered in log10\n",
      "  result = getattr(ufunc, method)(*inputs, **kwargs)\n",
      "c:\\Users\\bisal\\AppData\\Local\\miniconda3\\envs\\spt\\lib\\site-packages\\pandas\\core\\arraylike.py:402: RuntimeWarning: invalid value encountered in log10\n",
      "  result = getattr(ufunc, method)(*inputs, **kwargs)\n",
      "c:\\Users\\bisal\\AppData\\Local\\miniconda3\\envs\\spt\\lib\\site-packages\\pandas\\core\\arraylike.py:402: RuntimeWarning: invalid value encountered in log10\n",
      "  result = getattr(ufunc, method)(*inputs, **kwargs)\n",
      "c:\\Users\\bisal\\AppData\\Local\\miniconda3\\envs\\spt\\lib\\site-packages\\pandas\\core\\arraylike.py:402: RuntimeWarning: invalid value encountered in log10\n",
      "  result = getattr(ufunc, method)(*inputs, **kwargs)\n",
      "c:\\Users\\bisal\\AppData\\Local\\miniconda3\\envs\\spt\\lib\\site-packages\\pandas\\core\\arraylike.py:402: RuntimeWarning: invalid value encountered in log10\n",
      "  result = getattr(ufunc, method)(*inputs, **kwargs)\n",
      "c:\\Users\\bisal\\AppData\\Local\\miniconda3\\envs\\spt\\lib\\site-packages\\pandas\\core\\arraylike.py:402: RuntimeWarning: invalid value encountered in log10\n",
      "  result = getattr(ufunc, method)(*inputs, **kwargs)\n",
      "c:\\Users\\bisal\\AppData\\Local\\miniconda3\\envs\\spt\\lib\\site-packages\\pandas\\core\\arraylike.py:402: RuntimeWarning: invalid value encountered in log10\n",
      "  result = getattr(ufunc, method)(*inputs, **kwargs)\n"
     ]
    }
   ],
   "source": [
    "# Load and label CSV files for each condition\n",
    "df_condition1 = load_and_label_files(csv_files_1, 'GEM, 1x')\n",
    "df_condition2 = load_and_label_files(csv_files_2, 'GEM, 2x')"
   ]
  },
  {
   "cell_type": "code",
   "execution_count": 6,
   "metadata": {},
   "outputs": [],
   "source": [
    "# Combine the data from all conditions\n",
    "df_combined = pd.concat([df_condition1, df_condition2], ignore_index=True)\n",
    "df_combined['mean_step_sizes_nm'] = df_combined['mean_step_sizes'] * conversion_factor"
   ]
  },
  {
   "cell_type": "code",
   "execution_count": 7,
   "metadata": {},
   "outputs": [],
   "source": [
    "filtered_by_step_size = df_combined[df_combined['mean_step_sizes_nm'] > mean_step_size_threshold_nm]\n",
    "final_filtered_df = filtered_by_step_size[filtered_by_step_size['R2_linear'] > 0.6]"
   ]
  },
  {
   "cell_type": "code",
   "execution_count": 8,
   "metadata": {},
   "outputs": [],
   "source": [
    "def calculate_unique_trackID_count(filtered_df, condition):\n",
    "    condition_df = filtered_df[filtered_df['Condition'] == condition]\n",
    "    unique_titles = condition_df['title'].unique()\n",
    "    unique_trackID_count = 0\n",
    "    for title in unique_titles:\n",
    "        unique_trackID_count += condition_df[condition_df['title'] == title]['trackID'].nunique()\n",
    "    return unique_trackID_count"
   ]
  },
  {
   "cell_type": "code",
   "execution_count": 9,
   "metadata": {},
   "outputs": [],
   "source": [
    "n_GEM_1x = calculate_unique_trackID_count(final_filtered_df, 'GEM, 1x')\n",
    "n_GEM_2x = calculate_unique_trackID_count(final_filtered_df, 'GEM, 2x')"
   ]
  },
  {
   "cell_type": "code",
   "execution_count": 10,
   "metadata": {},
   "outputs": [],
   "source": [
    "# Calculate mean logD values for each condition\n",
    "mean_logD_1x = final_filtered_df[final_filtered_df['Condition'] == 'GEM, 1x']['logD'].mean()\n",
    "mean_logD_2x = final_filtered_df[final_filtered_df['Condition'] == 'GEM, 2x']['logD'].mean()"
   ]
  },
  {
   "cell_type": "code",
   "execution_count": 11,
   "metadata": {},
   "outputs": [
    {
     "name": "stderr",
     "output_type": "stream",
     "text": [
      "C:\\Users\\bisal\\AppData\\Local\\Temp\\2\\ipykernel_48064\\2017765299.py:21: MatplotlibDeprecationWarning: The legendHandles attribute was deprecated in Matplotlib 3.7 and will be removed two minor releases later. Use legend_handles instead.\n",
      "  handles = ax.legend_.legendHandles[::-1]\n"
     ]
    },
    {
     "data": {
      "image/png": "[encoded data removed]",
      "text/plain": [
       "<Figure size 600x400 with 1 Axes>"
      ]
     },
     "metadata": {},
     "output_type": "display_data"
    }
   ],
   "source": [
    "# Plot the probability distribution for each condition without KDE\n",
    "color_dict = {\"GEM, 1x\": \"#DD8452\", \"GEM, 2x\": \"#4C72B0\"}\n",
    "plt.figure(figsize=(6, 4))\n",
    "bins = 30\n",
    "ax = sns.histplot(\n",
    "    data=final_filtered_df,\n",
    "    x='logD',\n",
    "    hue=\"Condition\",\n",
    "    bins=bins,\n",
    "    stat=\"probability\",\n",
    "    common_norm=False,\n",
    "    binrange=(-3, 1),\n",
    "    lw=2,\n",
    "    element=\"step\",\n",
    "    fill=True,\n",
    "    alpha=0.4,\n",
    "    palette=color_dict,\n",
    "    hue_order=[\"GEM, 2x\", \"GEM, 1x\"]\n",
    ")\n",
    "# plt.axvline(1, ls=\"--\", c=\"gray\", lw=2)\n",
    "handles = ax.legend_.legendHandles[::-1]  \n",
    "ax.legend(handles, ['GEM, 1x', 'GEM, 2x'], fontsize=16) \n",
    "\n",
    "legend = ax.get_legend()\n",
    "legend.set_title(None)\n",
    "legend_frame = legend.get_frame()\n",
    "legend_frame.set_visible(False)\n",
    "\n",
    "# plt.text(\n",
    "#     -0.75, 0.0765,\n",
    "#     r\"N$_{GEM, 1x}$=\" + f\"{n_GEM_1x:,}\",\n",
    "#     fontdict={\"fontsize\": 16}\n",
    "# )\n",
    "\n",
    "# plt.text(\n",
    "#      -0.75, 0.068,\n",
    "#     r\"N$_{GEM, 2x}$=\" + f\"{n_GEM_2x:,}\",\n",
    "#     fontdict={\"fontsize\": 16}\n",
    "# )\n",
    "\n",
    "plt.xlim(-3, 2) \n",
    "plt.ylim(0, None)\n",
    "plt.xlabel('log(D [$\\mu m^2/s$])', fontsize = 18)\n",
    "plt.ylabel(\"Probability\", fontsize=18)\n",
    "plt.gca().spines[:].set_linewidth(1)\n",
    "plt.gca().tick_params(\n",
    "    axis=\"both\",\n",
    "    which=\"major\",\n",
    "    labelsize=18,\n",
    "    direction=\"in\",\n",
    "    bottom=True,\n",
    "    left=True,\n",
    "    length=5,\n",
    "    width=1,\n",
    ")\n",
    "plt.gca().set_axisbelow(False)\n",
    "plt.gca().tick_params(axis=\"both\", which=\"major\", labelsize=18)\n",
    "plt.savefig(\"D_histo.png\", format=\"png\", bbox_inches=\"tight\", dpi=600)"
   ]
  },
  {
   "cell_type": "code",
   "execution_count": 12,
   "metadata": {},
   "outputs": [
    {
     "name": "stdout",
     "output_type": "stream",
     "text": [
      "Mean logD for GEM, 1x: -0.6543\n",
      "Mean logD for GEM, 2x: -1.1503\n"
     ]
    }
   ],
   "source": [
    "# Print mean values to console\n",
    "print(f\"Mean logD for GEM, 1x: {mean_logD_1x:.4f}\")\n",
    "print(f\"Mean logD for GEM, 2x: {mean_logD_2x:.4f}\")"
   ]
  }
 ],
 "metadata": {
  "kernelspec": {
   "display_name": "spt",
   "language": "python",
   "name": "python3"
  },
  "language_info": {
   "codemirror_mode": {
    "name": "ipython",
    "version": 3
   },
   "file_extension": ".py",
   "mimetype": "text/x-python",
   "name": "python",
   "nbconvert_exporter": "python",
   "pygments_lexer": "ipython3",
   "version": "3.9.18"
  }
 },
 "nbformat": 4,
 "nbformat_minor": 2
}

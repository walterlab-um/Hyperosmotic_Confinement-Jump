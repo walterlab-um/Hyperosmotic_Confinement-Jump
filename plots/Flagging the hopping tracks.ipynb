{
 "cells": [
  {
   "cell_type": "markdown",
   "metadata": {},
   "source": [
    "# Flagging the hopping tracks"
   ]
  },
  {
   "cell_type": "code",
   "execution_count": 1,
   "metadata": {},
   "outputs": [],
   "source": [
    "import pandas as pd\n",
    "import numpy as np\n",
    "import os\n",
    "from os.path import dirname, join\n",
    "from tkinter import filedialog\n",
    "from copy import deepcopy\n",
    "import tifffile\n",
    "import matplotlib.pyplot as plt\n",
    "from matplotlib.animation import FuncAnimation\n",
    "import matplotlib.animation as animation"
   ]
  },
  {
   "cell_type": "code",
   "execution_count": 2,
   "metadata": {},
   "outputs": [],
   "source": [
    "# parameters\n",
    "consecutive_window = 3\n",
    "threshold_alpha = 1\n",
    "threshold_D = 0.15 # um2/s\n",
    "threshold_R2 = 0.5"
   ]
  },
  {
   "cell_type": "code",
   "execution_count": 3,
   "metadata": {},
   "outputs": [],
   "source": [
    "def flag_tracks(df):\n",
    "    track_flags = {}\n",
    "    step_flags = []\n",
    "    trackIDs = df[\"trackID\"].unique()\n",
    "\n",
    "    for track_id in trackIDs:\n",
    "        track_data = df[df[\"trackID\"] == track_id]\n",
    "        high_alpha = track_data[\"alpha\"] > threshold_alpha\n",
    "        step_flags_pertrack = np.repeat(False, track_data.shape[0])\n",
    "\n",
    "        for i in range(len(high_alpha) - (consecutive_window - 1)):\n",
    "            if all(high_alpha[i : i + consecutive_window]):\n",
    "                if (\n",
    "                    np.mean(track_data[\"D\"][i : i + consecutive_window]) > threshold_D\n",
    "                    and np.mean(track_data[\"R2\"][i : i + consecutive_window])\n",
    "                    > threshold_R2\n",
    "                ):\n",
    "                    track_flags[track_id] = True\n",
    "                    step_flags_pertrack[i : i + consecutive_window] = True\n",
    "        step_flags.extend(step_flags_pertrack)\n",
    "\n",
    "    df_out = deepcopy(df)\n",
    "    df_out[\"step_flag\"] = step_flags\n",
    "\n",
    "    return df_out, track_flags"
   ]
  },
  {
   "cell_type": "code",
   "execution_count": 4,
   "metadata": {},
   "outputs": [],
   "source": [
    "csv_file_path = r\"Z:\\Bisal_Halder_turbo\\PROCESSED_DATA\\Impact_of_cytoskeleton_on_HOPS_condensates\\no_drug\\Analysed Data\\2x\\Alpha and D calculated\\20240118_UGD-2x-2s-replicate1-FOV-2_reformatted_processed_alpha_and_D_w5.csv\""
   ]
  },
  {
   "cell_type": "code",
   "execution_count": 5,
   "metadata": {},
   "outputs": [],
   "source": [
    "df = pd.read_csv(csv_file_path)\n",
    "df_out, track_flags = flag_tracks(df)"
   ]
  },
  {
   "cell_type": "code",
   "execution_count": 6,
   "metadata": {},
   "outputs": [
    {
     "name": "stdout",
     "output_type": "stream",
     "text": [
      "120\n"
     ]
    }
   ],
   "source": [
    "print(len(track_flags))"
   ]
  },
  {
   "cell_type": "code",
   "execution_count": 7,
   "metadata": {},
   "outputs": [
    {
     "name": "stdout",
     "output_type": "stream",
     "text": [
      "120\n",
      "2\n",
      "5\n",
      "6\n",
      "16\n",
      "19\n",
      "21\n",
      "33\n",
      "34\n",
      "37\n",
      "57\n",
      "59\n",
      "80\n",
      "83\n",
      "93\n",
      "94\n",
      "96\n",
      "121\n",
      "123\n",
      "135\n",
      "137\n",
      "150\n",
      "155\n",
      "158\n",
      "160\n",
      "162\n",
      "166\n",
      "176\n",
      "193\n",
      "194\n",
      "200\n",
      "204\n",
      "219\n",
      "226\n",
      "231\n",
      "234\n",
      "239\n",
      "240\n",
      "252\n",
      "267\n",
      "271\n",
      "284\n",
      "291\n",
      "298\n",
      "300\n",
      "341\n",
      "357\n",
      "364\n",
      "365\n",
      "385\n",
      "386\n",
      "388\n",
      "391\n",
      "403\n",
      "405\n",
      "413\n",
      "414\n",
      "416\n",
      "418\n",
      "425\n",
      "427\n",
      "428\n",
      "432\n",
      "436\n",
      "437\n",
      "441\n",
      "443\n",
      "447\n",
      "448\n",
      "450\n",
      "454\n",
      "462\n",
      "463\n",
      "469\n",
      "484\n",
      "487\n",
      "489\n",
      "491\n",
      "497\n",
      "500\n",
      "504\n",
      "508\n",
      "513\n",
      "518\n",
      "520\n",
      "521\n",
      "526\n",
      "531\n",
      "537\n",
      "540\n",
      "549\n",
      "551\n",
      "552\n",
      "557\n",
      "560\n",
      "562\n",
      "567\n",
      "590\n",
      "605\n",
      "640\n",
      "642\n",
      "658\n",
      "738\n",
      "762\n",
      "790\n",
      "791\n",
      "792\n",
      "820\n",
      "895\n",
      "942\n",
      "954\n",
      "983\n",
      "990\n",
      "991\n",
      "1008\n",
      "1031\n",
      "1070\n",
      "1106\n",
      "1128\n",
      "1304\n",
      "1347\n"
     ]
    }
   ],
   "source": [
    "df_out.to_csv(csv_file_path[:-4] + \"-wstepflags.csv\", index=False)\n",
    "print(len(track_flags))\n",
    "for track_id, flagged in track_flags.items():\n",
    "    if flagged:\n",
    "        print(track_id)"
   ]
  },
  {
   "cell_type": "code",
   "execution_count": 8,
   "metadata": {},
   "outputs": [],
   "source": [
    "tif_file_path = r\"Z:\\Bisal_Halder_turbo\\PROCESSED_DATA\\Impact_of_cytoskeleton_on_HOPS_condensates\\no_drug\\2x\\20240118_UGD-2x-2s-replicate1-FOV-2.tif\"\n",
    "with tifffile.TiffFile(tif_file_path) as tif:\n",
    "    video = tif.asarray()"
   ]
  },
  {
   "cell_type": "code",
   "execution_count": 9,
   "metadata": {},
   "outputs": [],
   "source": [
    "output_video_path = \"Z:/Bisal_Halder_turbo/PROCESSED_DATA/Trial_analysis/animated_video_with_tracks.mp4\""
   ]
  },
  {
   "cell_type": "code",
   "execution_count": 10,
   "metadata": {},
   "outputs": [
    {
     "data": {
      "image/png": "[encoded data removed]",
      "text/plain": [
       "<Figure size 640x480 with 1 Axes>"
      ]
     },
     "metadata": {},
     "output_type": "display_data"
    }
   ],
   "source": [
    "fig, ax = plt.subplots()"
   ]
  },
  {
   "cell_type": "code",
   "execution_count": 11,
   "metadata": {},
   "outputs": [],
   "source": [
    "def animate(frame):\n",
    "    ax.clear()\n",
    "    img = video[frame]\n",
    "    ax.imshow(img, cmap = 'grey')\n",
    "\n",
    "    current_tracks = df_out[df_out[\"t\"] == frame]\n",
    "    for track_id in current_tracks[\"trackID\"].unique():\n",
    "        track = current_tracks[current_tracks[\"trackID\"] == track_id]\n",
    "        x_plot = track[\"x\"].to_numpy()\n",
    "        y_plot = track[\"y\"].to_numpy()\n",
    "\n",
    "        track_color = 'red' if track_flags.get(track_id, False) else 'green'\n",
    "        ax.plot(x_plot, y_plot, '-o', color=track_color, lw=2, markersize=3)\n",
    "\n",
    "    ax.axis('off')"
   ]
  },
  {
   "cell_type": "code",
   "execution_count": 12,
   "metadata": {},
   "outputs": [],
   "source": [
    "ani = FuncAnimation(fig, animate, frames=len(video), interval=50, repeat=False)"
   ]
  },
  {
   "cell_type": "code",
   "execution_count": 13,
   "metadata": {},
   "outputs": [],
   "source": [
    "writer = animation.FFMpegWriter(fps = 20)"
   ]
  },
  {
   "cell_type": "code",
   "execution_count": 14,
   "metadata": {},
   "outputs": [],
   "source": [
    "ani.save(output_video_path, writer=writer)"
   ]
  },
  {
   "cell_type": "code",
   "execution_count": 15,
   "metadata": {},
   "outputs": [],
   "source": [
    "plt.close(fig)"
   ]
  },
  {
   "cell_type": "code",
   "execution_count": null,
   "metadata": {},
   "outputs": [],
   "source": []
  },
  {
   "cell_type": "code",
   "execution_count": null,
   "metadata": {},
   "outputs": [],
   "source": []
  }
 ],
 "metadata": {
  "kernelspec": {
   "display_name": "spt",
   "language": "python",
   "name": "python3"
  },
  "language_info": {
   "codemirror_mode": {
    "name": "ipython",
    "version": 3
   },
   "file_extension": ".py",
   "mimetype": "text/x-python",
   "name": "python",
   "nbconvert_exporter": "python",
   "pygments_lexer": "ipython3",
   "version": "3.9.18"
  }
 },
 "nbformat": 4,
 "nbformat_minor": 2
}

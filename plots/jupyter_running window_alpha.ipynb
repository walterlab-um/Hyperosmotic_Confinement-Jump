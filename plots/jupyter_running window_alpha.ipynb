{
 "cells": [
  {
   "cell_type": "markdown",
   "metadata": {},
   "source": [
    "# Running Window Alpha Analysis\n"
   ]
  },
  {
   "cell_type": "code",
   "execution_count": 1,
   "metadata": {},
   "outputs": [],
   "source": [
    "import scipy.stats as stats\n",
    "import numpy as np\n",
    "import pandas as pd\n",
    "from tkinter import filedialog\n",
    "import matplotlib.pyplot as plt\n",
    "import seaborn as sns\n",
    "import os\n",
    "from math import ceil\n",
    "from rich.progress import track\n",
    "from statannot import add_stat_annotation\n"
   ]
  },
  {
   "cell_type": "code",
   "execution_count": 2,
   "metadata": {},
   "outputs": [],
   "source": [
    "# Define the function to calculate the fraction of trajectories meeting the condition\n",
    "def calculate_fraction_of_trajectories(df, alpha_threshold=1.5, min_windows=5):\n",
    "    counts = df[df['alpha'] > alpha_threshold].groupby('TRACK_ID')['alpha'].count()\n",
    "    return (counts >= min_windows).mean()"
   ]
  },
  {
   "cell_type": "code",
   "execution_count": 3,
   "metadata": {},
   "outputs": [],
   "source": [
    "# Use file dialog to select CSV files for each condition\n",
    "csv_files_1 = filedialog.askopenfilenames(\n",
    "    title=\"Select CSV Files for No drug_2x\",\n",
    "    filetypes=((\"CSV files\", \"*.csv\"), (\"All files\", \"*.*\")),\n",
    ")\n",
    "csv_files_2 = filedialog.askopenfilenames(\n",
    "    title=\"Select CSV Files for Nocodazole_30 mins\",\n",
    "    filetypes=((\"CSV files\", \"*.csv\"), (\"All files\", \"*.*\")),\n",
    ")\n",
    "csv_files_3 = filedialog.askopenfilenames(\n",
    "    title=\"Select CSV Files for Nocodazole_60 mins\",\n",
    "    filetypes=((\"CSV files\", \"*.csv\"), (\"All files\", \"*.*\")),\n",
    ")"
   ]
  },
  {
   "cell_type": "code",
   "execution_count": 4,
   "metadata": {},
   "outputs": [],
   "source": [
    "# Calculate the fraction for all the selected files for each condition\n",
    "fractions_1 = {file: calculate_fraction_of_trajectories(pd.read_csv(file)) for file in csv_files_1}\n",
    "fractions_2 = {file: calculate_fraction_of_trajectories(pd.read_csv(file)) for file in csv_files_2}\n",
    "fractions_3 = {file: calculate_fraction_of_trajectories(pd.read_csv(file)) for file in csv_files_3}\n"
   ]
  },
  {
   "cell_type": "code",
   "execution_count": 5,
   "metadata": {},
   "outputs": [],
   "source": [
    "# Create DataFrames for the calculated fractions and assign labels\n",
    "fractions_df1 = pd.DataFrame(list(fractions_1.items()), columns=[\"filename\", \"fraction_alpha\"])\n",
    "fractions_df1[\"label\"] = \"No drug_2x\"\n",
    "\n",
    "fractions_df2 = pd.DataFrame(list(fractions_2.items()), columns=[\"filename\", \"fraction_alpha\"])\n",
    "fractions_df2[\"label\"] = \"Nocodazole_30 mins\"\n",
    "\n",
    "fractions_df3 = pd.DataFrame(list(fractions_3.items()), columns=[\"filename\", \"fraction_alpha\"])\n",
    "fractions_df3[\"label\"] = \"Nocodazole_60 mins\""
   ]
  },
  {
   "cell_type": "code",
   "execution_count": 6,
   "metadata": {},
   "outputs": [],
   "source": [
    "# Concatenate the dataframes into a single dataframe and save as CSV\n",
    "data = pd.concat([fractions_df1, fractions_df2, fractions_df3], ignore_index=True)\n",
    "save_path = r\"Z:\\Bisal_Halder_turbo\\PROCESSED_DATA\\Trial_analysis\"\n",
    "csv_file_path = os.path.join(save_path, \"fraction_trajectories_alpha gt 1.5_atleast for 5 windows.csv\")\n",
    "data.to_csv(csv_file_path, index=False)"
   ]
  },
  {
   "cell_type": "code",
   "execution_count": 7,
   "metadata": {},
   "outputs": [
    {
     "name": "stdout",
     "output_type": "stream",
     "text": [
      "p-value annotation legend:\n",
      "ns: 5.00e-02 < p <= 1.00e+00\n",
      "*: 1.00e-02 < p <= 5.00e-02\n",
      "**: 1.00e-03 < p <= 1.00e-02\n",
      "***: 1.00e-04 < p <= 1.00e-03\n",
      "****: p <= 1.00e-04\n",
      "\n",
      "No drug_2x v.s. Nocodazole_30 mins: Welch's t-test independent samples, P_val=1.369e-02 stat=2.662e+00\n",
      "Nocodazole_30 mins v.s. Nocodazole_60 mins: Welch's t-test independent samples, P_val=8.351e-01 stat=2.111e-01\n",
      "No drug_2x v.s. Nocodazole_60 mins: Welch's t-test independent samples, P_val=2.230e-02 stat=2.431e+00\n"
     ]
    },
    {
     "data": {
      "image/png": "[encoded data removed]",
      "text/plain": [
       "<Figure size 400x300 with 1 Axes>"
      ]
     },
     "metadata": {},
     "output_type": "display_data"
    }
   ],
   "source": [
    "# Plotting\n",
    "plt.figure(figsize=(4, 3))\n",
    "ax = sns.barplot(data=data, x=\"label\", y=\"fraction_alpha\", ci='sd', capsize=0.1, estimator=np.mean)\n",
    "sns.stripplot(data=data, x=\"label\", y=\"fraction_alpha\", color=\"0.7\", size=3)\n",
    "\n",
    "# Add statistical annotations\n",
    "box_pairs = [(\"No drug_2x\", \"Nocodazole_30 mins\"), (\"No drug_2x\", \"Nocodazole_60 mins\"), (\"Nocodazole_30 mins\", \"Nocodazole_60 mins\")]\n",
    "test_stats = add_stat_annotation(ax, data=data, x=\"label\", y=\"fraction_alpha\", box_pairs=box_pairs, test=\"t-test_welch\", comparisons_correction=None, text_format=\"star\", loc=\"inside\", verbose=2)\n",
    "\n",
    "plt.xticks(rotation=45, ha=\"right\", fontsize=6)\n",
    "plt.yticks(fontsize=6)\n",
    "plt.ylabel(\"Fraction of alpha values > 1.5 for atleast 5 windows\", fontsize=5)\n",
    "plt.xlabel(\"\")\n",
    "plt.ylim(0, None)\n",
    "plt.tight_layout()\n",
    "plt.show()"
   ]
  },
  {
   "cell_type": "code",
   "execution_count": null,
   "metadata": {},
   "outputs": [],
   "source": []
  },
  {
   "cell_type": "code",
   "execution_count": null,
   "metadata": {},
   "outputs": [],
   "source": []
  }
 ],
 "metadata": {
  "kernelspec": {
   "display_name": "spt",
   "language": "python",
   "name": "python3"
  },
  "language_info": {
   "codemirror_mode": {
    "name": "ipython",
    "version": 3
   },
   "file_extension": ".py",
   "mimetype": "text/x-python",
   "name": "python",
   "nbconvert_exporter": "python",
   "pygments_lexer": "ipython3",
   "version": "3.9.18"
  }
 },
 "nbformat": 4,
 "nbformat_minor": 2
}

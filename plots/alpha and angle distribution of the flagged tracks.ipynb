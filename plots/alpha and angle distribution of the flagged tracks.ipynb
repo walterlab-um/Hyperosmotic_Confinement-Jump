{
 "cells": [
  {
   "cell_type": "markdown",
   "metadata": {},
   "source": [
    "## Alpha and angle distribution of the flagged tracks"
   ]
  },
  {
   "cell_type": "markdown",
   "metadata": {},
   "source": [
    "## Alpha and angle distribution of the flagged steps"
   ]
  },
  {
   "cell_type": "code",
   "execution_count": 1,
   "metadata": {},
   "outputs": [],
   "source": [
    "import pandas as pd\n",
    "import matplotlib.pyplot as plt\n",
    "import seaborn as sns\n",
    "import numpy as np\n",
    "from tkinter import filedialog\n",
    "from rich.progress import track"
   ]
  },
  {
   "cell_type": "code",
   "execution_count": 2,
   "metadata": {},
   "outputs": [],
   "source": [
    "# Use file dialog to select CSV files\n",
    "csv_files = filedialog.askopenfilenames(\n",
    "    title=\"Select CSV Files with Step Flags\",\n",
    "    filetypes=((\"CSV files\", \"*.csv\"), (\"All files\", \"*.*\")),\n",
    ")"
   ]
  },
  {
   "cell_type": "code",
   "execution_count": 3,
   "metadata": {},
   "outputs": [
    {
     "data": {
      "application/vnd.jupyter.widget-view+json": {
       "model_id": "3aab278c38964b2281873138aa109140",
       "version_major": 2,
       "version_minor": 0
      },
      "text/plain": [
       "Output()"
      ]
     },
     "metadata": {},
     "output_type": "display_data"
    },
    {
     "data": {
      "text/html": [
       "<pre style=\"white-space:pre;overflow-x:auto;line-height:normal;font-family:Menlo,'DejaVu Sans Mono',consolas,'Courier New',monospace\"></pre>\n"
      ],
      "text/plain": []
     },
     "metadata": {},
     "output_type": "display_data"
    },
    {
     "data": {
      "text/html": [
       "<pre style=\"white-space:pre;overflow-x:auto;line-height:normal;font-family:Menlo,'DejaVu Sans Mono',consolas,'Courier New',monospace\">\n",
       "</pre>\n"
      ],
      "text/plain": [
       "\n"
      ]
     },
     "metadata": {},
     "output_type": "display_data"
    },
    {
     "data": {
      "image/png": "[encoded data removed]",
      "text/plain": [
       "<Figure size 400x600 with 1 Axes>"
      ]
     },
     "metadata": {},
     "output_type": "display_data"
    }
   ],
   "source": [
    "# Initialize a DataFrame to store all flagged data\n",
    "all_flagged_df = pd.DataFrame()\n",
    "\n",
    "# Process each selected file\n",
    "for csv_file in track(csv_files, description=\"Processing CSV files\"):\n",
    "    df = pd.read_csv(csv_file)\n",
    "    df['step_flag'] = df['step_flag'].astype(str).str.upper() == 'TRUE'\n",
    "    \n",
    "    # Filter for flagged tracks\n",
    "    flagged_df = df[df['step_flag']]\n",
    "    \n",
    "    # Concatenate the flagged data\n",
    "    all_flagged_df = pd.concat([all_flagged_df, flagged_df], ignore_index=True)\n",
    "\n",
    "# Define an angle calculation function\n",
    "def calc_angle(x, y):\n",
    "    x0 = x[:-1]\n",
    "    x1 = x[1:]\n",
    "    y0 = y[:-1]\n",
    "    y1 = y[1:]\n",
    "    vector = np.array([x1 - x0, y1 - y0])\n",
    "    vector_complex = 1j * vector[1, :] + vector[0, :]\n",
    "    angles_eachstep = np.angle(vector_complex, deg=True)\n",
    "    angles = np.ediff1d(angles_eachstep)\n",
    "    angles[angles < -180] += 360\n",
    "    angles[angles > 180] -= 360\n",
    "    return angles\n",
    "\n",
    "all_angles = []\n",
    "total_flagged_steps = 0  # Initialize a counter for the total number of steps\n",
    "\n",
    "for track_id in all_flagged_df['trackID'].unique():\n",
    "    track_data = all_flagged_df[all_flagged_df['trackID'] == track_id]\n",
    "    \n",
    "    # Extract the x, y coordinates where step_flag is True\n",
    "    x = track_data['x'].values\n",
    "    y = track_data['y'].values\n",
    "    step_flags = track_data['step_flag'].values\n",
    "    \n",
    "    # Identify segments of consecutive TRUEs\n",
    "    i = 0\n",
    "    while i < len(step_flags):\n",
    "        # Start counting a segment when a TRUE is found\n",
    "        if step_flags[i]:\n",
    "            start_index = i\n",
    "            while i < len(step_flags) and step_flags[i]:  # Continue until FALSE\n",
    "                i += 1\n",
    "            # Calculate number of consecutive TRUEs\n",
    "            length_of_segment = i - start_index\n",
    "            if length_of_segment > 1:\n",
    "                # Calculate angles for this segment and count steps\n",
    "                segment_x = x[start_index:i]\n",
    "                segment_y = y[start_index:i]\n",
    "                angles = calc_angle(segment_x, segment_y)\n",
    "                all_angles.extend(np.abs(angles))\n",
    "                # Explicitly calculate the number of steps as length_of_segment - 1\n",
    "                total_flagged_steps += (length_of_segment - 1)\n",
    "        else:\n",
    "            i += 1\n",
    "\n",
    "# Check if there are any steps\n",
    "if total_flagged_steps == 0:\n",
    "    print(\"No flagged steps found. Please check your data.\")\n",
    "else:\n",
    "    # Plot the angle distribution\n",
    "    plt.figure(figsize=(4, 6))\n",
    "    bins = 16\n",
    "    ax = sns.histplot(\n",
    "        x=all_angles,\n",
    "        bins=bins,\n",
    "        stat=\"probability\",\n",
    "        common_norm=False,\n",
    "        binrange=(0, 180),\n",
    "        lw=2,\n",
    "        element=\"step\",\n",
    "        fill=True,\n",
    "        alpha=0.8,\n",
    "        color=\"#dca800\"\n",
    "    )\n",
    "    \n",
    "    plt.axhline(1 / bins, ls=\"--\", c=\"gray\", lw=2)\n",
    "    \n",
    "    # Add custom annotations with the total flagged steps count\n",
    "    text_x_position = 73\n",
    "    text_y_position = 0.255  \n",
    "    ax.text(\n",
    "        text_x_position, \n",
    "        text_y_position, \n",
    "        \"sup diff steps\", \n",
    "        color=\"#dca800\", \n",
    "        weight=\"bold\", \n",
    "        size=16\n",
    "    )\n",
    "    ax.text(\n",
    "        99, \n",
    "        text_y_position - 0.02,  \n",
    "        f\"N = {total_flagged_steps:,}\",  # Display the number of steps\n",
    "        color=\"#dca800\", \n",
    "        weight=\"bold\", \n",
    "        size=16\n",
    "    )\n",
    "\n",
    "    plt.xlim(0, 180)\n",
    "    plt.xticks([0, 90, 180])\n",
    "    plt.ylim(0, None)\n",
    "    plt.xlabel(\"Angle, $^\\circ$\", fontsize=18)\n",
    "    plt.ylabel(\"Probability\", fontsize=18)\n",
    "    ax.spines[:].set_linewidth(1)\n",
    "    ax.tick_params(\n",
    "        axis=\"both\",\n",
    "        which=\"major\",\n",
    "        labelsize=18,\n",
    "        direction=\"in\",\n",
    "        bottom=True,\n",
    "        left=True,\n",
    "        length=5,\n",
    "        width=1,\n",
    "    )\n",
    "    ax.set_axisbelow(False)\n",
    "    plt.savefig(\"angle_histo_flagged_steps.png\", format=\"png\", bbox_inches=\"tight\", dpi=600)\n",
    "    plt.show()"
   ]
  },
  {
   "cell_type": "code",
   "execution_count": 5,
   "metadata": {},
   "outputs": [
    {
     "data": {
      "application/vnd.jupyter.widget-view+json": {
       "model_id": "e304eec8c3894d959802fbb34071fe27",
       "version_major": 2,
       "version_minor": 0
      },
      "text/plain": [
       "Output()"
      ]
     },
     "metadata": {},
     "output_type": "display_data"
    },
    {
     "data": {
      "text/html": [
       "<pre style=\"white-space:pre;overflow-x:auto;line-height:normal;font-family:Menlo,'DejaVu Sans Mono',consolas,'Courier New',monospace\"></pre>\n"
      ],
      "text/plain": []
     },
     "metadata": {},
     "output_type": "display_data"
    },
    {
     "data": {
      "text/html": [
       "<pre style=\"white-space:pre;overflow-x:auto;line-height:normal;font-family:Menlo,'DejaVu Sans Mono',consolas,'Courier New',monospace\">\n",
       "</pre>\n"
      ],
      "text/plain": [
       "\n"
      ]
     },
     "metadata": {},
     "output_type": "display_data"
    },
    {
     "data": {
      "image/png": "[encoded data removed]",
      "text/plain": [
       "<Figure size 400x600 with 1 Axes>"
      ]
     },
     "metadata": {},
     "output_type": "display_data"
    }
   ],
   "source": [
    "# Initialize a DataFrame to store all flagged data\n",
    "all_flagged_df = pd.DataFrame()\n",
    "\n",
    "# Set to keep track of all unique flagged trackIDs\n",
    "unique_track_ids = set()\n",
    "\n",
    "# Process each selected file\n",
    "for csv_file in track(csv_files, description=\"Processing CSV files\"):\n",
    "    df = pd.read_csv(csv_file)\n",
    "    df['step_flag'] = df['step_flag'].astype(str).str.upper() == 'TRUE'\n",
    "    \n",
    "    # Filter for flagged tracks\n",
    "    flagged_df = df[df['step_flag']]\n",
    "    \n",
    "    # Update the set of unique trackIDs\n",
    "    unique_track_ids.update(flagged_df['trackID'].unique())\n",
    "    \n",
    "    # Concatenate the flagged data\n",
    "    all_flagged_df = pd.concat([all_flagged_df, flagged_df], ignore_index=True)\n",
    "\n",
    "# Calculate total unique flagged trackIDs\n",
    "total_flagged_tracks = len(unique_track_ids)\n",
    "\n",
    "if total_flagged_tracks == 0:\n",
    "    print(\"No flagged steps found. Please check your data.\")\n",
    "else:\n",
    "    # Define an angle calculation function\n",
    "    def calc_angle(x, y):\n",
    "        x0 = x[:-1]\n",
    "        x1 = x[1:]\n",
    "        y0 = y[:-1]\n",
    "        y1 = y[1:]\n",
    "        vector = np.array([x1 - x0, y1 - y0])\n",
    "        vector_complex = 1j * vector[1, :] + vector[0, :]\n",
    "        angles_eachstep = np.angle(vector_complex, deg=True)\n",
    "        angles = np.ediff1d(angles_eachstep)\n",
    "        angles[angles < -180] += 360\n",
    "        angles[angles > 180] -= 360\n",
    "        return angles\n",
    "\n",
    "    all_angles = []\n",
    "    for track_id in unique_track_ids:\n",
    "        track_data = all_flagged_df[all_flagged_df['trackID'] == track_id]\n",
    "        x = track_data['x'].values\n",
    "        y = track_data['y'].values\n",
    "        angles = calc_angle(x, y)\n",
    "        all_angles.extend(np.abs(angles))\n",
    "\n",
    "    # Plot the angle distribution\n",
    "    plt.figure(figsize=(4, 6))\n",
    "    bins = 16\n",
    "    ax = sns.histplot(\n",
    "        x=all_angles,\n",
    "        bins=bins,\n",
    "        stat=\"probability\",\n",
    "        common_norm=False,\n",
    "        binrange=(0, 180),\n",
    "        lw=2,\n",
    "        element=\"step\",\n",
    "        fill=True,\n",
    "        alpha=0.8,\n",
    "        color=\"#dca800\"\n",
    "    )\n",
    "    \n",
    "    plt.axhline(1 / bins, ls=\"--\", c=\"gray\", lw=2)\n",
    "\n",
    "    # Add custom annotations with the total flagged tracks count\n",
    "    text_x_position = 73\n",
    "    text_y_position = 0.255  \n",
    "    ax.text(\n",
    "        text_x_position, \n",
    "        text_y_position, \n",
    "        \"sup diff steps\", \n",
    "        color=\"#dca800\", \n",
    "        weight=\"bold\", \n",
    "        size=16\n",
    "    )\n",
    "    ax.text(\n",
    "        99, \n",
    "        text_y_position - 0.02,  \n",
    "        f\"N = {total_flagged_tracks:,}\", \n",
    "        color=\"#dca800\", \n",
    "        weight=\"bold\", \n",
    "        size=16\n",
    "    )\n",
    "\n",
    "    plt.xlim(0, 180)\n",
    "    plt.xticks([0, 90, 180])\n",
    "    plt.ylim(0, None)\n",
    "    plt.xlabel(\"Angle, $^\\circ$\", fontsize=18)\n",
    "    plt.ylabel(\"Probability\", fontsize=18)\n",
    "    ax.spines[:].set_linewidth(1)\n",
    "    ax.tick_params(\n",
    "        axis=\"both\",\n",
    "        which=\"major\",\n",
    "        labelsize=18,\n",
    "        direction=\"in\",\n",
    "        bottom=True,\n",
    "        left=True,\n",
    "        length=5,\n",
    "        width=1,\n",
    "    )\n",
    "    ax.set_axisbelow(False)\n",
    "    plt.savefig(\"angle_histo_flagged_steps.png\", format=\"png\", bbox_inches=\"tight\", dpi=600)\n",
    "    plt.show()"
   ]
  },
  {
   "cell_type": "markdown",
   "metadata": {},
   "source": [
    "## Alpha and angle distribution of the whole flagged tracks"
   ]
  },
  {
   "cell_type": "code",
   "execution_count": 7,
   "metadata": {},
   "outputs": [],
   "source": [
    "import pandas as pd\n",
    "import matplotlib.pyplot as plt\n",
    "import seaborn as sns\n",
    "import numpy as np\n",
    "from tkinter import filedialog\n",
    "from rich.progress import track"
   ]
  },
  {
   "cell_type": "code",
   "execution_count": 8,
   "metadata": {},
   "outputs": [],
   "source": [
    "csv_files = filedialog.askopenfilenames(\n",
    "    title=\"Select CSV File with Step Flags\",\n",
    "    filetypes=((\"CSV files\", \"*.csv\"), (\"All files\", \"*.*\")),\n",
    ")"
   ]
  },
  {
   "cell_type": "code",
   "execution_count": 6,
   "metadata": {},
   "outputs": [
    {
     "data": {
      "application/vnd.jupyter.widget-view+json": {
       "model_id": "d0bb73e91280410cb9bcf5fb5e6ec478",
       "version_major": 2,
       "version_minor": 0
      },
      "text/plain": [
       "Output()"
      ]
     },
     "metadata": {},
     "output_type": "display_data"
    },
    {
     "data": {
      "text/html": [
       "<pre style=\"white-space:pre;overflow-x:auto;line-height:normal;font-family:Menlo,'DejaVu Sans Mono',consolas,'Courier New',monospace\"></pre>\n"
      ],
      "text/plain": []
     },
     "metadata": {},
     "output_type": "display_data"
    },
    {
     "data": {
      "text/html": [
       "<pre style=\"white-space:pre;overflow-x:auto;line-height:normal;font-family:Menlo,'DejaVu Sans Mono',consolas,'Courier New',monospace\">\n",
       "</pre>\n"
      ],
      "text/plain": [
       "\n"
      ]
     },
     "metadata": {},
     "output_type": "display_data"
    },
    {
     "name": "stdout",
     "output_type": "stream",
     "text": [
      "Total tracks: 12567\n",
      "Filtered tracks: 111\n"
     ]
    },
    {
     "data": {
      "image/png": "[encoded data removed]",
      "text/plain": [
       "<Figure size 400x600 with 1 Axes>"
      ]
     },
     "metadata": {},
     "output_type": "display_data"
    }
   ],
   "source": [
    "# Initialize a DataFrame to store all flagged data for angle calculations\n",
    "all_flagged_df = pd.DataFrame()\n",
    "\n",
    "# Set to keep track of all unique flagged trackIDs\n",
    "unique_flagged_track_ids = set()\n",
    "\n",
    "# Process each selected file\n",
    "total_tracks = 0\n",
    "\n",
    "for csv_file in track(csv_files, description=\"Processing CSV files\"):\n",
    "    df = pd.read_csv(csv_file)\n",
    "    \n",
    "    # Ensure step_flag column is in a proper boolean format\n",
    "    df['step_flag'] = df['step_flag'].astype(str).str.upper() == 'TRUE'\n",
    "    \n",
    "    # Get the track IDs that have at least one TRUE flag\n",
    "    flagged_track_ids = df[df['step_flag']]['trackID'].unique()\n",
    "    \n",
    "    # Update the set of unique trackIDs\n",
    "    unique_flagged_track_ids.update(flagged_track_ids)\n",
    "    \n",
    "    # Filter the dataframe to include all steps of flagged tracks\n",
    "    flagged_tracks_df = df[df['trackID'].isin(flagged_track_ids)]\n",
    "    \n",
    "    # Append to the master DataFrame for angle calculations\n",
    "    all_flagged_df = pd.concat([all_flagged_df, flagged_tracks_df], ignore_index=True)\n",
    "    \n",
    "    # Update total track count\n",
    "    total_tracks += len(df['trackID'].unique())\n",
    "\n",
    "# Calculate the number of unique flagged trackIDs\n",
    "filtered_tracks = len(unique_flagged_track_ids)\n",
    "\n",
    "# Display track counts\n",
    "print(f\"Total tracks: {total_tracks}\")\n",
    "print(f\"Filtered tracks: {filtered_tracks}\")\n",
    "\n",
    "# Function to calculate angles\n",
    "def calc_angle(x, y):\n",
    "    x0 = x[:-1]\n",
    "    x1 = x[1:]\n",
    "    y0 = y[:-1]\n",
    "    y1 = y[1:]\n",
    "    vector = np.array([x1 - x0, y1 - y0])\n",
    "    vector_complex = 1j * vector[1, :] + vector[0, :]\n",
    "    angles_eachstep = np.angle(vector_complex, deg=True)\n",
    "    angles = np.ediff1d(angles_eachstep)\n",
    "    angles[angles < -180] += 360\n",
    "    angles[angles > 180] -= 360\n",
    "    return angles\n",
    "\n",
    "all_angles = []\n",
    "for track_id in unique_flagged_track_ids:\n",
    "    track_data = all_flagged_df[all_flagged_df['trackID'] == track_id]\n",
    "    x = track_data['x'].values\n",
    "    y = track_data['y'].values\n",
    "    angles = calc_angle(x, y)\n",
    "    all_angles.extend(np.abs(angles))\n",
    "\n",
    "# Create a DataFrame for the angle data\n",
    "angle_data = pd.DataFrame({'angle': all_angles})\n",
    "\n",
    "# Plot the angle distribution\n",
    "plt.figure(figsize=(4, 6))\n",
    "bins = 16\n",
    "ax = sns.histplot(\n",
    "    data=angle_data,\n",
    "    x=\"angle\",\n",
    "    bins=bins,\n",
    "    stat=\"probability\",\n",
    "    common_norm=False,\n",
    "    binrange=(0, 180),\n",
    "    lw=2,\n",
    "    element=\"step\",\n",
    "    alpha=0.8,\n",
    "    color=\"magenta\"\n",
    ")\n",
    "\n",
    "plt.axhline(1 / bins, ls=\"--\", c=\"gray\", lw=2)\n",
    "\n",
    "# Add custom annotations\n",
    "text_x_position = 2\n",
    "text_y_position = 0.088 \n",
    "ax.text(\n",
    "    text_x_position,\n",
    "    text_y_position,\n",
    "    \"sup diff trajectories\",\n",
    "    color=\"magenta\",\n",
    "    weight=\"bold\",\n",
    "    size=16\n",
    ")\n",
    "ax.text(\n",
    "    47.5,\n",
    "    0.082,  \n",
    "    f\"N = {filtered_tracks:,}\",\n",
    "    color=\"magenta\",\n",
    "    weight=\"bold\",\n",
    "    size=16\n",
    ")\n",
    "\n",
    "plt.xlim(0, 180)\n",
    "plt.xticks([0, 90, 180])\n",
    "plt.ylim(0, None)\n",
    "plt.xlabel(\"Angle, $^\\circ$\", fontsize=18)\n",
    "plt.ylabel(\"Probability\", fontsize=18)\n",
    "ax.spines[:].set_linewidth(1)\n",
    "ax.tick_params(\n",
    "    axis=\"both\",\n",
    "    which=\"major\",\n",
    "    labelsize=18,\n",
    "    direction=\"in\",\n",
    "    bottom=True,\n",
    "    left=True,\n",
    "    length=5,\n",
    "    width=1,\n",
    ")\n",
    "ax.set_axisbelow(False)\n",
    "plt.savefig(\"angle_histo_flagged_tracks.png\", format=\"png\", bbox_inches=\"tight\", dpi=600)\n",
    "plt.show()"
   ]
  },
  {
   "cell_type": "code",
   "execution_count": 1,
   "metadata": {},
   "outputs": [],
   "source": [
    "import pandas as pd\n",
    "import numpy as np\n",
    "import matplotlib.pyplot as plt\n",
    "import seaborn as sns\n",
    "from tkinter import filedialog\n",
    "from rich.progress import track\n",
    "\n",
    "sns.set(color_codes=True, style=\"white\")"
   ]
  },
  {
   "cell_type": "code",
   "execution_count": 2,
   "metadata": {},
   "outputs": [],
   "source": [
    "csv_files = filedialog.askopenfilenames(\n",
    "    title=\"Select CSV Files\",\n",
    "    filetypes=((\"CSV files\", \"*.csv\"), (\"All files\", \"*.*\")),\n",
    ")"
   ]
  },
  {
   "cell_type": "code",
   "execution_count": 3,
   "metadata": {},
   "outputs": [],
   "source": [
    "def calc_angle(x, y):\n",
    "    x0 = x[:-1]\n",
    "    x1 = x[1:]\n",
    "    y0 = y[:-1]\n",
    "    y1 = y[1:]\n",
    "    vector = np.array([x1 - x0, y1 - y0])\n",
    "    vector_complex = 1j * vector[1, :] + vector[0, :]\n",
    "    angles_eachstep = np.angle(vector_complex, deg=True)\n",
    "    angles = np.ediff1d(angles_eachstep)\n",
    "    angles[angles < -180] += 360\n",
    "    angles[angles > 180] -= 360\n",
    "    return angles"
   ]
  },
  {
   "cell_type": "code",
   "execution_count": 4,
   "metadata": {},
   "outputs": [
    {
     "data": {
      "application/vnd.jupyter.widget-view+json": {
       "model_id": "4e1da3a821554852ac8843c9b93dd911",
       "version_major": 2,
       "version_minor": 0
      },
      "text/plain": [
       "Output()"
      ]
     },
     "metadata": {},
     "output_type": "display_data"
    },
    {
     "data": {
      "text/html": [
       "<pre style=\"white-space:pre;overflow-x:auto;line-height:normal;font-family:Menlo,'DejaVu Sans Mono',consolas,'Courier New',monospace\"></pre>\n"
      ],
      "text/plain": []
     },
     "metadata": {},
     "output_type": "display_data"
    },
    {
     "data": {
      "text/html": [
       "<pre style=\"white-space:pre;overflow-x:auto;line-height:normal;font-family:Menlo,'DejaVu Sans Mono',consolas,'Courier New',monospace\">\n",
       "</pre>\n"
      ],
      "text/plain": [
       "\n"
      ]
     },
     "metadata": {},
     "output_type": "display_data"
    }
   ],
   "source": [
    "# Initialize variables to store angle values for different categories\n",
    "all_angles_all_tracks = []\n",
    "all_angles_flagged_tracks = []\n",
    "all_angles_flagged_steps = []\n",
    "\n",
    "# Process each selected file\n",
    "for csv_file in track(csv_files):\n",
    "    df = pd.read_csv(csv_file)\n",
    "    df['step_flag'] = df['step_flag'].astype(str).str.upper() == 'TRUE'\n",
    "    \n",
    "    track_ids = df['trackID'].unique()\n",
    "    flagged_track_ids = df[df['step_flag']]['trackID'].unique()\n",
    "    \n",
    "    # Calculate angles for all tracks\n",
    "    for track_id in track_ids:\n",
    "        track_data = df[df['trackID'] == track_id]\n",
    "        x = track_data['x'].values\n",
    "        y = track_data['y'].values\n",
    "        angles = calc_angle(x, y)\n",
    "        all_angles_all_tracks.extend(np.abs(angles))\n",
    "    \n",
    "    # Calculate angles for flagged tracks\n",
    "    flagged_tracks_df = df[df['trackID'].isin(flagged_track_ids)]\n",
    "    for track_id in flagged_track_ids:\n",
    "        track_data = flagged_tracks_df[flagged_tracks_df['trackID'] == track_id]\n",
    "        x = track_data['x'].values\n",
    "        y = track_data['y'].values\n",
    "        angles = calc_angle(x, y)\n",
    "        all_angles_flagged_tracks.extend(np.abs(angles))\n",
    "    \n",
    "    # Calculate angles for flagged steps\n",
    "    flagged_steps_df = df[df['step_flag']]\n",
    "    for track_id in flagged_steps_df['trackID'].unique():\n",
    "        track_data = flagged_steps_df[flagged_steps_df['trackID'] == track_id]\n",
    "        x = track_data['x'].values\n",
    "        y = track_data['y'].values\n",
    "        angles = calc_angle(x, y)\n",
    "        all_angles_flagged_steps.extend(np.abs(angles))\n"
   ]
  },
  {
   "cell_type": "code",
   "execution_count": 5,
   "metadata": {},
   "outputs": [],
   "source": [
    "# Create DataFrames for each angle data\n",
    "angle_data_all_tracks = pd.DataFrame({'angle': all_angles_all_tracks, 'Category': 'All Tracks'})\n",
    "angle_data_flagged_tracks = pd.DataFrame({'angle': all_angles_flagged_tracks, 'Category': 'Flagged Tracks'})\n",
    "angle_data_flagged_steps = pd.DataFrame({'angle': all_angles_flagged_steps, 'Category': 'Flagged Steps'})\n",
    "# Combine all DataFrames\n",
    "combined_angle_data = pd.concat([angle_data_all_tracks, angle_data_flagged_tracks, angle_data_flagged_steps], ignore_index=True)\n"
   ]
  },
  {
   "cell_type": "code",
   "execution_count": 8,
   "metadata": {},
   "outputs": [
    {
     "data": {
      "image/png": "[encoded data removed]",
      "text/plain": [
       "<Figure size 600x400 with 1 Axes>"
      ]
     },
     "metadata": {},
     "output_type": "display_data"
    }
   ],
   "source": [
    "# Plotting\n",
    "plt.figure(figsize=(6, 4))\n",
    "bins = 16\n",
    "ax = sns.histplot(\n",
    "    data=combined_angle_data,\n",
    "    x=\"angle\",\n",
    "    hue=\"Category\",\n",
    "    bins=bins,\n",
    "    stat=\"probability\",\n",
    "    common_norm=False,\n",
    "    binrange=(0, 180),\n",
    "    lw=2,\n",
    "    element=\"step\",\n",
    "    fill=True,\n",
    "    alpha=0.4,\n",
    "    palette={\"All Tracks\": \"#1f77b4\", \"Flagged Tracks\": \"#c46666\", \"Flagged Steps\": \"#c61a3e\"}\n",
    ")\n",
    "\n",
    "# Customize and annotate the plot\n",
    "plt.axhline(1 / bins, ls=\"--\", c=\"gray\", lw=2)\n",
    "plt.xlim(0, 180)\n",
    "plt.xticks([0, 90, 180])\n",
    "plt.xlabel(\"Angle, $^\\circ$\", fontsize=18)\n",
    "plt.ylabel(\"Probability\", fontsize=18)\n",
    "plt.gca().spines[:].set_linewidth(1)\n",
    "plt.gca().tick_params(\n",
    "    axis=\"both\",\n",
    "    which=\"major\",\n",
    "    direction=\"in\",\n",
    "    bottom=True,\n",
    "    left=True,\n",
    "    length=5,\n",
    "    width=1,\n",
    ")\n",
    "plt.gca().set_axisbelow(False)\n",
    "plt.gca().tick_params(axis=\"both\", which=\"major\", labelsize=18)\n",
    "\n",
    "# Customize the legend\n",
    "legend = ax.get_legend()\n",
    "if legend is not None:\n",
    "    legend.set_title(None)\n",
    "    legend_frame = legend.get_frame()\n",
    "    legend_frame.set_visible(False)\n",
    "\n",
    "# Final layout adjustments and saving\n",
    "plt.tight_layout()\n",
    "plt.savefig(\"angle_histo_combined.png\", format=\"png\", bbox_inches=\"tight\", dpi=300)\n",
    "plt.show()"
   ]
  }
 ],
 "metadata": {
  "kernelspec": {
   "display_name": "spt",
   "language": "python",
   "name": "python3"
  },
  "language_info": {
   "codemirror_mode": {
    "name": "ipython",
    "version": 3
   },
   "file_extension": ".py",
   "mimetype": "text/x-python",
   "name": "python",
   "nbconvert_exporter": "python",
   "pygments_lexer": "ipython3",
   "version": "3.9.18"
  }
 },
 "nbformat": 4,
 "nbformat_minor": 2
}

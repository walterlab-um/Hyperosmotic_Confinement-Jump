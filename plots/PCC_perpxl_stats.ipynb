{
 "cells": [
  {
   "cell_type": "code",
   "execution_count": 47,
   "metadata": {},
   "outputs": [],
   "source": [
    "from tifffile import imread\n",
    "import os\n",
    "import matplotlib.pyplot as plt\n",
    "import numpy as np\n",
    "from scipy.stats import sem\n",
    "import pandas as pd\n",
    "import seaborn as sns\n",
    "from rich.progress import track\n",
    "\n",
    "sns.set(color_codes=True, style=\"white\")\n",
    "pd.options.mode.chained_assignment = None  # default='warn'"
   ]
  },
  {
   "cell_type": "markdown",
   "metadata": {},
   "source": [
    "### Load Data"
   ]
  },
  {
   "cell_type": "code",
   "execution_count": 48,
   "metadata": {},
   "outputs": [],
   "source": [
    "folder = r\"Z:\\Bisal_Halder_turbo\\PROCESSED_DATA\\Impact_of_cytoskeleton_on_HOPS_condensates\\HOPS_ER_dual imaging\\no_drug\\Analysed data\\After bandpass filtering\\All together\"\n",
    "os.chdir(folder)\n",
    "\n",
    "lst_fname_ER = [f for f in os.listdir(\".\") if f.endswith(\"-even-bandpass.tif\")]\n",
    "lst_fname_condensate = [f for f in os.listdir(\".\") if f.endswith(\"-odd-bandpass.tif\")]"
   ]
  },
  {
   "cell_type": "code",
   "execution_count": 49,
   "metadata": {},
   "outputs": [],
   "source": [
    "fontsize = 18"
   ]
  },
  {
   "cell_type": "markdown",
   "metadata": {},
   "source": [
    "### Functions"
   ]
  },
  {
   "cell_type": "code",
   "execution_count": 50,
   "metadata": {},
   "outputs": [],
   "source": [
    "def weighted_Pearson(video1_flatten, video2_flatten, weights):\n",
    "    # calculate mean for images and weights\n",
    "    mean_video1 = np.sum(video1_flatten * weights) / np.sum(weights)\n",
    "    mean_video2 = np.sum(video2_flatten * weights) / np.sum(weights)\n",
    "    mean_weights = np.mean(weights)\n",
    "\n",
    "    # calculate weighted covariance and variances\n",
    "    cov = np.sum(\n",
    "        weights * (video1_flatten - mean_video1) * (video2_flatten - mean_video2)\n",
    "    ) / np.sum(weights)\n",
    "    var_video1 = np.sum(weights * (video1_flatten - mean_video1) ** 2) / np.sum(weights)\n",
    "    var_video2 = np.sum(weights * (video2_flatten - mean_video2) ** 2) / np.sum(weights)\n",
    "\n",
    "    # calculate weighted correlation\n",
    "    weighted_corr = cov / np.sqrt(var_video1 * var_video2)\n",
    "\n",
    "    return weighted_corr"
   ]
  },
  {
   "cell_type": "markdown",
   "metadata": {},
   "source": [
    "### ER-condensate"
   ]
  },
  {
   "cell_type": "code",
   "execution_count": 51,
   "metadata": {},
   "outputs": [
    {
     "data": {
      "application/vnd.jupyter.widget-view+json": {
       "model_id": "4994889aa897483c9ff82ecdef9d96cd",
       "version_major": 2,
       "version_minor": 0
      },
      "text/plain": [
       "Output()"
      ]
     },
     "metadata": {},
     "output_type": "display_data"
    },
    {
     "data": {
      "text/html": [
       "<pre style=\"white-space:pre;overflow-x:auto;line-height:normal;font-family:Menlo,'DejaVu Sans Mono',consolas,'Courier New',monospace\"></pre>\n"
      ],
      "text/plain": []
     },
     "metadata": {},
     "output_type": "display_data"
    },
    {
     "data": {
      "text/html": [
       "<pre style=\"white-space:pre;overflow-x:auto;line-height:normal;font-family:Menlo,'DejaVu Sans Mono',consolas,'Courier New',monospace\">\n",
       "</pre>\n"
      ],
      "text/plain": [
       "\n"
      ]
     },
     "metadata": {},
     "output_type": "display_data"
    }
   ],
   "source": [
    "lst_weighted_corr = []\n",
    "\n",
    "for fname_ER in track(lst_fname_ER):\n",
    "    fname_condensate = fname_ER.replace(\"-even-bandpass.tif\", \"-odd-bandpass.tif\")\n",
    "    video1 = imread(fname_condensate)\n",
    "    video2 = imread(fname_ER)\n",
    "    video1_flatten = video1.flatten()\n",
    "    video2_flatten = video2.flatten()\n",
    "    weights = np.ones_like(video1_flatten)\n",
    "    weighted_corr = weighted_Pearson(video1_flatten, video2_flatten, weights)\n",
    "    lst_weighted_corr.append(weighted_corr)"
   ]
  },
  {
   "cell_type": "code",
   "execution_count": 52,
   "metadata": {},
   "outputs": [
    {
     "data": {
      "text/plain": [
       "([0.08727198411146501,\n",
       "  0.07990682611834116,\n",
       "  0.04311959685964204,\n",
       "  0.08854396063270868,\n",
       "  0.3814155227140921,\n",
       "  0.08851981703928077,\n",
       "  0.26521753866115944,\n",
       "  0.10239900935139062,\n",
       "  0.09635431341457797,\n",
       "  0.06953864450077485,\n",
       "  0.06590020276475773,\n",
       "  0.09241807167648165,\n",
       "  0.06182591909306398,\n",
       "  0.08158068886744436,\n",
       "  0.17642256527894357,\n",
       "  0.08815082979392966,\n",
       "  0.21307967996945976,\n",
       "  0.11926426871713437,\n",
       "  0.1404761801853998,\n",
       "  0.25384459219590666,\n",
       "  0.1570093753395814,\n",
       "  0.06052769540424603,\n",
       "  0.20160253428153285,\n",
       "  0.13490829155175485,\n",
       "  0.10053165891407206,\n",
       "  0.12163717234204775],\n",
       " ['20240613_UGD_ER_1x_rep1_FOV-even-bandpass.tif',\n",
       "  '20240613_UGD_ER_2x_rep1_FOV-1-even-bandpass.tif',\n",
       "  '20240613_UGD_ER_2x_rep1_FOV-2-even-bandpass.tif',\n",
       "  '20240613_UGD_ER_2x_rep1_FOV-3-even-bandpass.tif',\n",
       "  '20240613_UGD_ER_2x_rep1_FOV-even-bandpass.tif',\n",
       "  '20240627_UGD_ER_2x_rep1_FOV-1-even-bandpass.tif',\n",
       "  '20240627_UGD_ER_2x_rep1_FOV-2-even-bandpass.tif',\n",
       "  '20240627_UGD_ER_2x_rep1_FOV-even-bandpass.tif',\n",
       "  '20240627_UGD_ER_2x_rep2_FOV-1-even-bandpass.tif',\n",
       "  '20240627_UGD_ER_2x_rep2_FOV-2-even-bandpass.tif',\n",
       "  '20240627_UGD_ER_2x_rep2_FOV-3-even-bandpass.tif',\n",
       "  '20240627_UGD_ER_2x_rep2_FOV-even-bandpass.tif',\n",
       "  '20240627_UGD_ER_2x_rep3_FOV-1-even-bandpass.tif',\n",
       "  '20240627_UGD_ER_2x_rep3_FOV-2-even-bandpass.tif',\n",
       "  '20240627_UGD_ER_2x_rep3_FOV-3-even-bandpass.tif',\n",
       "  '20240627_UGD_ER_2x_rep3_FOV-even-bandpass.tif',\n",
       "  '20240716_UGD_ER_2x_rep1_FOV-1-even-bandpass.tif',\n",
       "  '20240716_UGD_ER_2x_rep1_FOV-2-even-bandpass.tif',\n",
       "  '20240716_UGD_ER_2x_rep1_FOV-even-bandpass.tif',\n",
       "  '20240716_UGD_ER_2x_rep2_FOV-1-even-bandpass.tif',\n",
       "  '20240716_UGD_ER_2x_rep2_FOV-2-even-bandpass.tif',\n",
       "  '20240716_UGD_ER_2x_rep2_FOV-3-even-bandpass.tif',\n",
       "  '20240716_UGD_ER_2x_rep2_FOV-even-bandpass.tif',\n",
       "  '20240716_UGD_ER_2x_rep3_FOV-1-even-bandpass.tif',\n",
       "  '20240716_UGD_ER_2x_rep3_FOV-2-even-bandpass.tif',\n",
       "  '20240716_UGD_ER_2x_rep3_FOV-even-bandpass.tif'])"
      ]
     },
     "execution_count": 52,
     "metadata": {},
     "output_type": "execute_result"
    }
   ],
   "source": [
    "lst_weighted_corr, lst_fname_ER"
   ]
  },
  {
   "cell_type": "code",
   "execution_count": 37,
   "metadata": {},
   "outputs": [
    {
     "name": "stdout",
     "output_type": "stream",
     "text": [
      "nan nan\n"
     ]
    },
    {
     "name": "stderr",
     "output_type": "stream",
     "text": [
      "c:\\Users\\bisal\\AppData\\Local\\miniconda3\\envs\\spt\\lib\\site-packages\\numpy\\core\\fromnumeric.py:3504: RuntimeWarning: Mean of empty slice.\n",
      "  return _methods._mean(a, axis=axis, dtype=dtype,\n",
      "c:\\Users\\bisal\\AppData\\Local\\miniconda3\\envs\\spt\\lib\\site-packages\\numpy\\core\\_methods.py:129: RuntimeWarning: invalid value encountered in scalar divide\n",
      "  ret = ret.dtype.type(ret / rcount)\n",
      "c:\\Users\\bisal\\AppData\\Local\\miniconda3\\envs\\spt\\lib\\site-packages\\numpy\\core\\_methods.py:206: RuntimeWarning: Degrees of freedom <= 0 for slice\n",
      "  ret = _var(a, axis=axis, dtype=dtype, out=out, ddof=ddof,\n",
      "c:\\Users\\bisal\\AppData\\Local\\miniconda3\\envs\\spt\\lib\\site-packages\\numpy\\core\\_methods.py:163: RuntimeWarning: invalid value encountered in divide\n",
      "  arrmean = um.true_divide(arrmean, div, out=arrmean,\n",
      "c:\\Users\\bisal\\AppData\\Local\\miniconda3\\envs\\spt\\lib\\site-packages\\numpy\\core\\_methods.py:198: RuntimeWarning: invalid value encountered in scalar divide\n",
      "  ret = ret.dtype.type(ret / rcount)\n"
     ]
    },
    {
     "data": {
      "image/png": "[encoded data removed]",
      "text/plain": [
       "<Figure size 300x300 with 1 Axes>"
      ]
     },
     "metadata": {},
     "output_type": "display_data"
    }
   ],
   "source": [
    "pcc_abs_max = 0.2\n",
    "plt.figure(figsize=(3, 3))\n",
    "df = pd.DataFrame({\"value\": lst_weighted_corr}, dtype=float)\n",
    "sns.histplot(\n",
    "    data=df,\n",
    "    x=\"value\",\n",
    "    bins=14,\n",
    "    binrange=(-pcc_abs_max, pcc_abs_max),\n",
    "    stat=\"probability\",\n",
    "    lw=2,\n",
    "    element=\"step\",\n",
    "    color=\"gray\",\n",
    ")\n",
    "plt.axvline(0, c=\"k\", lw=2, ls=\"--\")\n",
    "plt.xlim(-pcc_abs_max, pcc_abs_max)\n",
    "# plt.xticks([-0.5, 0.5])\n",
    "# plt.ylim(0, 0.27)\n",
    "# plt.yticks([0, 0.1, 0.2])\n",
    "plt.xlabel(\"Weighted\\nPCC\", fontsize=fontsize)\n",
    "plt.ylabel(\"Probability\", fontsize=fontsize)\n",
    "plt.gca().tick_params(\n",
    "    axis=\"both\",\n",
    "    which=\"major\",\n",
    "    labelsize=fontsize,\n",
    "    direction=\"in\",\n",
    "    bottom=True,\n",
    "    left=True,\n",
    "    length=5,\n",
    "    width=1,\n",
    ")\n",
    "plt.savefig(\n",
    "    \"weighted_pearson_FlocRloc.png\", format=\"png\", dpi=300, bbox_inches=\"tight\"\n",
    ")\n",
    "print(np.mean(lst_weighted_corr), sem(lst_weighted_corr))"
   ]
  },
  {
   "cell_type": "code",
   "execution_count": 53,
   "metadata": {},
   "outputs": [
    {
     "name": "stdout",
     "output_type": "stream",
     "text": [
      "0.12967180537612266 0.01533684776386134\n"
     ]
    },
    {
     "data": {
      "image/png": "[encoded data removed]",
      "text/plain": [
       "<Figure size 300x300 with 1 Axes>"
      ]
     },
     "metadata": {},
     "output_type": "display_data"
    }
   ],
   "source": [
    "# Plotting the results\n",
    "pcc_abs_max = 0.2\n",
    "plt.figure(figsize=(3, 3))\n",
    "df = pd.DataFrame({\"value\": lst_weighted_corr})\n",
    "sns.histplot(data=df, x=\"value\", bins=14, binrange=(-pcc_abs_max, pcc_abs_max), stat=\"probability\", lw=2, element=\"step\", color=\"gray\")\n",
    "plt.axvline(0, c=\"k\", lw=2, ls=\"--\")\n",
    "plt.xlim(-pcc_abs_max, pcc_abs_max)\n",
    "plt.xlabel(\"Weighted\\nPCC\", fontsize=fontsize)\n",
    "plt.ylabel(\"Probability\", fontsize=fontsize)\n",
    "plt.gca().tick_params(\n",
    "    axis=\"both\",\n",
    "    which=\"major\",\n",
    "    labelsize=fontsize,\n",
    "    direction=\"in\",\n",
    "    bottom=True,\n",
    "    left=True,\n",
    "    length=5,\n",
    "    width=1,\n",
    ")\n",
    "plt.savefig(\"weighted_pearson_FlocRloc.png\", format=\"png\", dpi=300, bbox_inches=\"tight\")\n",
    "print(np.mean(lst_weighted_corr), sem(lst_weighted_corr))"
   ]
  }
 ],
 "metadata": {
  "kernelspec": {
   "display_name": "spt",
   "language": "python",
   "name": "python3"
  },
  "language_info": {
   "codemirror_mode": {
    "name": "ipython",
    "version": 3
   },
   "file_extension": ".py",
   "mimetype": "text/x-python",
   "name": "python",
   "nbconvert_exporter": "python",
   "pygments_lexer": "ipython3",
   "version": "3.9.18"
  }
 },
 "nbformat": 4,
 "nbformat_minor": 2
}

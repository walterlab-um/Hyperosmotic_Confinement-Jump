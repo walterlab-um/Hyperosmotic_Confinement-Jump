{
 "cells": [
  {
   "cell_type": "code",
   "execution_count": 26,
   "metadata": {},
   "outputs": [],
   "source": [
    "from tifffile import imread\n",
    "import os\n",
    "import matplotlib.pyplot as plt\n",
    "import numpy as np\n",
    "from scipy.stats import sem\n",
    "import pandas as pd\n",
    "import seaborn as sns\n",
    "from rich.progress import track\n",
    "\n",
    "sns.set(color_codes=True, style=\"white\")\n",
    "pd.options.mode.chained_assignment = None  # default='warn'"
   ]
  },
  {
   "cell_type": "markdown",
   "metadata": {},
   "source": [
    "### Load Data"
   ]
  },
  {
   "cell_type": "code",
   "execution_count": 25,
   "metadata": {},
   "outputs": [],
   "source": [
    "folder = \"/Volumes/lsa-nwalter/Bisal_Halder_turbo/RAW_DATA/20240613_UGD_ER_ALEX_exposure_time_500ms\"\n",
    "os.chdir(folder)\n",
    "\n",
    "lst_fname_ER = [f for f in os.listdir(\".\") if f.endswith(\"-even-bandpass.tif\")]\n",
    "lst_fname_condensate = [f for f in os.listdir(\".\") if f.endswith(\"-odd-bandpass.tif\")]"
   ]
  },
  {
   "cell_type": "code",
   "execution_count": 5,
   "metadata": {},
   "outputs": [],
   "source": [
    "fontsize = 18"
   ]
  },
  {
   "cell_type": "markdown",
   "metadata": {},
   "source": [
    "### Functions"
   ]
  },
  {
   "cell_type": "code",
   "execution_count": 3,
   "metadata": {},
   "outputs": [],
   "source": [
    "def weighted_Pearson(video1_flatten, video2_flatten, weights):\n",
    "    # calculate mean for images and weights\n",
    "    mean_video1 = np.sum(video1_flatten * weights) / np.sum(weights)\n",
    "    mean_video2 = np.sum(video2_flatten * weights) / np.sum(weights)\n",
    "    mean_weights = np.mean(weights)\n",
    "\n",
    "    # calculate weighted covariance and variances\n",
    "    cov = np.sum(\n",
    "        weights * (video1_flatten - mean_video1) * (video2_flatten - mean_video2)\n",
    "    ) / np.sum(weights)\n",
    "    var_video1 = np.sum(weights * (video1_flatten - mean_video1) ** 2) / np.sum(weights)\n",
    "    var_video2 = np.sum(weights * (video2_flatten - mean_video2) ** 2) / np.sum(weights)\n",
    "\n",
    "    # calculate weighted correlation\n",
    "    weighted_corr = cov / np.sqrt(var_video1 * var_video2)\n",
    "\n",
    "    return weighted_corr"
   ]
  },
  {
   "cell_type": "markdown",
   "metadata": {},
   "source": [
    "### ER-condensate"
   ]
  },
  {
   "cell_type": "code",
   "execution_count": 32,
   "metadata": {},
   "outputs": [
    {
     "data": {
      "text/html": [
       "<pre style=\"white-space:pre;overflow-x:auto;line-height:normal;font-family:Menlo,'DejaVu Sans Mono',consolas,'Courier New',monospace\"></pre>\n"
      ],
      "text/plain": [
       "\u001b[?25l"
      ]
     },
     "metadata": {},
     "output_type": "display_data"
    },
    {
     "data": {
      "application/vnd.jupyter.widget-view+json": {
       "model_id": "006d94cf516b46d9b40df5d23f0ab087",
       "version_major": 2,
       "version_minor": 0
      },
      "text/plain": [
       "Output()"
      ]
     },
     "metadata": {},
     "output_type": "display_data"
    },
    {
     "data": {
      "text/html": [
       "<pre style=\"white-space:pre;overflow-x:auto;line-height:normal;font-family:Menlo,'DejaVu Sans Mono',consolas,'Courier New',monospace\">\n",
       "</pre>\n"
      ],
      "text/plain": [
       "\n",
       "\u001b[?25h"
      ]
     },
     "metadata": {},
     "output_type": "display_data"
    }
   ],
   "source": [
    "lst_weighted_corr = []\n",
    "\n",
    "for fname_ER in track(lst_fname_ER):\n",
    "    fname_condensate = fname_ER[:-18] + \"-odd-bandpass.tif\"\n",
    "    video1 = imread(fname_condensate)\n",
    "    video2 = imread(fname_ER)\n",
    "    video1_flatten = video1.flatten()\n",
    "    video2_flatten = video2.flatten()\n",
    "    weights = np.ones_like(video1_flatten)\n",
    "    weighted_corr = weighted_Pearson(video1_flatten, video2_flatten, weights)\n",
    "    lst_weighted_corr.append(weighted_corr)"
   ]
  },
  {
   "cell_type": "code",
   "execution_count": 33,
   "metadata": {},
   "outputs": [
    {
     "data": {
      "text/plain": [
       "([0.0937363881991795,\n",
       "  0.04311959685964204,\n",
       "  0.08985989554724255,\n",
       "  0.08202358659075192,\n",
       "  0.3814155227140921],\n",
       " ['20240613_UGD_ER_405_7_532_5_2x_rep1_FOV-3-even-bandpass.tif',\n",
       "  '20240613_UGD_ER_405_7_532_5_2x_rep1_FOV-2-even-bandpass.tif',\n",
       "  '20240613_UGD_ER_405_7_532_5_1x_rep1_FOV-even-bandpass.tif',\n",
       "  '20240613_UGD_ER_405_7_532_5_2x_rep1_FOV-1-even-bandpass.tif',\n",
       "  '20240613_UGD_ER_405_7_532_5_2x_rep1_FOV-even-bandpass.tif'])"
      ]
     },
     "execution_count": 33,
     "metadata": {},
     "output_type": "execute_result"
    }
   ],
   "source": [
    "lst_weighted_corr, lst_fname_ER"
   ]
  },
  {
   "cell_type": "code",
   "execution_count": null,
   "metadata": {},
   "outputs": [],
   "source": []
  },
  {
   "cell_type": "code",
   "execution_count": 6,
   "metadata": {},
   "outputs": [
    {
     "ename": "NameError",
     "evalue": "name 'fontsize' is not defined",
     "output_type": "error",
     "traceback": [
      "\u001b[0;31m---------------------------------------------------------------------------\u001b[0m",
      "\u001b[0;31mNameError\u001b[0m                                 Traceback (most recent call last)",
      "Cell \u001b[0;32mIn[6], line 19\u001b[0m\n\u001b[1;32m     15\u001b[0m plt\u001b[38;5;241m.\u001b[39mxlim(\u001b[38;5;241m-\u001b[39mpcc_abs_max, pcc_abs_max)\n\u001b[1;32m     16\u001b[0m \u001b[38;5;66;03m# plt.xticks([-0.5, 0.5])\u001b[39;00m\n\u001b[1;32m     17\u001b[0m \u001b[38;5;66;03m# plt.ylim(0, 0.27)\u001b[39;00m\n\u001b[1;32m     18\u001b[0m \u001b[38;5;66;03m# plt.yticks([0, 0.1, 0.2])\u001b[39;00m\n\u001b[0;32m---> 19\u001b[0m plt\u001b[38;5;241m.\u001b[39mxlabel(\u001b[38;5;124m\"\u001b[39m\u001b[38;5;124mWeighted\u001b[39m\u001b[38;5;130;01m\\n\u001b[39;00m\u001b[38;5;124mPCC\u001b[39m\u001b[38;5;124m\"\u001b[39m, fontsize\u001b[38;5;241m=\u001b[39m\u001b[43mfontsize\u001b[49m)\n\u001b[1;32m     20\u001b[0m plt\u001b[38;5;241m.\u001b[39mylabel(\u001b[38;5;124m\"\u001b[39m\u001b[38;5;124mProbability\u001b[39m\u001b[38;5;124m\"\u001b[39m, fontsize\u001b[38;5;241m=\u001b[39mfontsize)\n\u001b[1;32m     21\u001b[0m plt\u001b[38;5;241m.\u001b[39mgca()\u001b[38;5;241m.\u001b[39mtick_params(\n\u001b[1;32m     22\u001b[0m     axis\u001b[38;5;241m=\u001b[39m\u001b[38;5;124m\"\u001b[39m\u001b[38;5;124mboth\u001b[39m\u001b[38;5;124m\"\u001b[39m,\n\u001b[1;32m     23\u001b[0m     which\u001b[38;5;241m=\u001b[39m\u001b[38;5;124m\"\u001b[39m\u001b[38;5;124mmajor\u001b[39m\u001b[38;5;124m\"\u001b[39m,\n\u001b[0;32m   (...)\u001b[0m\n\u001b[1;32m     29\u001b[0m     width\u001b[38;5;241m=\u001b[39m\u001b[38;5;241m1\u001b[39m,\n\u001b[1;32m     30\u001b[0m )\n",
      "\u001b[0;31mNameError\u001b[0m: name 'fontsize' is not defined"
     ]
    },
    {
     "data": {
      "image/png": "[encoded data removed]",
      "text/plain": [
       "<Figure size 300x300 with 1 Axes>"
      ]
     },
     "metadata": {},
     "output_type": "display_data"
    }
   ],
   "source": [
    "pcc_abs_max = 0.2\n",
    "plt.figure(figsize=(3, 3))\n",
    "df = pd.DataFrame({\"value\": lst_weighted_corr}, dtype=float)\n",
    "sns.histplot(\n",
    "    data=df,\n",
    "    x=\"value\",\n",
    "    bins=14,\n",
    "    binrange=(-pcc_abs_max, pcc_abs_max),\n",
    "    stat=\"probability\",\n",
    "    lw=2,\n",
    "    element=\"step\",\n",
    "    color=\"gray\",\n",
    ")\n",
    "plt.axvline(0, c=\"k\", lw=2, ls=\"--\")\n",
    "plt.xlim(-pcc_abs_max, pcc_abs_max)\n",
    "# plt.xticks([-0.5, 0.5])\n",
    "# plt.ylim(0, 0.27)\n",
    "# plt.yticks([0, 0.1, 0.2])\n",
    "plt.xlabel(\"Weighted\\nPCC\", fontsize=fontsize)\n",
    "plt.ylabel(\"Probability\", fontsize=fontsize)\n",
    "plt.gca().tick_params(\n",
    "    axis=\"both\",\n",
    "    which=\"major\",\n",
    "    labelsize=fontsize,\n",
    "    direction=\"in\",\n",
    "    bottom=True,\n",
    "    left=True,\n",
    "    length=5,\n",
    "    width=1,\n",
    ")\n",
    "plt.savefig(\n",
    "    \"weighted_pearson_FlocRloc.png\", format=\"png\", dpi=300, bbox_inches=\"tight\"\n",
    ")\n",
    "print(np.mean(lst_weighted_corr), sem(lst_weighted_corr))"
   ]
  },
  {
   "cell_type": "code",
   "execution_count": null,
   "metadata": {},
   "outputs": [],
   "source": []
  }
 ],
 "metadata": {
  "kernelspec": {
   "display_name": "spt",
   "language": "python",
   "name": "python3"
  },
  "language_info": {
   "codemirror_mode": {
    "name": "ipython",
    "version": 3
   },
   "file_extension": ".py",
   "mimetype": "text/x-python",
   "name": "python",
   "nbconvert_exporter": "python",
   "pygments_lexer": "ipython3",
   "version": "3.9.18"
  }
 },
 "nbformat": 4,
 "nbformat_minor": 2
}

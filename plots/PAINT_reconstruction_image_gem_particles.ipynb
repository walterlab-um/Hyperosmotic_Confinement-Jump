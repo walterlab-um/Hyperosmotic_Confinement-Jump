{
 "cells": [
  {
   "cell_type": "markdown",
   "metadata": {},
   "source": [
    "## Reconstruction image of GEM and HOPS particles"
   ]
  },
  {
   "cell_type": "code",
   "execution_count": 4,
   "metadata": {},
   "outputs": [],
   "source": [
    "from tifffile import imwrite\n",
    "from tkinter import filedialog as fd\n",
    "import os\n",
    "from os.path import dirname, basename\n",
    "from scipy.ndimage import gaussian_filter\n",
    "import numpy as np\n",
    "import pandas as pd\n",
    "from rich.progress import track\n",
    "import matplotlib.pyplot as plt\n",
    "import matplotlib\n",
    "\n",
    "matplotlib.use(\"Agg\")\n",
    "pd.options.mode.chained_assignment = None  # default='warn'"
   ]
  },
  {
   "cell_type": "code",
   "execution_count": 5,
   "metadata": {},
   "outputs": [
    {
     "name": "stdout",
     "output_type": "stream",
     "text": [
      "Choose one or more '_reformatted.csv' files from single-channel SPT-PAINT experiment:\n",
      "Now processing: 20240613_UGD_ER_405_7_532_5_2x_rep1_spots_reformatted.csv\n"
     ]
    },
    {
     "data": {
      "application/vnd.jupyter.widget-view+json": {
       "model_id": "e8d09e37ff3d4662a95d1ca33ae62d7e",
       "version_major": 2,
       "version_minor": 0
      },
      "text/plain": [
       "Output()"
      ]
     },
     "metadata": {},
     "output_type": "display_data"
    },
    {
     "data": {
      "text/html": [
       "<pre style=\"white-space:pre;overflow-x:auto;line-height:normal;font-family:Menlo,'DejaVu Sans Mono',consolas,'Courier New',monospace\"></pre>\n"
      ],
      "text/plain": []
     },
     "metadata": {},
     "output_type": "display_data"
    },
    {
     "data": {
      "text/html": [
       "<pre style=\"white-space:pre;overflow-x:auto;line-height:normal;font-family:Menlo,'DejaVu Sans Mono',consolas,'Courier New',monospace\">\n",
       "</pre>\n"
      ],
      "text/plain": [
       "\n"
      ]
     },
     "metadata": {},
     "output_type": "display_data"
    },
    {
     "name": "stdout",
     "output_type": "stream",
     "text": [
      "Now processing: 20240627_UGD_ER_405_7_532_5_2x_rep3_spots_reformatted.csv\n"
     ]
    },
    {
     "data": {
      "application/vnd.jupyter.widget-view+json": {
       "model_id": "930cf0f61426496b923d4ab5fafa3cd9",
       "version_major": 2,
       "version_minor": 0
      },
      "text/plain": [
       "Output()"
      ]
     },
     "metadata": {},
     "output_type": "display_data"
    },
    {
     "data": {
      "text/html": [
       "<pre style=\"white-space:pre;overflow-x:auto;line-height:normal;font-family:Menlo,'DejaVu Sans Mono',consolas,'Courier New',monospace\"></pre>\n"
      ],
      "text/plain": []
     },
     "metadata": {},
     "output_type": "display_data"
    },
    {
     "data": {
      "text/html": [
       "<pre style=\"white-space:pre;overflow-x:auto;line-height:normal;font-family:Menlo,'DejaVu Sans Mono',consolas,'Courier New',monospace\">\n",
       "</pre>\n"
      ],
      "text/plain": [
       "\n"
      ]
     },
     "metadata": {},
     "output_type": "display_data"
    },
    {
     "name": "stdout",
     "output_type": "stream",
     "text": [
      "Now processing: 20240716_UGD_ER_405_7_532_5_rep1_spots_reformatted.csv\n"
     ]
    },
    {
     "data": {
      "application/vnd.jupyter.widget-view+json": {
       "model_id": "923ca3e5b1c64f4e8f5f0ffb5b2a6b24",
       "version_major": 2,
       "version_minor": 0
      },
      "text/plain": [
       "Output()"
      ]
     },
     "metadata": {},
     "output_type": "display_data"
    },
    {
     "data": {
      "text/html": [
       "<pre style=\"white-space:pre;overflow-x:auto;line-height:normal;font-family:Menlo,'DejaVu Sans Mono',consolas,'Courier New',monospace\"></pre>\n"
      ],
      "text/plain": []
     },
     "metadata": {},
     "output_type": "display_data"
    },
    {
     "data": {
      "text/html": [
       "<pre style=\"white-space:pre;overflow-x:auto;line-height:normal;font-family:Menlo,'DejaVu Sans Mono',consolas,'Courier New',monospace\">\n",
       "</pre>\n"
      ],
      "text/plain": [
       "\n"
      ]
     },
     "metadata": {},
     "output_type": "display_data"
    },
    {
     "name": "stdout",
     "output_type": "stream",
     "text": [
      "Now processing: 20240716_UGD_ER_405_7_532_5_rep2_spots_reformatted.csv\n"
     ]
    },
    {
     "data": {
      "application/vnd.jupyter.widget-view+json": {
       "model_id": "e446bacd57604e65ab0ec5a6f0aeffa9",
       "version_major": 2,
       "version_minor": 0
      },
      "text/plain": [
       "Output()"
      ]
     },
     "metadata": {},
     "output_type": "display_data"
    },
    {
     "data": {
      "text/html": [
       "<pre style=\"white-space:pre;overflow-x:auto;line-height:normal;font-family:Menlo,'DejaVu Sans Mono',consolas,'Courier New',monospace\"></pre>\n"
      ],
      "text/plain": []
     },
     "metadata": {},
     "output_type": "display_data"
    },
    {
     "data": {
      "text/html": [
       "<pre style=\"white-space:pre;overflow-x:auto;line-height:normal;font-family:Menlo,'DejaVu Sans Mono',consolas,'Courier New',monospace\">\n",
       "</pre>\n"
      ],
      "text/plain": [
       "\n"
      ]
     },
     "metadata": {},
     "output_type": "display_data"
    }
   ],
   "source": [
    "print(\"Choose one or more '_reformatted.csv' files from single-channel SPT-PAINT experiment:\")\n",
    "lst_path = list(fd.askopenfilenames(filetypes=[(\"CSV files\", \"*_reformatted.csv\")]))\n",
    "\n",
    "if not lst_path:\n",
    "    print(\"No file selected!\")\n",
    "else:\n",
    "    folder_save = dirname(lst_path[0])\n",
    "    os.chdir(folder_save)\n",
    "    lst_fname = [basename(f) for f in lst_path if f.endswith(\"_reformatted.csv\")]\n",
    "\n",
    "    # Parameters for scaling and image dimensions\n",
    "    um_per_pixel = 0.117\n",
    "    scaling_factor = 1\n",
    "    um_per_pixel_PAINT = um_per_pixel / scaling_factor\n",
    "    xpixels_ONI = 428\n",
    "    ypixels_ONI = 684\n",
    "    xedges = np.arange((xpixels_ONI + 1)*scaling_factor)\n",
    "    yedges = np.arange((ypixels_ONI + 1)*scaling_factor)\n",
    "\n",
    "    def spots2PAINT(df):\n",
    "        # This function reconstructs PAINT from the whole dataframe, assuming it covers the full FOV\n",
    "        # Single-frame spots\n",
    "        df_single_frame_spots = df[df[\"trackID\"].isna()]\n",
    "        img_spots, _, _ = np.histogram2d(\n",
    "            x=df_single_frame_spots[\"x\"].to_numpy(float) * scaling_factor,\n",
    "            y=df_single_frame_spots[\"y\"].to_numpy(float) * scaling_factor,\n",
    "            bins=(xedges, yedges),\n",
    "        )\n",
    "\n",
    "        # Tracks\n",
    "        df_tracks = df[df[\"trackID\"].notna()]\n",
    "        all_trackID = df_tracks[\"trackID\"].unique()\n",
    "        lst_of_arr_x = []\n",
    "        lst_of_arr_y = []\n",
    "        for trackID in track(all_trackID, description=\"Reconstruction: PAINT\"):\n",
    "            df_current = df_tracks[df_tracks[\"trackID\"] == trackID]\n",
    "            lst_of_arr_x.append(df_current[\"x\"].to_numpy(float) * scaling_factor)\n",
    "            lst_of_arr_y.append(df_current[\"y\"].to_numpy(float) * scaling_factor)\n",
    "\n",
    "        img_tracks, _, _ = np.histogram2d(\n",
    "            x=np.hstack(lst_of_arr_x),\n",
    "            y=np.hstack(lst_of_arr_y),\n",
    "            bins=(xedges, yedges),\n",
    "        )\n",
    "\n",
    "        img_PAINT = img_spots + img_tracks\n",
    "\n",
    "        return img_PAINT\n",
    "\n",
    "    for fname_singlechannel in lst_fname:\n",
    "        print(\"Now processing:\", fname_singlechannel.split(\"-reformatted\")[0])\n",
    "        # Read data\n",
    "        df_singlechannel = pd.read_csv(fname_singlechannel)\n",
    "        \n",
    "        # Reconstruct PAINT image\n",
    "        img_PAINT_singlechannel = spots2PAINT(df_singlechannel)\n",
    "        imwrite(fname_singlechannel.split(\"-reformatted\")[0] + \"-PAINT.tif\", img_PAINT_singlechannel)\n",
    "\n",
    "        img_denoise = gaussian_filter(img_PAINT_singlechannel, sigma=1)\n",
    "        imwrite(fname_singlechannel.split(\"-reformatted\")[0] + \"-PAINT-smoothed.tif\", img_denoise)\n",
    "\n",
    "        # plt.figure(figsize=(6, 4))\n",
    "        # plt.imshow(img_denoise, cmap='hot', interpolation='nearest')\n",
    "        # plt.colorbar()\n",
    "        # plt.show()"
   ]
  },
  {
   "cell_type": "code",
   "execution_count": null,
   "metadata": {},
   "outputs": [],
   "source": []
  },
  {
   "cell_type": "code",
   "execution_count": null,
   "metadata": {},
   "outputs": [],
   "source": []
  }
 ],
 "metadata": {
  "kernelspec": {
   "display_name": "spt",
   "language": "python",
   "name": "python3"
  },
  "language_info": {
   "codemirror_mode": {
    "name": "ipython",
    "version": 3
   },
   "file_extension": ".py",
   "mimetype": "text/x-python",
   "name": "python",
   "nbconvert_exporter": "python",
   "pygments_lexer": "ipython3",
   "version": "3.9.18"
  }
 },
 "nbformat": 4,
 "nbformat_minor": 2
}

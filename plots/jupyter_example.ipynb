{
 "cells": [
  {
   "cell_type": "code",
   "execution_count": 2,
   "metadata": {},
   "outputs": [],
   "source": [
    "import os\n",
    "from os.path import join, basename\n",
    "import matplotlib.pyplot as plt\n",
    "import numpy as np\n",
    "import pandas as pd\n",
    "import seaborn as sns\n",
    "\n",
    "sns.set(color_codes=True, style=\"white\")"
   ]
  },
  {
   "cell_type": "markdown",
   "metadata": {},
   "source": [
    "# Title"
   ]
  },
  {
   "cell_type": "code",
   "execution_count": 4,
   "metadata": {},
   "outputs": [
    {
     "data": {
      "text/plain": [
       "[<matplotlib.lines.Line2D at 0x239b88167c0>]"
      ]
     },
     "execution_count": 4,
     "metadata": {},
     "output_type": "execute_result"
    },
    {
     "data": {
      "image/png": "[encoded data removed]",
      "text/plain": [
       "<Figure size 640x480 with 1 Axes>"
      ]
     },
     "metadata": {},
     "output_type": "display_data"
    }
   ],
   "source": [
    "x = np.linspace(0, 100, 50)\n",
    "y = x**2 + x\n",
    "plt.figure()\n",
    "plt.plot(\n",
    "    x,\n",
    "    y,\n",
    "    c=\"orange\",\n",
    "    lw=3,\n",
    ")"
   ]
  },
  {
   "cell_type": "markdown",
   "metadata": {},
   "source": [
    "## subtitle1"
   ]
  },
  {
   "cell_type": "markdown",
   "metadata": {},
   "source": [
    "### subtitle 2"
   ]
  },
  {
   "cell_type": "code",
   "execution_count": null,
   "metadata": {},
   "outputs": [],
   "source": [
    "# Generate CDF plot\n",
    "plt.figure(figsize=(4, 3))\n",
    "palette = [\"skyblue\", \"orange\", \"green\"]\n",
    "\n",
    "ax = sns.histplot(\n",
    "    data=data,\n",
    "    x=\"step_sizes\",\n",
    "    hue=\"label\",\n",
    "    palette=palette,\n",
    "    bins=17,\n",
    "    binrange=(0, 0.8),\n",
    "    stat=\"probability\",\n",
    "    common_norm=False,\n",
    "    lw=2,\n",
    "    element=\"step\",\n",
    "    fill=False,\n",
    "    cumulative=False,\n",
    ")\n",
    "\n",
    "plt.xlim(0, 0.8)\n",
    "sns.move_legend(\n",
    "    ax,\n",
    "    4,\n",
    "    title=None,\n",
    "    frameon=False,\n",
    "    fontsize=18,\n",
    ")\n",
    "plt.xlabel(\"Step Size ($\\mu$m)\", fontsize=18)\n",
    "plt.ylabel(\"Probabilty\", fontsize=18)\n",
    "plt.gca().spines[:].set_linewidth(1)\n",
    "plt.gca().tick_params(\n",
    "    axis=\"both\",\n",
    "    which=\"major\",\n",
    "    labelsize=18,\n",
    "    direction=\"in\",\n",
    "    bottom=True,\n",
    "    left=True,\n",
    "    length=5,\n",
    "    width=1,\n",
    ")\n",
    "plt.gca().set_axisbelow(False)\n",
    "plt.gca().tick_params(axis=\"both\", which=\"major\", labelsize=18)\n",
    "# plt.savefig(\n",
    "#     \"step-cdf.png\",\n",
    "#     format=\"png\",\n",
    "#     bbox_inches=\"tight\",\n",
    "#     dpi=300,\n",
    "# )"
   ]
  },
  {
   "cell_type": "markdown",
   "metadata": {},
   "source": [
    "#### subtitle 3"
   ]
  },
  {
   "cell_type": "markdown",
   "metadata": {},
   "source": []
  }
 ],
 "metadata": {
  "kernelspec": {
   "display_name": "spt",
   "language": "python",
   "name": "python3"
  },
  "language_info": {
   "codemirror_mode": {
    "name": "ipython",
    "version": 3
   },
   "file_extension": ".py",
   "mimetype": "text/x-python",
   "name": "python",
   "nbconvert_exporter": "python",
   "pygments_lexer": "ipython3",
   "version": "3.9.18"
  }
 },
 "nbformat": 4,
 "nbformat_minor": 2
}

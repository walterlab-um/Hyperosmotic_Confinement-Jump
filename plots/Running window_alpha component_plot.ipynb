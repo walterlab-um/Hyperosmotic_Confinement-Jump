{
 "cells": [
  {
   "cell_type": "markdown",
   "metadata": {},
   "source": [
    "# Running Window alpha component"
   ]
  },
  {
   "cell_type": "markdown",
   "metadata": {
    "vscode": {
     "languageId": "plaintext"
    }
   },
   "source": [
    "## Nocodazole Treatment"
   ]
  },
  {
   "cell_type": "code",
   "execution_count": 1,
   "metadata": {},
   "outputs": [],
   "source": [
    "import pandas as pd\n",
    "import seaborn as sns\n",
    "import matplotlib.pyplot as plt\n",
    "from tkinter import filedialog"
   ]
  },
  {
   "cell_type": "code",
   "execution_count": 2,
   "metadata": {},
   "outputs": [],
   "source": [
    "# Use file dialog to select CSV files for each condition\n",
    "csv_files_1 = filedialog.askopenfilenames(\n",
    "    title=\"Select CSV Files for No drug_2x\",\n",
    "    filetypes=((\"CSV files\", \"*.csv\"), (\"All files\", \"*.*\")),\n",
    ")\n",
    "# csv_files_2 = filedialog.askopenfilenames(\n",
    "#     title=\"Select CSV Files for Nocodazole_30 mins\",\n",
    "#     filetypes=((\"CSV files\", \"*.csv\"), (\"All files\", \"*.*\")),\n",
    "# )\n",
    "# csv_files_3 = filedialog.askopenfilenames(\n",
    "#     title=\"Select CSV Files for Nocodazole_60 mins\",\n",
    "#     filetypes=((\"CSV files\", \"*.csv\"), (\"All files\", \"*.*\")),\n",
    "# )"
   ]
  },
  {
   "cell_type": "code",
   "execution_count": 3,
   "metadata": {},
   "outputs": [],
   "source": [
    "# Function to load CSV files and add a 'Condition' column\n",
    "def load_and_label_files(file_paths, label):\n",
    "    dfs = [pd.read_csv(file) for file in file_paths]\n",
    "    for df in dfs:\n",
    "        df['Condition'] = label\n",
    "    combined_df = pd.concat(dfs)\n",
    "    return combined_df [combined_df['R2'] > 0]"
   ]
  },
  {
   "cell_type": "code",
   "execution_count": 4,
   "metadata": {},
   "outputs": [],
   "source": [
    "# Load and label CSV files for each condition\n",
    "df_condition1 = load_and_label_files(csv_files_1, 'No drug_2x')\n",
    "# df_condition2 = load_and_label_files(csv_files_2, 'Nocodazole_30 mins')\n",
    "# df_condition3 = load_and_label_files(csv_files_3, 'Nocodazole_60 mins')"
   ]
  },
  {
   "cell_type": "code",
   "execution_count": 9,
   "metadata": {},
   "outputs": [],
   "source": [
    "# Combine the data from all conditions\n",
    "df_combined = pd.concat([df_condition1, df_condition2, df_condition3], ignore_index=True)"
   ]
  },
  {
   "cell_type": "code",
   "execution_count": 5,
   "metadata": {},
   "outputs": [],
   "source": [
    "# Plot the probability distribution for each condition without KDE\n",
    "plt.figure(figsize=(6, 4))\n",
    "ax = sns.histplot(\n",
    "    data=df_condition1,\n",
    "    x='alpha',\n",
    "    hue='Condition',\n",
    "    bins=25,\n",
    "    binrange = (0,2),\n",
    "    stat=\"probability\",\n",
    "    element=\"step\",\n",
    "    common_norm=False,\n",
    "    fill=True,\n",
    "    alpha=0.2  \n",
    ")\n",
    "\n",
    "legend = ax.get_legend()\n",
    "legend.set_title(None)\n",
    "legend_frame = legend.get_frame()\n",
    "legend_frame.set_visible(False)\n",
    "\n",
    "plt.xlabel('Alpha')\n",
    "plt.ylabel('Probability')\n",
    "plt.xlim(0, 2) \n",
    "plt.tight_layout()\n",
    "plt.show()"
   ]
  },
  {
   "cell_type": "markdown",
   "metadata": {},
   "source": [
    "## LatrunculinA Treatment"
   ]
  },
  {
   "cell_type": "code",
   "execution_count": 1,
   "metadata": {},
   "outputs": [],
   "source": [
    "import pandas as pd\n",
    "import seaborn as sns\n",
    "import matplotlib.pyplot as plt\n",
    "from tkinter import filedialog"
   ]
  },
  {
   "cell_type": "code",
   "execution_count": 2,
   "metadata": {},
   "outputs": [],
   "source": [
    "# Use file dialog to select CSV files for each condition\n",
    "csv_files_1 = filedialog.askopenfilenames(\n",
    "    title=\"Select CSV Files for No drug_2x\",\n",
    "    filetypes=((\"CSV files\", \"*.csv\"), (\"All files\", \"*.*\")),\n",
    ")\n",
    "csv_files_2 = filedialog.askopenfilenames(\n",
    "    title=\"Select CSV Files for LatrunculinA_30 mins\",\n",
    "    filetypes=((\"CSV files\", \"*.csv\"), (\"All files\", \"*.*\")),\n",
    ")\n",
    "csv_files_3 = filedialog.askopenfilenames(\n",
    "    title=\"Select CSV Files for LatrunculinA_60 mins\",\n",
    "    filetypes=((\"CSV files\", \"*.csv\"), (\"All files\", \"*.*\")),\n",
    ")"
   ]
  },
  {
   "cell_type": "code",
   "execution_count": 3,
   "metadata": {},
   "outputs": [],
   "source": [
    "# Function to load CSV files and add a 'Condition' column\n",
    "def load_and_label_files(file_paths, label):\n",
    "    dfs = [pd.read_csv(file) for file in file_paths]\n",
    "    for df in dfs:\n",
    "        df['Condition'] = label\n",
    "    combined_df = pd.concat(dfs)\n",
    "    return combined_df [combined_df['R2'] > 0]"
   ]
  },
  {
   "cell_type": "code",
   "execution_count": 4,
   "metadata": {},
   "outputs": [],
   "source": [
    "# Load and label CSV files for each condition\n",
    "df_condition1 = load_and_label_files(csv_files_1, 'No drug_2x')\n",
    "df_condition2 = load_and_label_files(csv_files_2, 'LatrunculinA_30 mins')\n",
    "df_condition3 = load_and_label_files(csv_files_3, 'LatrunculinA_60 mins')"
   ]
  },
  {
   "cell_type": "code",
   "execution_count": 5,
   "metadata": {},
   "outputs": [],
   "source": [
    "# Combine the data from all conditions\n",
    "df_combined = pd.concat([df_condition1, df_condition2, df_condition3], ignore_index=True)"
   ]
  },
  {
   "cell_type": "code",
   "execution_count": 6,
   "metadata": {},
   "outputs": [
    {
     "data": {
      "image/png": "[encoded data removed]",
      "text/plain": [
       "<Figure size 600x400 with 1 Axes>"
      ]
     },
     "metadata": {},
     "output_type": "display_data"
    }
   ],
   "source": [
    "# Plot the probability distribution for each condition without KDE\n",
    "plt.figure(figsize=(6, 4))\n",
    "ax = sns.histplot(\n",
    "    data=df_combined,\n",
    "    x='alpha',\n",
    "    hue='Condition',\n",
    "    bins=25,\n",
    "    binrange = (0,2),\n",
    "    stat=\"probability\",\n",
    "    element=\"step\",\n",
    "    common_norm=False,\n",
    "    fill=True,\n",
    "    alpha=0.2  \n",
    ")\n",
    "\n",
    "legend = ax.get_legend()\n",
    "legend.set_title(None)\n",
    "legend_frame = legend.get_frame()\n",
    "legend_frame.set_visible(False)\n",
    "\n",
    "plt.xlabel('Alpha')\n",
    "plt.ylabel('Probability')\n",
    "plt.xlim(0, 2) \n",
    "plt.tight_layout()\n",
    "plt.show()"
   ]
  },
  {
   "cell_type": "code",
   "execution_count": null,
   "metadata": {},
   "outputs": [],
   "source": []
  },
  {
   "cell_type": "code",
   "execution_count": null,
   "metadata": {},
   "outputs": [],
   "source": []
  },
  {
   "cell_type": "code",
   "execution_count": null,
   "metadata": {},
   "outputs": [],
   "source": []
  }
 ],
 "metadata": {
  "kernelspec": {
   "display_name": "spt",
   "language": "python",
   "name": "python3"
  },
  "language_info": {
   "codemirror_mode": {
    "name": "ipython",
    "version": 3
   },
   "file_extension": ".py",
   "mimetype": "text/x-python",
   "name": "python",
   "nbconvert_exporter": "python",
   "pygments_lexer": "ipython3",
   "version": "3.9.18"
  }
 },
 "nbformat": 4,
 "nbformat_minor": 2
}

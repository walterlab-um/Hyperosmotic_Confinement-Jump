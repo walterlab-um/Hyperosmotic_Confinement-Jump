{
 "cells": [
  {
   "cell_type": "code",
   "execution_count": 1,
   "id": "194875db-8a0c-49f1-a0c3-d10432deba23",
   "metadata": {
    "tags": []
   },
   "outputs": [],
   "source": [
    "import os\n",
    "\n",
    "import matplotlib.animation as animation\n",
    "import matplotlib.colors as clr\n",
    "import matplotlib.pyplot as plt\n",
    "import matplotlib.cm as cm\n",
    "import numpy as np\n",
    "import random\n",
    "import pandas as pd\n",
    "from tifffile import imread\n",
    "import ffmpeg\n",
    "from rich.progress import track\n",
    "\n",
    "pd.options.mode.chained_assignment = None  # default='warn'"
   ]
  },
  {
   "cell_type": "markdown",
   "id": "22d485d1-c89b-4854-9595-14cf5e62eff2",
   "metadata": {},
   "source": [
    "### Parameters and path"
   ]
  },
  {
   "cell_type": "code",
   "execution_count": 2,
   "id": "82178fca-05d9-48ec-b517-4bfe124433d1",
   "metadata": {
    "tags": []
   },
   "outputs": [],
   "source": [
    "folder_save = r\"Z:\\Bisal_Halder_turbo\\PROCESSED_DATA\\Impact_of_cytoskeleton_on_HOPS_condensates\\LatrunculinA\\5uM\\2x\\representative_overlay_image\"\n",
    "\n",
    "os.chdir(folder_save)\n",
    "lst_fname_tracks = [f for f in os.listdir(\".\") if f.endswith(\".csv\")]\n",
    "lst_fname_cell = [f for f in os.listdir(\".\") if f.endswith(\".txt\")]\n",
    "\n",
    "color_blue = \"#00274c\"\n",
    "color_red = \"#c61a3e\""
   ]
  },
  {
   "cell_type": "markdown",
   "id": "72da43e0",
   "metadata": {},
   "source": [
    "### Functions"
   ]
  },
  {
   "cell_type": "code",
   "execution_count": 3,
   "id": "fc11db9d",
   "metadata": {},
   "outputs": [],
   "source": [
    "def find_consecutive_true_ranges(bool_array):\n",
    "    ranges = []\n",
    "    n = len(bool_array)\n",
    "    i = 0\n",
    "\n",
    "    while i < n:\n",
    "        if bool_array[i]:\n",
    "            start = i\n",
    "            while i < n and bool_array[i]:\n",
    "                i += 1\n",
    "            end = i - 1\n",
    "            ranges.append((start, end))\n",
    "        i += 1\n",
    "\n",
    "    return ranges\n",
    "\n",
    "\n",
    "def find_consecutive_false_ranges(bool_array):\n",
    "    ranges = []\n",
    "    n = len(bool_array)\n",
    "    i = 0\n",
    "\n",
    "    while i < n:\n",
    "        if not bool_array[i]:\n",
    "            start = i\n",
    "            while i < n and (not bool_array[i]):\n",
    "                i += 1\n",
    "            end = i - 1\n",
    "            ranges.append((start, end))\n",
    "        i += 1\n",
    "\n",
    "    return ranges"
   ]
  },
  {
   "cell_type": "markdown",
   "id": "ca16eccb",
   "metadata": {},
   "source": [
    "### All FOVs"
   ]
  },
  {
   "cell_type": "code",
   "execution_count": 6,
   "id": "b0dbbdc2",
   "metadata": {},
   "outputs": [
    {
     "data": {
      "application/vnd.jupyter.widget-view+json": {
       "model_id": "de954da183ef4cf19c84b05e728ddcf3",
       "version_major": 2,
       "version_minor": 0
      },
      "text/plain": [
       "Output()"
      ]
     },
     "metadata": {},
     "output_type": "display_data"
    },
    {
     "data": {
      "text/html": [
       "<pre style=\"white-space:pre;overflow-x:auto;line-height:normal;font-family:Menlo,'DejaVu Sans Mono',consolas,'Courier New',monospace\"></pre>\n"
      ],
      "text/plain": []
     },
     "metadata": {},
     "output_type": "display_data"
    },
    {
     "data": {
      "text/html": [
       "<pre style=\"white-space:pre;overflow-x:auto;line-height:normal;font-family:Menlo,'DejaVu Sans Mono',consolas,'Courier New',monospace\">\n",
       "</pre>\n"
      ],
      "text/plain": [
       "\n"
      ]
     },
     "metadata": {},
     "output_type": "display_data"
    }
   ],
   "source": [
    "for idx in track(range(len(lst_fname_tracks))):\n",
    "    # load condensate trajectories\n",
    "    fname_track = lst_fname_tracks[idx]\n",
    "    df = pd.read_csv(fname_track)\n",
    "    df = df.sort_values(by=[\"trackID\", \"t\"])\n",
    "    # load cell boundaries within the FOV\n",
    "    fname_prefix = fname_track.split(\"-wstepflags\")[0]\n",
    "    lst_cells_within_FOV = [f for f in lst_fname_cell if f.startswith(fname_prefix)]\n",
    "    lst_cell_coords = [pd.read_csv(f, sep=\"\t\", header=None) for f in lst_cells_within_FOV]\n",
    "    # target_size = 2400\n",
    "    # figsize = 8  # 8x8 inches\n",
    "    dpi = 400\n",
    "    # Plot\n",
    "    fig = plt.figure(figsize=(6, 6), dpi=dpi)\n",
    "    ax = fig.add_subplot(111)\n",
    "    # fig, ax = plt.subplots(1, 1, figsize=(8, 8))\n",
    "    trackIDs = df[\"trackID\"].unique()\n",
    "    for trackID in trackIDs:\n",
    "        current_track = df[df[\"trackID\"] == trackID]\n",
    "        current_x = current_track[\"x\"].to_numpy()\n",
    "        current_y = current_track[\"y\"].to_numpy()\n",
    "        flags = current_track[\"step_flag\"].to_numpy()\n",
    "        # plot all first\n",
    "        plt.plot(\n",
    "            current_x,\n",
    "            current_y,\n",
    "            ls='-',\n",
    "            c=color_blue,\n",
    "            lw=1.5,\n",
    "        )\n",
    "\n",
    "        # false_ranges = find_consecutive_false_ranges(flags)\n",
    "        # for start, end in false_ranges:\n",
    "        #     jump_x = current_x[start : end + 1]\n",
    "        #     jump_y = current_y[start : end + 1]\n",
    "        #     plt.plot(\n",
    "        #         jump_x,\n",
    "        #         jump_y,\n",
    "        #         ls='-',\n",
    "        #         c=color_blue,\n",
    "        #         lw=0.3,\n",
    "        #     )\n",
    "\n",
    "        # overlay with red\n",
    "        true_ranges = find_consecutive_true_ranges(flags)\n",
    "        for start, end in true_ranges:\n",
    "            jump_x = current_x[start : end + 1]\n",
    "            jump_y = current_y[start : end + 1]\n",
    "            plt.plot(\n",
    "                jump_x,\n",
    "                jump_y,\n",
    "                ls='-',\n",
    "                c=color_red,\n",
    "                lw=1.5,\n",
    "            )\n",
    "\n",
    "    # plot cell coordinates\n",
    "    y_pos = 0\n",
    "    for cell_coords in lst_cell_coords:\n",
    "        x = cell_coords.iloc[:, 0].to_numpy()\n",
    "        y = cell_coords.iloc[:, 1].to_numpy()\n",
    "        plt.plot(x, y, c=\"gray\", ls=\"-\", lw=0.5)\n",
    "        # still the last closing line will be missing, get it below\n",
    "        xlast = [x[-1], x[0]]\n",
    "        ylast = [y[-1], y[0]]\n",
    "        plt.plot(xlast, ylast, c=\"gray\", ls=\"-\", lw=0.5)\n",
    "        if y_pos < y.max():\n",
    "            y_pos = y.max()\n",
    "\n",
    "    x_min, x_max = df['x'].min(), df['x'].max()\n",
    "    y_min, y_max = df['y'].min(), df['y'].max()\n",
    "    # add scale bar\n",
    "    scalebar_length_um = 1\n",
    "    scalebar_length_pxl = scalebar_length_um / 0.117\n",
    "    # x_pos = 320\n",
    "    # y_pos = 524\n",
    "    x_pos = x_max-5\n",
    "    y_pos = y_max\n",
    "    plt.plot(\n",
    "        [x_pos, x_pos + scalebar_length_pxl],\n",
    "        [y_pos, y_pos],\n",
    "        lw=5,\n",
    "        ls=\"-\",\n",
    "        c=\"k\",\n",
    "    )\n",
    "    # plt.xlim(295, 330)\n",
    "    # plt.ylim(489, 524)\n",
    "    # adjust plot parameters\n",
    "    ax.set_aspect('equal')\n",
    "    plt.gca().invert_yaxis()\n",
    "\n",
    "    plt.tight_layout()\n",
    "    plt.axis(\"scaled\")\n",
    "    plt.axis(\"off\")\n",
    "    plt.xlim(x_min, x_max)\n",
    "    plt.ylim(y_max, y_min)\n",
    "\n",
    "\n",
    "\n",
    "    # Add legend\n",
    "    handles, labels = ax.get_legend_handles_labels()\n",
    "    if 'Flagged' not in labels and 'Unflagged' not in labels:\n",
    "        ax.plot([], [], c=color_red, label='Flagged', lw = 1.5)\n",
    "        ax.plot([], [], c=color_blue, label='Unflagged', lw = 1.5)\n",
    "    plt.legend(loc='upper right', frameon=False)\n",
    "\n",
    "    plt.savefig(\n",
    "        fname_prefix + \"-overlay.png\",\n",
    "        format=\"png\",\n",
    "        pad_inches=0,\n",
    "        # bbox_inches=\"tight\",\n",
    "        dpi=dpi,\n",
    "    )\n",
    "    plt.close()\n",
    "    # plt.show()"
   ]
  },
  {
   "cell_type": "markdown",
   "id": "486d4411",
   "metadata": {},
   "source": [
    "### Single FOV"
   ]
  },
  {
   "cell_type": "code",
   "execution_count": 5,
   "id": "a3e8e9ef",
   "metadata": {},
   "outputs": [
    {
     "data": {
      "application/vnd.jupyter.widget-view+json": {
       "model_id": "dd788fc3218f4844ac326f29c9b9121a",
       "version_major": 2,
       "version_minor": 0
      },
      "text/plain": [
       "Output()"
      ]
     },
     "metadata": {},
     "output_type": "display_data"
    },
    {
     "data": {
      "text/html": [
       "<pre style=\"white-space:pre;overflow-x:auto;line-height:normal;font-family:Menlo,'DejaVu Sans Mono',consolas,'Courier New',monospace\"></pre>\n"
      ],
      "text/plain": []
     },
     "metadata": {},
     "output_type": "display_data"
    },
    {
     "data": {
      "text/html": [
       "<pre style=\"white-space:pre;overflow-x:auto;line-height:normal;font-family:Menlo,'DejaVu Sans Mono',consolas,'Courier New',monospace\">\n",
       "</pre>\n"
      ],
      "text/plain": [
       "\n"
      ]
     },
     "metadata": {},
     "output_type": "display_data"
    },
    {
     "data": {
      "image/png": "[encoded data removed]",
      "text/plain": [
       "<Figure size 640x480 with 1 Axes>"
      ]
     },
     "metadata": {},
     "output_type": "display_data"
    }
   ],
   "source": [
    "   \n",
    "idx = 0\n",
    "# load condensate trajectories\n",
    "fname_track = lst_fname_tracks[idx]\n",
    "df = pd.read_csv(fname_track)\n",
    "df = df.sort_values(by=[\"trackID\", \"t\"])\n",
    "# load cell boundaries within the FOV\n",
    "fname_prefix = fname_track.split(\"_reformatted\")[0]\n",
    "lst_cells_within_FOV = [f for f in lst_fname_cell if f.startswith(fname_prefix)]\n",
    "lst_cell_coords = [pd.read_csv(f, sep=\"\t\", header=None) for f in lst_cells_within_FOV]\n",
    "# Plot\n",
    "fig, ax = plt.subplots(1, 1)\n",
    "trackIDs = df[\"trackID\"].unique()\n",
    "for trackID in track(trackIDs):\n",
    "    current_track = df[df[\"trackID\"] == trackID]\n",
    "    current_x = current_track[\"x\"].to_numpy()\n",
    "    current_y = current_track[\"y\"].to_numpy()\n",
    "    flags = current_track[\"step_flag\"].to_numpy()\n",
    "    false_ranges = find_consecutive_false_ranges(flags)\n",
    "    for start, end in false_ranges:\n",
    "        jump_x = current_x[start : end + 1]\n",
    "        jump_y = current_y[start : end + 1]\n",
    "        plt.plot(\n",
    "            jump_x,\n",
    "            jump_y,\n",
    "            ls='-',\n",
    "            c=color_blue,\n",
    "            lw=0.3,\n",
    "        )\n",
    "\n",
    "    true_ranges = find_consecutive_true_ranges(flags)\n",
    "    for start, end in true_ranges:\n",
    "        jump_x = current_x[start : end + 1]\n",
    "        jump_y = current_y[start : end + 1]\n",
    "        plt.plot(\n",
    "            jump_x,\n",
    "            jump_y,\n",
    "            ls='-',\n",
    "            c=color_red,\n",
    "            lw=0.3,\n",
    "        )\n",
    "\n",
    "# plot cell coordinates\n",
    "y_pos = 0\n",
    "for cell_coords in lst_cell_coords:\n",
    "    x = cell_coords.iloc[:, 0].to_numpy()\n",
    "    y = cell_coords.iloc[:, 1].to_numpy()\n",
    "    plt.plot(x, y, c=\"gray\", ls=\"-\", lw=0.5)\n",
    "    # still the last closing line will be missing, get it below\n",
    "    xlast = [x[-1], x[0]]\n",
    "    ylast = [y[-1], y[0]]\n",
    "    plt.plot(xlast, ylast, c=\"gray\", ls=\"-\", lw=0.5)\n",
    "    if y_pos < y.max():\n",
    "        y_pos = y.max()\n",
    "# add scale bar\n",
    "scalebar_length_um = 2\n",
    "scalebar_length_pxl = scalebar_length_um / 0.117\n",
    "x_pos = 0\n",
    "y_pos = y_pos + 0\n",
    "plt.plot(\n",
    "    [x_pos, x_pos + scalebar_length_pxl],\n",
    "    [y_pos, y_pos],\n",
    "    lw=3,\n",
    "    ls=\"-\",\n",
    "    c=\"k\",\n",
    ")\n",
    "# adjust plot parameters\n",
    "plt.gca().invert_yaxis()\n",
    "plt.tight_layout()\n",
    "plt.axis(\"scaled\")\n",
    "plt.axis(\"off\")\n",
    "plt.savefig(\n",
    "    fname_prefix + \"-overlay.png\",\n",
    "    format=\"png\",\n",
    "    bbox_inches=\"tight\",\n",
    "    dpi=1200,\n",
    ")"
   ]
  },
  {
   "cell_type": "code",
   "execution_count": null,
   "id": "b91d6a68",
   "metadata": {},
   "outputs": [],
   "source": []
  }
 ],
 "metadata": {
  "kernelspec": {
   "display_name": "spt",
   "language": "python",
   "name": "python3"
  },
  "language_info": {
   "codemirror_mode": {
    "name": "ipython",
    "version": 3
   },
   "file_extension": ".py",
   "mimetype": "text/x-python",
   "name": "python",
   "nbconvert_exporter": "python",
   "pygments_lexer": "ipython3",
   "version": "3.9.18"
  }
 },
 "nbformat": 4,
 "nbformat_minor": 5
}

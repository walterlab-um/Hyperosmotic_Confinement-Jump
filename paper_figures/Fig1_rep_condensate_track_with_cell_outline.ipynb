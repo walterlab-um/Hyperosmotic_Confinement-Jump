{
 "cells": [
  {
   "cell_type": "code",
   "execution_count": 1,
   "id": "194875db-8a0c-49f1-a0c3-d10432deba23",
   "metadata": {
    "tags": []
   },
   "outputs": [],
   "source": [
    "import os\n",
    "\n",
    "import matplotlib.animation as animation\n",
    "import matplotlib.colors as clr\n",
    "import matplotlib.pyplot as plt\n",
    "import matplotlib.cm as cm\n",
    "import numpy as np\n",
    "import random\n",
    "import pandas as pd\n",
    "from tifffile import imread\n",
    "import ffmpeg\n",
    "from rich.progress import track\n",
    "\n",
    "pd.options.mode.chained_assignment = None  # default='warn'"
   ]
  },
  {
   "cell_type": "markdown",
   "id": "22d485d1-c89b-4854-9595-14cf5e62eff2",
   "metadata": {},
   "source": [
    "### Parameters and path"
   ]
  },
  {
   "cell_type": "code",
   "execution_count": 2,
   "id": "82178fca-05d9-48ec-b517-4bfe124433d1",
   "metadata": {
    "tags": []
   },
   "outputs": [],
   "source": [
    "folder_save = r\"Z:\\Bisal_Halder_turbo\\PROCESSED_DATA\\Impact_of_cytoskeleton_on_HOPS_condensates\\no_drug\\Analysed Data\\2x\\Trackmate analysis new 07052024\\csv files\\flagged tracks\"\n",
    "\n",
    "os.chdir(folder_save)\n",
    "lst_fname_tracks = [f for f in os.listdir(\".\") if f.endswith(\".csv\")]\n",
    "lst_fname_cell = [f for f in os.listdir(\".\") if f.endswith(\".txt\")]\n",
    "\n",
    "color_blue = \"#00274c\"\n",
    "color_red = \"#c61a3e\""
   ]
  },
  {
   "cell_type": "markdown",
   "id": "72da43e0",
   "metadata": {},
   "source": [
    "### Functions"
   ]
  },
  {
   "cell_type": "code",
   "execution_count": 3,
   "id": "fc11db9d",
   "metadata": {},
   "outputs": [],
   "source": [
    "def find_consecutive_true_ranges(bool_array):\n",
    "    ranges = []\n",
    "    n = len(bool_array)\n",
    "    i = 0\n",
    "\n",
    "    while i < n:\n",
    "        if bool_array[i]:\n",
    "            start = i\n",
    "            while i < n and bool_array[i]:\n",
    "                i += 1\n",
    "            end = i - 1\n",
    "            ranges.append((start, end))\n",
    "        i += 1\n",
    "\n",
    "    return ranges\n",
    "\n",
    "\n",
    "def find_consecutive_false_ranges(bool_array):\n",
    "    ranges = []\n",
    "    n = len(bool_array)\n",
    "    i = 0\n",
    "\n",
    "    while i < n:\n",
    "        if not bool_array[i]:\n",
    "            start = i\n",
    "            while i < n and (not bool_array[i]):\n",
    "                i += 1\n",
    "            end = i - 1\n",
    "            ranges.append((start, end))\n",
    "        i += 1\n",
    "\n",
    "    return ranges"
   ]
  },
  {
   "cell_type": "markdown",
   "id": "ca16eccb",
   "metadata": {},
   "source": [
    "### All FOVs"
   ]
  },
  {
   "cell_type": "code",
   "execution_count": 4,
   "id": "b0dbbdc2",
   "metadata": {},
   "outputs": [
    {
     "data": {
      "application/vnd.jupyter.widget-view+json": {
       "model_id": "295a54940a9b4301bb2fcc5261d9be53",
       "version_major": 2,
       "version_minor": 0
      },
      "text/plain": [
       "Output()"
      ]
     },
     "metadata": {},
     "output_type": "display_data"
    },
    {
     "data": {
      "text/html": [
       "<pre style=\"white-space:pre;overflow-x:auto;line-height:normal;font-family:Menlo,'DejaVu Sans Mono',consolas,'Courier New',monospace\"></pre>\n"
      ],
      "text/plain": []
     },
     "metadata": {},
     "output_type": "display_data"
    },
    {
     "data": {
      "text/html": [
       "<pre style=\"white-space:pre;overflow-x:auto;line-height:normal;font-family:Menlo,'DejaVu Sans Mono',consolas,'Courier New',monospace\">\n",
       "</pre>\n"
      ],
      "text/plain": [
       "\n"
      ]
     },
     "metadata": {},
     "output_type": "display_data"
    },
    {
     "ename": "KeyError",
     "evalue": "'trackID'",
     "output_type": "error",
     "traceback": [
      "\u001b[1;31m---------------------------------------------------------------------------\u001b[0m",
      "\u001b[1;31mKeyError\u001b[0m                                  Traceback (most recent call last)",
      "\u001b[1;32m~\\AppData\\Local\\Temp\\3\\ipykernel_7748\\1948878526.py\u001b[0m in \u001b[0;36m?\u001b[1;34m()\u001b[0m\n\u001b[0;32m      1\u001b[0m \u001b[1;32mfor\u001b[0m \u001b[0midx\u001b[0m \u001b[1;32min\u001b[0m \u001b[0mtrack\u001b[0m\u001b[1;33m(\u001b[0m\u001b[0mrange\u001b[0m\u001b[1;33m(\u001b[0m\u001b[0mlen\u001b[0m\u001b[1;33m(\u001b[0m\u001b[0mlst_fname_tracks\u001b[0m\u001b[1;33m)\u001b[0m\u001b[1;33m)\u001b[0m\u001b[1;33m)\u001b[0m\u001b[1;33m:\u001b[0m\u001b[1;33m\u001b[0m\u001b[1;33m\u001b[0m\u001b[0m\n\u001b[0;32m      2\u001b[0m     \u001b[1;31m# load condensate trajectories\u001b[0m\u001b[1;33m\u001b[0m\u001b[1;33m\u001b[0m\u001b[0m\n\u001b[0;32m      3\u001b[0m     \u001b[0mfname_track\u001b[0m \u001b[1;33m=\u001b[0m \u001b[0mlst_fname_tracks\u001b[0m\u001b[1;33m[\u001b[0m\u001b[0midx\u001b[0m\u001b[1;33m]\u001b[0m\u001b[1;33m\u001b[0m\u001b[1;33m\u001b[0m\u001b[0m\n\u001b[0;32m      4\u001b[0m     \u001b[0mdf\u001b[0m \u001b[1;33m=\u001b[0m \u001b[0mpd\u001b[0m\u001b[1;33m.\u001b[0m\u001b[0mread_csv\u001b[0m\u001b[1;33m(\u001b[0m\u001b[0mfname_track\u001b[0m\u001b[1;33m)\u001b[0m\u001b[1;33m\u001b[0m\u001b[1;33m\u001b[0m\u001b[0m\n\u001b[1;32m----> 5\u001b[1;33m     \u001b[0mdf\u001b[0m \u001b[1;33m=\u001b[0m \u001b[0mdf\u001b[0m\u001b[1;33m.\u001b[0m\u001b[0msort_values\u001b[0m\u001b[1;33m(\u001b[0m\u001b[0mby\u001b[0m\u001b[1;33m=\u001b[0m\u001b[1;33m[\u001b[0m\u001b[1;34m\"trackID\"\u001b[0m\u001b[1;33m,\u001b[0m \u001b[1;34m\"t\"\u001b[0m\u001b[1;33m]\u001b[0m\u001b[1;33m)\u001b[0m\u001b[1;33m\u001b[0m\u001b[1;33m\u001b[0m\u001b[0m\n\u001b[0m\u001b[0;32m      6\u001b[0m     \u001b[1;31m# load cell boundaries within the FOV\u001b[0m\u001b[1;33m\u001b[0m\u001b[1;33m\u001b[0m\u001b[0m\n\u001b[0;32m      7\u001b[0m     \u001b[0mfname_prefix\u001b[0m \u001b[1;33m=\u001b[0m \u001b[0mfname_track\u001b[0m\u001b[1;33m.\u001b[0m\u001b[0msplit\u001b[0m\u001b[1;33m(\u001b[0m\u001b[1;34m\"_reformatted\"\u001b[0m\u001b[1;33m)\u001b[0m\u001b[1;33m[\u001b[0m\u001b[1;36m0\u001b[0m\u001b[1;33m]\u001b[0m\u001b[1;33m\u001b[0m\u001b[1;33m\u001b[0m\u001b[0m\n\u001b[0;32m      8\u001b[0m     \u001b[0mlst_cells_within_FOV\u001b[0m \u001b[1;33m=\u001b[0m \u001b[1;33m[\u001b[0m\u001b[0mf\u001b[0m \u001b[1;32mfor\u001b[0m \u001b[0mf\u001b[0m \u001b[1;32min\u001b[0m \u001b[0mlst_fname_cell\u001b[0m \u001b[1;32mif\u001b[0m \u001b[0mf\u001b[0m\u001b[1;33m.\u001b[0m\u001b[0mstartswith\u001b[0m\u001b[1;33m(\u001b[0m\u001b[0mfname_prefix\u001b[0m\u001b[1;33m)\u001b[0m\u001b[1;33m]\u001b[0m\u001b[1;33m\u001b[0m\u001b[1;33m\u001b[0m\u001b[0m\n",
      "\u001b[1;32mc:\\Users\\bisal\\AppData\\Local\\miniconda3\\envs\\spt\\lib\\site-packages\\pandas\\util\\_decorators.py\u001b[0m in \u001b[0;36m?\u001b[1;34m(*args, **kwargs)\u001b[0m\n\u001b[0;32m    327\u001b[0m                     \u001b[0mmsg\u001b[0m\u001b[1;33m.\u001b[0m\u001b[0mformat\u001b[0m\u001b[1;33m(\u001b[0m\u001b[0marguments\u001b[0m\u001b[1;33m=\u001b[0m\u001b[0m_format_argument_list\u001b[0m\u001b[1;33m(\u001b[0m\u001b[0mallow_args\u001b[0m\u001b[1;33m)\u001b[0m\u001b[1;33m)\u001b[0m\u001b[1;33m,\u001b[0m\u001b[1;33m\u001b[0m\u001b[1;33m\u001b[0m\u001b[0m\n\u001b[0;32m    328\u001b[0m                     \u001b[0mFutureWarning\u001b[0m\u001b[1;33m,\u001b[0m\u001b[1;33m\u001b[0m\u001b[1;33m\u001b[0m\u001b[0m\n\u001b[0;32m    329\u001b[0m                     \u001b[0mstacklevel\u001b[0m\u001b[1;33m=\u001b[0m\u001b[0mfind_stack_level\u001b[0m\u001b[1;33m(\u001b[0m\u001b[1;33m)\u001b[0m\u001b[1;33m,\u001b[0m\u001b[1;33m\u001b[0m\u001b[1;33m\u001b[0m\u001b[0m\n\u001b[0;32m    330\u001b[0m                 )\n\u001b[1;32m--> 331\u001b[1;33m             \u001b[1;32mreturn\u001b[0m \u001b[0mfunc\u001b[0m\u001b[1;33m(\u001b[0m\u001b[1;33m*\u001b[0m\u001b[0margs\u001b[0m\u001b[1;33m,\u001b[0m \u001b[1;33m**\u001b[0m\u001b[0mkwargs\u001b[0m\u001b[1;33m)\u001b[0m\u001b[1;33m\u001b[0m\u001b[1;33m\u001b[0m\u001b[0m\n\u001b[0m",
      "\u001b[1;32mc:\\Users\\bisal\\AppData\\Local\\miniconda3\\envs\\spt\\lib\\site-packages\\pandas\\core\\frame.py\u001b[0m in \u001b[0;36m?\u001b[1;34m(self, by, axis, ascending, inplace, kind, na_position, ignore_index, key)\u001b[0m\n\u001b[0;32m   6890\u001b[0m                 \u001b[1;34mf\" != length of by ({len(by)})\"\u001b[0m\u001b[1;33m\u001b[0m\u001b[1;33m\u001b[0m\u001b[0m\n\u001b[0;32m   6891\u001b[0m             )\n\u001b[0;32m   6892\u001b[0m         \u001b[1;32mif\u001b[0m \u001b[0mlen\u001b[0m\u001b[1;33m(\u001b[0m\u001b[0mby\u001b[0m\u001b[1;33m)\u001b[0m \u001b[1;33m>\u001b[0m \u001b[1;36m1\u001b[0m\u001b[1;33m:\u001b[0m\u001b[1;33m\u001b[0m\u001b[1;33m\u001b[0m\u001b[0m\n\u001b[0;32m   6893\u001b[0m \u001b[1;33m\u001b[0m\u001b[0m\n\u001b[1;32m-> 6894\u001b[1;33m             \u001b[0mkeys\u001b[0m \u001b[1;33m=\u001b[0m \u001b[1;33m[\u001b[0m\u001b[0mself\u001b[0m\u001b[1;33m.\u001b[0m\u001b[0m_get_label_or_level_values\u001b[0m\u001b[1;33m(\u001b[0m\u001b[0mx\u001b[0m\u001b[1;33m,\u001b[0m \u001b[0maxis\u001b[0m\u001b[1;33m=\u001b[0m\u001b[0maxis\u001b[0m\u001b[1;33m)\u001b[0m \u001b[1;32mfor\u001b[0m \u001b[0mx\u001b[0m \u001b[1;32min\u001b[0m \u001b[0mby\u001b[0m\u001b[1;33m]\u001b[0m\u001b[1;33m\u001b[0m\u001b[1;33m\u001b[0m\u001b[0m\n\u001b[0m\u001b[0;32m   6895\u001b[0m \u001b[1;33m\u001b[0m\u001b[0m\n\u001b[0;32m   6896\u001b[0m             \u001b[1;31m# need to rewrap columns in Series to apply key function\u001b[0m\u001b[1;33m\u001b[0m\u001b[1;33m\u001b[0m\u001b[0m\n\u001b[0;32m   6897\u001b[0m             \u001b[1;32mif\u001b[0m \u001b[0mkey\u001b[0m \u001b[1;32mis\u001b[0m \u001b[1;32mnot\u001b[0m \u001b[1;32mNone\u001b[0m\u001b[1;33m:\u001b[0m\u001b[1;33m\u001b[0m\u001b[1;33m\u001b[0m\u001b[0m\n",
      "\u001b[1;32mc:\\Users\\bisal\\AppData\\Local\\miniconda3\\envs\\spt\\lib\\site-packages\\pandas\\core\\frame.py\u001b[0m in \u001b[0;36m?\u001b[1;34m(.0)\u001b[0m\n\u001b[1;32m-> 6894\u001b[1;33m     def sort_values(  # type: ignore[override]\n\u001b[0m\u001b[0;32m   6895\u001b[0m         \u001b[0mself\u001b[0m\u001b[1;33m,\u001b[0m\u001b[1;33m\u001b[0m\u001b[1;33m\u001b[0m\u001b[0m\n\u001b[0;32m   6896\u001b[0m         \u001b[0mby\u001b[0m\u001b[1;33m:\u001b[0m \u001b[0mIndexLabel\u001b[0m\u001b[1;33m,\u001b[0m\u001b[1;33m\u001b[0m\u001b[1;33m\u001b[0m\u001b[0m\n\u001b[0;32m   6897\u001b[0m         \u001b[0maxis\u001b[0m\u001b[1;33m:\u001b[0m \u001b[0mAxis\u001b[0m \u001b[1;33m=\u001b[0m \u001b[1;36m0\u001b[0m\u001b[1;33m,\u001b[0m\u001b[1;33m\u001b[0m\u001b[1;33m\u001b[0m\u001b[0m\n",
      "\u001b[1;32mc:\\Users\\bisal\\AppData\\Local\\miniconda3\\envs\\spt\\lib\\site-packages\\pandas\\core\\generic.py\u001b[0m in \u001b[0;36m?\u001b[1;34m(self, key, axis)\u001b[0m\n\u001b[0;32m   1846\u001b[0m                 \u001b[1;33m.\u001b[0m\u001b[0mget_level_values\u001b[0m\u001b[1;33m(\u001b[0m\u001b[0mkey\u001b[0m\u001b[1;33m)\u001b[0m  \u001b[1;31m# type: ignore[assignment]\u001b[0m\u001b[1;33m\u001b[0m\u001b[1;33m\u001b[0m\u001b[0m\n\u001b[0;32m   1847\u001b[0m                 \u001b[1;33m.\u001b[0m\u001b[0m_values\u001b[0m\u001b[1;33m\u001b[0m\u001b[1;33m\u001b[0m\u001b[0m\n\u001b[0;32m   1848\u001b[0m             )\n\u001b[0;32m   1849\u001b[0m         \u001b[1;32melse\u001b[0m\u001b[1;33m:\u001b[0m\u001b[1;33m\u001b[0m\u001b[1;33m\u001b[0m\u001b[0m\n\u001b[1;32m-> 1850\u001b[1;33m             \u001b[1;32mraise\u001b[0m \u001b[0mKeyError\u001b[0m\u001b[1;33m(\u001b[0m\u001b[0mkey\u001b[0m\u001b[1;33m)\u001b[0m\u001b[1;33m\u001b[0m\u001b[1;33m\u001b[0m\u001b[0m\n\u001b[0m\u001b[0;32m   1851\u001b[0m \u001b[1;33m\u001b[0m\u001b[0m\n\u001b[0;32m   1852\u001b[0m         \u001b[1;31m# Check for duplicates\u001b[0m\u001b[1;33m\u001b[0m\u001b[1;33m\u001b[0m\u001b[0m\n\u001b[0;32m   1853\u001b[0m         \u001b[1;32mif\u001b[0m \u001b[0mvalues\u001b[0m\u001b[1;33m.\u001b[0m\u001b[0mndim\u001b[0m \u001b[1;33m>\u001b[0m \u001b[1;36m1\u001b[0m\u001b[1;33m:\u001b[0m\u001b[1;33m\u001b[0m\u001b[1;33m\u001b[0m\u001b[0m\n",
      "\u001b[1;31mKeyError\u001b[0m: 'trackID'"
     ]
    }
   ],
   "source": [
    "for idx in track(range(len(lst_fname_tracks))):\n",
    "    # load condensate trajectories\n",
    "    fname_track = lst_fname_tracks[idx]\n",
    "    df = pd.read_csv(fname_track)\n",
    "    df = df.sort_values(by=[\"trackID\", \"t\"])\n",
    "    # load cell boundaries within the FOV\n",
    "    fname_prefix = fname_track.split(\"_reformatted\")[0]\n",
    "    lst_cells_within_FOV = [f for f in lst_fname_cell if f.startswith(fname_prefix)]\n",
    "    lst_cell_coords = [pd.read_csv(f, sep=\"\t\", header=None) for f in lst_cells_within_FOV]\n",
    "    # Plot\n",
    "    fig, ax = plt.subplots(1, 1)\n",
    "    trackIDs = df[\"trackID\"].unique()\n",
    "    for trackID in trackIDs:\n",
    "        current_track = df[df[\"trackID\"] == trackID]\n",
    "        current_x = current_track[\"x\"].to_numpy()\n",
    "        current_y = current_track[\"y\"].to_numpy()\n",
    "        flags = current_track[\"step_flag\"].to_numpy()\n",
    "        # plot all first\n",
    "        plt.plot(\n",
    "            current_x,\n",
    "            current_y,\n",
    "            ls='-',\n",
    "            c=color_blue,\n",
    "            lw=0.3,\n",
    "        )\n",
    "\n",
    "        # false_ranges = find_consecutive_false_ranges(flags)\n",
    "        # for start, end in false_ranges:\n",
    "        #     jump_x = current_x[start : end + 1]\n",
    "        #     jump_y = current_y[start : end + 1]\n",
    "        #     plt.plot(\n",
    "        #         jump_x,\n",
    "        #         jump_y,\n",
    "        #         ls='-',\n",
    "        #         c=color_blue,\n",
    "        #         lw=0.3,\n",
    "        #     )\n",
    "\n",
    "        # overlay with red\n",
    "        true_ranges = find_consecutive_true_ranges(flags)\n",
    "        for start, end in true_ranges:\n",
    "            jump_x = current_x[start : end + 1]\n",
    "            jump_y = current_y[start : end + 1]\n",
    "            plt.plot(\n",
    "                jump_x,\n",
    "                jump_y,\n",
    "                ls='-',\n",
    "                c=color_red,\n",
    "                lw=0.3,\n",
    "            )\n",
    "\n",
    "    # plot cell coordinates\n",
    "    y_pos = 0\n",
    "    for cell_coords in lst_cell_coords:\n",
    "        x = cell_coords.iloc[:, 0].to_numpy()\n",
    "        y = cell_coords.iloc[:, 1].to_numpy()\n",
    "        plt.plot(x, y, c=\"gray\", ls=\"-\", lw=0.5)\n",
    "        # still the last closing line will be missing, get it below\n",
    "        xlast = [x[-1], x[0]]\n",
    "        ylast = [y[-1], y[0]]\n",
    "        plt.plot(xlast, ylast, c=\"gray\", ls=\"-\", lw=0.5)\n",
    "        if y_pos < y.max():\n",
    "            y_pos = y.max()\n",
    "    # add scale bar\n",
    "    scalebar_length_um = 10\n",
    "    scalebar_length_pxl = scalebar_length_um / 0.117\n",
    "    x_pos = 20\n",
    "    y_pos = y_pos + 20\n",
    "    plt.plot(\n",
    "        [x_pos, x_pos + scalebar_length_pxl],\n",
    "        [y_pos, y_pos],\n",
    "        lw=3,\n",
    "        ls=\"-\",\n",
    "        c=\"k\",\n",
    "    )\n",
    "    # adjust plot parameters\n",
    "    plt.gca().invert_yaxis()\n",
    "    plt.tight_layout()\n",
    "    plt.axis(\"scaled\")\n",
    "    plt.axis(\"off\")\n",
    "    plt.savefig(\n",
    "        fname_prefix + \"-overlay.png\",\n",
    "        format=\"png\",\n",
    "        bbox_inches=\"tight\",\n",
    "        dpi=1200,\n",
    "    )\n",
    "    plt.close()"
   ]
  },
  {
   "cell_type": "markdown",
   "id": "486d4411",
   "metadata": {},
   "source": [
    "### Single FOV"
   ]
  },
  {
   "cell_type": "code",
   "execution_count": 17,
   "id": "a3e8e9ef",
   "metadata": {},
   "outputs": [
    {
     "data": {
      "application/vnd.jupyter.widget-view+json": {
       "model_id": "8466bf5f8f4f4aed92b29018589532fc",
       "version_major": 2,
       "version_minor": 0
      },
      "text/plain": [
       "Output()"
      ]
     },
     "metadata": {},
     "output_type": "display_data"
    },
    {
     "data": {
      "text/html": [
       "<pre style=\"white-space:pre;overflow-x:auto;line-height:normal;font-family:Menlo,'DejaVu Sans Mono',consolas,'Courier New',monospace\"></pre>\n"
      ],
      "text/plain": []
     },
     "metadata": {},
     "output_type": "display_data"
    },
    {
     "data": {
      "text/html": [
       "<pre style=\"white-space:pre;overflow-x:auto;line-height:normal;font-family:Menlo,'DejaVu Sans Mono',consolas,'Courier New',monospace\">\n",
       "</pre>\n"
      ],
      "text/plain": [
       "\n"
      ]
     },
     "metadata": {},
     "output_type": "display_data"
    },
    {
     "data": {
      "image/png": "[encoded data removed]",
      "text/plain": [
       "<Figure size 640x480 with 1 Axes>"
      ]
     },
     "metadata": {},
     "output_type": "display_data"
    }
   ],
   "source": [
    "   \n",
    "idx = 0\n",
    "# load condensate trajectories\n",
    "fname_track = lst_fname_tracks[idx]\n",
    "df = pd.read_csv(fname_track)\n",
    "df = df.sort_values(by=[\"trackID\", \"t\"])\n",
    "# load cell boundaries within the FOV\n",
    "fname_prefix = fname_track.split(\"_reformatted\")[0]\n",
    "lst_cells_within_FOV = [f for f in lst_fname_cell if f.startswith(fname_prefix)]\n",
    "lst_cell_coords = [pd.read_csv(f, sep=\"\t\", header=None) for f in lst_cells_within_FOV]\n",
    "# Plot\n",
    "fig, ax = plt.subplots(1, 1)\n",
    "trackIDs = df[\"trackID\"].unique()\n",
    "for trackID in track(trackIDs):\n",
    "    current_track = df[df[\"trackID\"] == trackID]\n",
    "    current_x = current_track[\"x\"].to_numpy()\n",
    "    current_y = current_track[\"y\"].to_numpy()\n",
    "    flags = current_track[\"step_flag\"].to_numpy()\n",
    "    false_ranges = find_consecutive_false_ranges(flags)\n",
    "    for start, end in false_ranges:\n",
    "        jump_x = current_x[start : end + 1]\n",
    "        jump_y = current_y[start : end + 1]\n",
    "        plt.plot(\n",
    "            jump_x,\n",
    "            jump_y,\n",
    "            ls='-',\n",
    "            c=color_blue,\n",
    "            lw=0.3,\n",
    "        )\n",
    "\n",
    "    true_ranges = find_consecutive_true_ranges(flags)\n",
    "    for start, end in true_ranges:\n",
    "        jump_x = current_x[start : end + 1]\n",
    "        jump_y = current_y[start : end + 1]\n",
    "        plt.plot(\n",
    "            jump_x,\n",
    "            jump_y,\n",
    "            ls='-',\n",
    "            c=color_red,\n",
    "            lw=0.3,\n",
    "        )\n",
    "\n",
    "# plot cell coordinates\n",
    "y_pos = 0\n",
    "for cell_coords in lst_cell_coords:\n",
    "    x = cell_coords.iloc[:, 0].to_numpy()\n",
    "    y = cell_coords.iloc[:, 1].to_numpy()\n",
    "    plt.plot(x, y, c=\"gray\", ls=\"-\", lw=0.5)\n",
    "    # still the last closing line will be missing, get it below\n",
    "    xlast = [x[-1], x[0]]\n",
    "    ylast = [y[-1], y[0]]\n",
    "    plt.plot(xlast, ylast, c=\"gray\", ls=\"-\", lw=0.5)\n",
    "    if y_pos < y.max():\n",
    "        y_pos = y.max()\n",
    "# add scale bar\n",
    "scalebar_length_um = 10\n",
    "scalebar_length_pxl = scalebar_length_um / 0.117\n",
    "x_pos = 20\n",
    "y_pos = y_pos + 20\n",
    "plt.plot(\n",
    "    [x_pos, x_pos + scalebar_length_pxl],\n",
    "    [y_pos, y_pos],\n",
    "    lw=3,\n",
    "    ls=\"-\",\n",
    "    c=\"k\",\n",
    ")\n",
    "# adjust plot parameters\n",
    "plt.gca().invert_yaxis()\n",
    "plt.tight_layout()\n",
    "plt.axis(\"scaled\")\n",
    "plt.axis(\"off\")\n",
    "plt.savefig(\n",
    "    fname_prefix + \"-overlay.png\",\n",
    "    format=\"png\",\n",
    "    bbox_inches=\"tight\",\n",
    "    dpi=1200,\n",
    ")"
   ]
  },
  {
   "cell_type": "code",
   "execution_count": null,
   "id": "b91d6a68",
   "metadata": {},
   "outputs": [],
   "source": []
  }
 ],
 "metadata": {
  "kernelspec": {
   "display_name": "spt",
   "language": "python",
   "name": "python3"
  },
  "language_info": {
   "codemirror_mode": {
    "name": "ipython",
    "version": 3
   },
   "file_extension": ".py",
   "mimetype": "text/x-python",
   "name": "python",
   "nbconvert_exporter": "python",
   "pygments_lexer": "ipython3",
   "version": "3.9.18"
  }
 },
 "nbformat": 4,
 "nbformat_minor": 5
}

{
 "cells": [
  {
   "cell_type": "code",
   "execution_count": 6,
   "metadata": {},
   "outputs": [],
   "source": [
    "from tifffile import imwrite\n",
    "from tkinter import filedialog as fd\n",
    "import os\n",
    "from os.path import dirname, basename\n",
    "from scipy.ndimage import gaussian_filter\n",
    "import matplotlib\n",
    "import matplotlib.pyplot as plt\n",
    "import numpy as np\n",
    "import pandas as pd\n",
    "from rich.progress import track\n",
    "\n",
    "# matplotlib.use(\"Agg\")\n",
    "pd.options.mode.chained_assignment = None  # default='warn'"
   ]
  },
  {
   "cell_type": "code",
   "execution_count": 12,
   "metadata": {},
   "outputs": [],
   "source": [
    "def spots2heatmap(df, scaling_factor, xedges, yedges, tracklength_threshold):\n",
    "    df_single_frame_spots = df[df[\"trackID\"].isna()]\n",
    "    img_spots, _, _ = np.histogram2d(\n",
    "        x=df_single_frame_spots[\"x\"].to_numpy(float) * scaling_factor,\n",
    "        y=df_single_frame_spots[\"y\"].to_numpy(float) * scaling_factor,\n",
    "        bins=(xedges, yedges),\n",
    "    )\n",
    "\n",
    "    lst_tracklength = []\n",
    "    # tracks\n",
    "    df_tracks = df[df[\"trackID\"].notna()]\n",
    "    all_trackID = df_tracks[\"trackID\"].unique()\n",
    "    lst_of_arr_x = []\n",
    "    lst_of_arr_y = []\n",
    "    for trackID in track(all_trackID, description=\"Reconstruction\"):\n",
    "        df_current = df_tracks[df_tracks[\"trackID\"] == trackID]\n",
    "        lst_tracklength.append(df_current.shape[0])\n",
    "        # for short tracks, treat as spots\n",
    "        if df_current.shape[0] <= tracklength_threshold:\n",
    "            lst_of_arr_x.append(df_current[\"x\"].to_numpy(float) * scaling_factor)\n",
    "            lst_of_arr_y.append(df_current[\"y\"].to_numpy(float) * scaling_factor)\n",
    "            continue\n",
    "        # for long tracks, randomly pick tracklength_threshold number of spots\n",
    "        else:\n",
    "            chosen_idx = np.random.choice(df_current.shape[0], tracklength_threshold)\n",
    "            lst_of_arr_x.append(\n",
    "                df_current.iloc[chosen_idx][\"x\"].to_numpy(float) * scaling_factor\n",
    "            )\n",
    "            lst_of_arr_y.append(\n",
    "                df_current.iloc[chosen_idx][\"y\"].to_numpy(float) * scaling_factor\n",
    "            )\n",
    "            continue\n",
    "\n",
    "    img_tracks, _, _ = np.histogram2d(\n",
    "        x=np.hstack(lst_of_arr_x),\n",
    "        y=np.hstack(lst_of_arr_y),\n",
    "        bins=(xedges, yedges),\n",
    "    )\n",
    "\n",
    "    heatmap = img_spots + img_tracks\n",
    "\n",
    "    return heatmap"
   ]
  },
  {
   "cell_type": "code",
   "execution_count": 23,
   "metadata": {},
   "outputs": [
    {
     "data": {
      "application/vnd.jupyter.widget-view+json": {
       "model_id": "ce151fab71c648a997c03685130c0def",
       "version_major": 2,
       "version_minor": 0
      },
      "text/plain": [
       "Output()"
      ]
     },
     "metadata": {},
     "output_type": "display_data"
    },
    {
     "data": {
      "text/html": [
       "<pre style=\"white-space:pre;overflow-x:auto;line-height:normal;font-family:Menlo,'DejaVu Sans Mono',consolas,'Courier New',monospace\"></pre>\n"
      ],
      "text/plain": []
     },
     "metadata": {},
     "output_type": "display_data"
    },
    {
     "data": {
      "text/html": [
       "<pre style=\"white-space:pre;overflow-x:auto;line-height:normal;font-family:Menlo,'DejaVu Sans Mono',consolas,'Courier New',monospace\">\n",
       "</pre>\n"
      ],
      "text/plain": [
       "\n"
      ]
     },
     "metadata": {},
     "output_type": "display_data"
    }
   ],
   "source": [
    "folder = \"/Users/GGM/Library/CloudStorage/Dropbox/UMich_PhD/Writing/PhD_Publications/Walter-Compartmentalized_Cytosol_under_Hyperosmotic/GEM_HOPS Cotracking/Representative image\"\n",
    "os.chdir(folder)\n",
    "fname = \"wholeFOV_GEM_spots_reformatted.csv\"\n",
    "\n",
    "time_cutoff = 0  # remove the first 200 frames of tracking\n",
    "tracklength_threshold = 5  # distinguish long versus short tracks\n",
    "\n",
    "um_per_pixel = 0.117\n",
    "scaling_factor = 2\n",
    "um_per_pixel_PAINT = um_per_pixel / scaling_factor\n",
    "xpixels = 425\n",
    "ypixels = 350\n",
    "xedges = np.arange((xpixels + 1) * scaling_factor)\n",
    "yedges = np.arange((ypixels + 1) * scaling_factor)\n",
    "\n",
    "df = pd.read_csv(fname)\n",
    "df = df[df[\"t\"] >= time_cutoff]\n",
    "heatmap = spots2heatmap(df, scaling_factor, xedges, yedges, tracklength_threshold)\n",
    "imwrite(fname[:-4] + \"-heatmap.tif\", np.swapaxes(heatmap, 0, 1))"
   ]
  },
  {
   "cell_type": "code",
   "execution_count": 24,
   "metadata": {},
   "outputs": [
    {
     "data": {
      "application/vnd.jupyter.widget-view+json": {
       "model_id": "2e1e10e846e340bd83fe3a61efa2538b",
       "version_major": 2,
       "version_minor": 0
      },
      "text/plain": [
       "Output()"
      ]
     },
     "metadata": {},
     "output_type": "display_data"
    },
    {
     "data": {
      "text/html": [
       "<pre style=\"white-space:pre;overflow-x:auto;line-height:normal;font-family:Menlo,'DejaVu Sans Mono',consolas,'Courier New',monospace\"></pre>\n"
      ],
      "text/plain": []
     },
     "metadata": {},
     "output_type": "display_data"
    },
    {
     "data": {
      "text/html": [
       "<pre style=\"white-space:pre;overflow-x:auto;line-height:normal;font-family:Menlo,'DejaVu Sans Mono',consolas,'Courier New',monospace\">\n",
       "</pre>\n"
      ],
      "text/plain": [
       "\n"
      ]
     },
     "metadata": {},
     "output_type": "display_data"
    }
   ],
   "source": [
    "fname = \"cropped-C2-GEM_spots_reformatted.csv\"\n",
    "\n",
    "time_cutoff = 0  # remove the first 200 frames of tracking\n",
    "tracklength_threshold = 5  # distinguish long versus short tracks\n",
    "\n",
    "um_per_pixel = 0.117\n",
    "scaling_factor = 2\n",
    "um_per_pixel_PAINT = um_per_pixel / scaling_factor\n",
    "xpixels = 50\n",
    "ypixels = 50\n",
    "xedges = np.arange((xpixels + 1) * scaling_factor)\n",
    "yedges = np.arange((ypixels + 1) * scaling_factor)\n",
    "\n",
    "df = pd.read_csv(fname)\n",
    "df = df[df[\"t\"] >= time_cutoff]\n",
    "heatmap = spots2heatmap(df, scaling_factor, xedges, yedges, tracklength_threshold)\n",
    "imwrite(fname[:-4] + \"-heatmap.tif\", np.swapaxes(heatmap, 0, 1))"
   ]
  },
  {
   "cell_type": "code",
   "execution_count": null,
   "metadata": {},
   "outputs": [],
   "source": []
  }
 ],
 "metadata": {
  "kernelspec": {
   "display_name": "spt",
   "language": "python",
   "name": "python3"
  },
  "language_info": {
   "codemirror_mode": {
    "name": "ipython",
    "version": 3
   },
   "file_extension": ".py",
   "mimetype": "text/x-python",
   "name": "python",
   "nbconvert_exporter": "python",
   "pygments_lexer": "ipython3",
   "version": "3.9.18"
  }
 },
 "nbformat": 4,
 "nbformat_minor": 2
}

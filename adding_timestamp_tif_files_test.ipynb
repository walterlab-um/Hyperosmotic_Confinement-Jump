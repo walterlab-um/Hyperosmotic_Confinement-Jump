{
 "cells": [
  {
   "cell_type": "code",
   "execution_count": null,
   "metadata": {},
   "outputs": [],
   "source": []
  },
  {
   "cell_type": "code",
   "execution_count": null,
   "metadata": {},
   "outputs": [],
   "source": [
    "import os\n",
    "from os.path import join\n",
    "import matplotlib.pyplot as plt\n",
    "from tifffile import imread\n",
    "from matplotlib.animation import FuncAnimation\n",
    "import matplotlib.animation as animation\n",
    "\n",
    "# Configuration parameters\n",
    "s_per_frame = 2\n",
    "folder_data = r\"Z:\\Bisal_Halder_turbo\\Gateway Exam\"\n",
    "folder_save = folder_data\n",
    "\n",
    "tif_filename = \"20240118_UGD-2x-2s-replicate1-FOV-2.tif\"\n",
    "\n",
    "# Load the data\n",
    "os.chdir(folder_data)\n",
    "video = imread(tif_filename)\n",
    "\n",
    "# Check that the video data is loaded correctly\n",
    "print(f\"Video shape: {video.shape}\")\n",
    "print(\"Frame 0 sample data (min, max):\", video[0].min(), video[0].max())\n",
    "\n",
    "\n",
    "def animate(frame):\n",
    "    fig, ax = plt.subplots(1, 1, facecolor=\"white\", edgecolor=\"white\")\n",
    "\n",
    "    # Display the image\n",
    "    img = video[frame, :, :]  # Adjusted zero-based indexing\n",
    "    print(f\"Animating frame {frame} with min {img.min()} and max {img.max()}\")\n",
    "    ax.imshow(img, cmap=\"gray\", vmin=img.min(), vmax=img.max())  # Ensure dynamic range\n",
    "\n",
    "    # Add time stamp\n",
    "    ax.text(\n",
    "        img.shape[1] - 100,\n",
    "        30,\n",
    "        f\"{round((frame + 1) * s_per_frame, 2)} s\",  # Frame + 1 to mimic one-based count\n",
    "        color=\"white\",\n",
    "        weight=\"bold\",\n",
    "        size=14,\n",
    "    )\n",
    "\n",
    "    # Set viewing area and display configurations\n",
    "    ax.axis(\"off\")\n",
    "\n",
    "    # Close figure after rendering\n",
    "    plt.close(fig)\n",
    "    return (fig,)\n",
    "\n",
    "\n",
    "# Create video\n",
    "ani = FuncAnimation(plt.figure(), animate, frames=len(video), interval=20, repeat=False)\n",
    "writer = animation.FFMpegWriter(fps=20)\n",
    "ani.save(join(folder_save, \"Video_Timestamped.mp4\"), writer=writer, dpi=600)\n"
   ]
  }
 ],
 "metadata": {
  "kernelspec": {
   "display_name": "spt-simplified-20240126",
   "language": "python",
   "name": "python3"
  },
  "language_info": {
   "name": "python",
   "version": "3.9.18"
  }
 },
 "nbformat": 4,
 "nbformat_minor": 2
}
